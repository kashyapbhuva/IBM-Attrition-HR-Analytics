{
 "cells": [
  {
   "cell_type": "code",
   "execution_count": 63,
   "metadata": {},
   "outputs": [
    {
     "data": {
      "text/html": [
       "'C:/Users/Kashyar/Documents/datasetsforproj/IBM attrition'"
      ],
      "text/latex": [
       "'C:/Users/Kashyar/Documents/datasetsforproj/IBM attrition'"
      ],
      "text/markdown": [
       "'C:/Users/Kashyar/Documents/datasetsforproj/IBM attrition'"
      ],
      "text/plain": [
       "[1] \"C:/Users/Kashyar/Documents/datasetsforproj/IBM attrition\""
      ]
     },
     "metadata": {},
     "output_type": "display_data"
    },
    {
     "data": {
      "text/html": [
       "'C:/Users/Kashyar/Documents/datasetsforproj/IBM attrition'"
      ],
      "text/latex": [
       "'C:/Users/Kashyar/Documents/datasetsforproj/IBM attrition'"
      ],
      "text/markdown": [
       "'C:/Users/Kashyar/Documents/datasetsforproj/IBM attrition'"
      ],
      "text/plain": [
       "[1] \"C:/Users/Kashyar/Documents/datasetsforproj/IBM attrition\""
      ]
     },
     "metadata": {},
     "output_type": "display_data"
    }
   ],
   "source": [
    "getwd()\n",
    "setwd('C:\\\\Users\\\\Kashyar\\\\Documents\\\\datasetsforproj\\\\IBM attrition')\n",
    "getwd()\n"
   ]
  },
  {
   "cell_type": "code",
   "execution_count": 64,
   "metadata": {},
   "outputs": [
    {
     "data": {
      "text/html": [
       "<table>\n",
       "<thead><tr><th scope=col>ï..Age</th><th scope=col>Attrition</th><th scope=col>BusinessTravel</th><th scope=col>DailyRate</th><th scope=col>Department</th><th scope=col>DistanceFromHome</th><th scope=col>Education</th><th scope=col>EducationField</th><th scope=col>EmployeeCount</th><th scope=col>EmployeeNumber</th><th scope=col>...</th><th scope=col>RelationshipSatisfaction</th><th scope=col>StandardHours</th><th scope=col>StockOptionLevel</th><th scope=col>TotalWorkingYears</th><th scope=col>TrainingTimesLastYear</th><th scope=col>WorkLifeBalance</th><th scope=col>YearsAtCompany</th><th scope=col>YearsInCurrentRole</th><th scope=col>YearsSinceLastPromotion</th><th scope=col>YearsWithCurrManager</th></tr></thead>\n",
       "<tbody>\n",
       "\t<tr><td>41                    </td><td>Yes                   </td><td>Travel_Rarely         </td><td>1102                  </td><td>Sales                 </td><td>1                     </td><td>2                     </td><td>Life Sciences         </td><td>1                     </td><td>1                     </td><td>...                   </td><td>1                     </td><td>80                    </td><td>0                     </td><td> 8                    </td><td>0                     </td><td>1                     </td><td> 6                    </td><td>4                     </td><td>0                     </td><td>5                     </td></tr>\n",
       "\t<tr><td>49                        </td><td>No                        </td><td>Travel_Frequently         </td><td> 279                      </td><td>Research &amp; Development</td><td>8                         </td><td>1                         </td><td>Life Sciences             </td><td>1                         </td><td>2                         </td><td>...                       </td><td>4                         </td><td>80                        </td><td>1                         </td><td>10                        </td><td>3                         </td><td>3                         </td><td>10                        </td><td>7                         </td><td>1                         </td><td>7                         </td></tr>\n",
       "\t<tr><td>37                                                       </td><td>Yes                                                      </td><td><span style=white-space:pre-wrap>Travel_Rarely    </span></td><td>1373                                                     </td><td>Research &amp; Development                               </td><td>2                                                        </td><td>2                                                        </td><td><span style=white-space:pre-wrap>Other        </span>    </td><td>1                                                        </td><td>4                                                        </td><td>...                                                      </td><td>2                                                        </td><td>80                                                       </td><td>0                                                        </td><td> 7                                                       </td><td>3                                                        </td><td>3                                                        </td><td> 0                                                       </td><td>0                                                        </td><td>0                                                        </td><td>0                                                        </td></tr>\n",
       "\t<tr><td>33                        </td><td>No                        </td><td>Travel_Frequently         </td><td>1392                      </td><td>Research &amp; Development</td><td>3                         </td><td>4                         </td><td>Life Sciences             </td><td>1                         </td><td>5                         </td><td>...                       </td><td>3                         </td><td>80                        </td><td>0                         </td><td> 8                        </td><td>3                         </td><td>3                         </td><td> 8                        </td><td>7                         </td><td>3                         </td><td>0                         </td></tr>\n",
       "\t<tr><td>27                                                       </td><td>No                                                       </td><td><span style=white-space:pre-wrap>Travel_Rarely    </span></td><td> 591                                                     </td><td>Research &amp; Development                               </td><td>2                                                        </td><td>1                                                        </td><td><span style=white-space:pre-wrap>Medical      </span>    </td><td>1                                                        </td><td>7                                                        </td><td>...                                                      </td><td>4                                                        </td><td>80                                                       </td><td>1                                                        </td><td> 6                                                       </td><td>3                                                        </td><td>3                                                        </td><td> 2                                                       </td><td>2                                                        </td><td>2                                                        </td><td>2                                                        </td></tr>\n",
       "\t<tr><td>32                        </td><td>No                        </td><td>Travel_Frequently         </td><td>1005                      </td><td>Research &amp; Development</td><td>2                         </td><td>2                         </td><td>Life Sciences             </td><td>1                         </td><td>8                         </td><td>...                       </td><td>3                         </td><td>80                        </td><td>0                         </td><td> 8                        </td><td>2                         </td><td>2                         </td><td> 7                        </td><td>7                         </td><td>3                         </td><td>6                         </td></tr>\n",
       "</tbody>\n",
       "</table>\n"
      ],
      "text/latex": [
       "\\begin{tabular}{r|lllllllllllllllllllllllllllllllllll}\n",
       " ï..Age & Attrition & BusinessTravel & DailyRate & Department & DistanceFromHome & Education & EducationField & EmployeeCount & EmployeeNumber & ... & RelationshipSatisfaction & StandardHours & StockOptionLevel & TotalWorkingYears & TrainingTimesLastYear & WorkLifeBalance & YearsAtCompany & YearsInCurrentRole & YearsSinceLastPromotion & YearsWithCurrManager\\\\\n",
       "\\hline\n",
       "\t 41                     & Yes                    & Travel\\_Rarely        & 1102                   & Sales                  & 1                      & 2                      & Life Sciences          & 1                      & 1                      & ...                    & 1                      & 80                     & 0                      &  8                     & 0                      & 1                      &  6                     & 4                      & 0                      & 5                     \\\\\n",
       "\t 49                       & No                       & Travel\\_Frequently      &  279                     & Research \\& Development & 8                        & 1                        & Life Sciences            & 1                        & 2                        & ...                      & 4                        & 80                       & 1                        & 10                       & 3                        & 3                        & 10                       & 7                        & 1                        & 7                       \\\\\n",
       "\t 37                       & Yes                      & Travel\\_Rarely          & 1373                     & Research \\& Development & 2                        & 2                        & Other                    & 1                        & 4                        & ...                      & 2                        & 80                       & 0                        &  7                       & 3                        & 3                        &  0                       & 0                        & 0                        & 0                       \\\\\n",
       "\t 33                       & No                       & Travel\\_Frequently      & 1392                     & Research \\& Development & 3                        & 4                        & Life Sciences            & 1                        & 5                        & ...                      & 3                        & 80                       & 0                        &  8                       & 3                        & 3                        &  8                       & 7                        & 3                        & 0                       \\\\\n",
       "\t 27                       & No                       & Travel\\_Rarely          &  591                     & Research \\& Development & 2                        & 1                        & Medical                  & 1                        & 7                        & ...                      & 4                        & 80                       & 1                        &  6                       & 3                        & 3                        &  2                       & 2                        & 2                        & 2                       \\\\\n",
       "\t 32                       & No                       & Travel\\_Frequently      & 1005                     & Research \\& Development & 2                        & 2                        & Life Sciences            & 1                        & 8                        & ...                      & 3                        & 80                       & 0                        &  8                       & 2                        & 2                        &  7                       & 7                        & 3                        & 6                       \\\\\n",
       "\\end{tabular}\n"
      ],
      "text/markdown": [
       "\n",
       "ï..Age | Attrition | BusinessTravel | DailyRate | Department | DistanceFromHome | Education | EducationField | EmployeeCount | EmployeeNumber | ... | RelationshipSatisfaction | StandardHours | StockOptionLevel | TotalWorkingYears | TrainingTimesLastYear | WorkLifeBalance | YearsAtCompany | YearsInCurrentRole | YearsSinceLastPromotion | YearsWithCurrManager | \n",
       "|---|---|---|---|---|---|\n",
       "| 41                     | Yes                    | Travel_Rarely          | 1102                   | Sales                  | 1                      | 2                      | Life Sciences          | 1                      | 1                      | ...                    | 1                      | 80                     | 0                      |  8                     | 0                      | 1                      |  6                     | 4                      | 0                      | 5                      | \n",
       "| 49                     | No                     | Travel_Frequently      |  279                   | Research & Development | 8                      | 1                      | Life Sciences          | 1                      | 2                      | ...                    | 4                      | 80                     | 1                      | 10                     | 3                      | 3                      | 10                     | 7                      | 1                      | 7                      | \n",
       "| 37                     | Yes                    | Travel_Rarely          | 1373                   | Research & Development | 2                      | 2                      | Other                  | 1                      | 4                      | ...                    | 2                      | 80                     | 0                      |  7                     | 3                      | 3                      |  0                     | 0                      | 0                      | 0                      | \n",
       "| 33                     | No                     | Travel_Frequently      | 1392                   | Research & Development | 3                      | 4                      | Life Sciences          | 1                      | 5                      | ...                    | 3                      | 80                     | 0                      |  8                     | 3                      | 3                      |  8                     | 7                      | 3                      | 0                      | \n",
       "| 27                     | No                     | Travel_Rarely          |  591                   | Research & Development | 2                      | 1                      | Medical                | 1                      | 7                      | ...                    | 4                      | 80                     | 1                      |  6                     | 3                      | 3                      |  2                     | 2                      | 2                      | 2                      | \n",
       "| 32                     | No                     | Travel_Frequently      | 1005                   | Research & Development | 2                      | 2                      | Life Sciences          | 1                      | 8                      | ...                    | 3                      | 80                     | 0                      |  8                     | 2                      | 2                      |  7                     | 7                      | 3                      | 6                      | \n",
       "\n",
       "\n"
      ],
      "text/plain": [
       "  ï..Age Attrition BusinessTravel    DailyRate Department            \n",
       "1 41     Yes       Travel_Rarely     1102      Sales                 \n",
       "2 49     No        Travel_Frequently  279      Research & Development\n",
       "3 37     Yes       Travel_Rarely     1373      Research & Development\n",
       "4 33     No        Travel_Frequently 1392      Research & Development\n",
       "5 27     No        Travel_Rarely      591      Research & Development\n",
       "6 32     No        Travel_Frequently 1005      Research & Development\n",
       "  DistanceFromHome Education EducationField EmployeeCount EmployeeNumber ...\n",
       "1 1                2         Life Sciences  1             1              ...\n",
       "2 8                1         Life Sciences  1             2              ...\n",
       "3 2                2         Other          1             4              ...\n",
       "4 3                4         Life Sciences  1             5              ...\n",
       "5 2                1         Medical        1             7              ...\n",
       "6 2                2         Life Sciences  1             8              ...\n",
       "  RelationshipSatisfaction StandardHours StockOptionLevel TotalWorkingYears\n",
       "1 1                        80            0                 8               \n",
       "2 4                        80            1                10               \n",
       "3 2                        80            0                 7               \n",
       "4 3                        80            0                 8               \n",
       "5 4                        80            1                 6               \n",
       "6 3                        80            0                 8               \n",
       "  TrainingTimesLastYear WorkLifeBalance YearsAtCompany YearsInCurrentRole\n",
       "1 0                     1                6             4                 \n",
       "2 3                     3               10             7                 \n",
       "3 3                     3                0             0                 \n",
       "4 3                     3                8             7                 \n",
       "5 3                     3                2             2                 \n",
       "6 2                     2                7             7                 \n",
       "  YearsSinceLastPromotion YearsWithCurrManager\n",
       "1 0                       5                   \n",
       "2 1                       7                   \n",
       "3 0                       0                   \n",
       "4 3                       0                   \n",
       "5 2                       2                   \n",
       "6 3                       6                   "
      ]
     },
     "metadata": {},
     "output_type": "display_data"
    },
    {
     "data": {
      "text/html": [
       "<ol class=list-inline>\n",
       "\t<li>1470</li>\n",
       "\t<li>35</li>\n",
       "</ol>\n"
      ],
      "text/latex": [
       "\\begin{enumerate*}\n",
       "\\item 1470\n",
       "\\item 35\n",
       "\\end{enumerate*}\n"
      ],
      "text/markdown": [
       "1. 1470\n",
       "2. 35\n",
       "\n",
       "\n"
      ],
      "text/plain": [
       "[1] 1470   35"
      ]
     },
     "metadata": {},
     "output_type": "display_data"
    }
   ],
   "source": [
    "hrdata<- read.csv(\"WA_Fn-UseC_-HR-Employee-Attrition.csv\")\n",
    "head(hrdata)\n",
    "dim(hrdata)"
   ]
  },
  {
   "cell_type": "code",
   "execution_count": 65,
   "metadata": {},
   "outputs": [],
   "source": [
    "library(dplyr)\n",
    "\n",
    "library(corrplot)\n",
    "library(caTools)\n"
   ]
  },
  {
   "cell_type": "code",
   "execution_count": 66,
   "metadata": {},
   "outputs": [
    {
     "data": {
      "text/html": [
       "<dl class=dl-horizontal>\n",
       "\t<dt>ï..Age</dt>\n",
       "\t\t<dd>0</dd>\n",
       "\t<dt>Attrition</dt>\n",
       "\t\t<dd>0</dd>\n",
       "\t<dt>BusinessTravel</dt>\n",
       "\t\t<dd>0</dd>\n",
       "\t<dt>DailyRate</dt>\n",
       "\t\t<dd>0</dd>\n",
       "\t<dt>Department</dt>\n",
       "\t\t<dd>0</dd>\n",
       "\t<dt>DistanceFromHome</dt>\n",
       "\t\t<dd>0</dd>\n",
       "\t<dt>Education</dt>\n",
       "\t\t<dd>0</dd>\n",
       "\t<dt>EducationField</dt>\n",
       "\t\t<dd>0</dd>\n",
       "\t<dt>EmployeeCount</dt>\n",
       "\t\t<dd>0</dd>\n",
       "\t<dt>EmployeeNumber</dt>\n",
       "\t\t<dd>0</dd>\n",
       "\t<dt>EnvironmentSatisfaction</dt>\n",
       "\t\t<dd>0</dd>\n",
       "\t<dt>Gender</dt>\n",
       "\t\t<dd>0</dd>\n",
       "\t<dt>HourlyRate</dt>\n",
       "\t\t<dd>0</dd>\n",
       "\t<dt>JobInvolvement</dt>\n",
       "\t\t<dd>0</dd>\n",
       "\t<dt>JobLevel</dt>\n",
       "\t\t<dd>0</dd>\n",
       "\t<dt>JobRole</dt>\n",
       "\t\t<dd>0</dd>\n",
       "\t<dt>JobSatisfaction</dt>\n",
       "\t\t<dd>0</dd>\n",
       "\t<dt>MaritalStatus</dt>\n",
       "\t\t<dd>0</dd>\n",
       "\t<dt>MonthlyIncome</dt>\n",
       "\t\t<dd>0</dd>\n",
       "\t<dt>MonthlyRate</dt>\n",
       "\t\t<dd>0</dd>\n",
       "\t<dt>NumCompaniesWorked</dt>\n",
       "\t\t<dd>0</dd>\n",
       "\t<dt>Over18</dt>\n",
       "\t\t<dd>0</dd>\n",
       "\t<dt>OverTime</dt>\n",
       "\t\t<dd>0</dd>\n",
       "\t<dt>PercentSalaryHike</dt>\n",
       "\t\t<dd>0</dd>\n",
       "\t<dt>PerformanceRating</dt>\n",
       "\t\t<dd>0</dd>\n",
       "\t<dt>RelationshipSatisfaction</dt>\n",
       "\t\t<dd>0</dd>\n",
       "\t<dt>StandardHours</dt>\n",
       "\t\t<dd>0</dd>\n",
       "\t<dt>StockOptionLevel</dt>\n",
       "\t\t<dd>0</dd>\n",
       "\t<dt>TotalWorkingYears</dt>\n",
       "\t\t<dd>0</dd>\n",
       "\t<dt>TrainingTimesLastYear</dt>\n",
       "\t\t<dd>0</dd>\n",
       "\t<dt>WorkLifeBalance</dt>\n",
       "\t\t<dd>0</dd>\n",
       "\t<dt>YearsAtCompany</dt>\n",
       "\t\t<dd>0</dd>\n",
       "\t<dt>YearsInCurrentRole</dt>\n",
       "\t\t<dd>0</dd>\n",
       "\t<dt>YearsSinceLastPromotion</dt>\n",
       "\t\t<dd>0</dd>\n",
       "\t<dt>YearsWithCurrManager</dt>\n",
       "\t\t<dd>0</dd>\n",
       "</dl>\n"
      ],
      "text/latex": [
       "\\begin{description*}\n",
       "\\item[ï..Age] 0\n",
       "\\item[Attrition] 0\n",
       "\\item[BusinessTravel] 0\n",
       "\\item[DailyRate] 0\n",
       "\\item[Department] 0\n",
       "\\item[DistanceFromHome] 0\n",
       "\\item[Education] 0\n",
       "\\item[EducationField] 0\n",
       "\\item[EmployeeCount] 0\n",
       "\\item[EmployeeNumber] 0\n",
       "\\item[EnvironmentSatisfaction] 0\n",
       "\\item[Gender] 0\n",
       "\\item[HourlyRate] 0\n",
       "\\item[JobInvolvement] 0\n",
       "\\item[JobLevel] 0\n",
       "\\item[JobRole] 0\n",
       "\\item[JobSatisfaction] 0\n",
       "\\item[MaritalStatus] 0\n",
       "\\item[MonthlyIncome] 0\n",
       "\\item[MonthlyRate] 0\n",
       "\\item[NumCompaniesWorked] 0\n",
       "\\item[Over18] 0\n",
       "\\item[OverTime] 0\n",
       "\\item[PercentSalaryHike] 0\n",
       "\\item[PerformanceRating] 0\n",
       "\\item[RelationshipSatisfaction] 0\n",
       "\\item[StandardHours] 0\n",
       "\\item[StockOptionLevel] 0\n",
       "\\item[TotalWorkingYears] 0\n",
       "\\item[TrainingTimesLastYear] 0\n",
       "\\item[WorkLifeBalance] 0\n",
       "\\item[YearsAtCompany] 0\n",
       "\\item[YearsInCurrentRole] 0\n",
       "\\item[YearsSinceLastPromotion] 0\n",
       "\\item[YearsWithCurrManager] 0\n",
       "\\end{description*}\n"
      ],
      "text/markdown": [
       "ï..Age\n",
       ":   0Attrition\n",
       ":   0BusinessTravel\n",
       ":   0DailyRate\n",
       ":   0Department\n",
       ":   0DistanceFromHome\n",
       ":   0Education\n",
       ":   0EducationField\n",
       ":   0EmployeeCount\n",
       ":   0EmployeeNumber\n",
       ":   0EnvironmentSatisfaction\n",
       ":   0Gender\n",
       ":   0HourlyRate\n",
       ":   0JobInvolvement\n",
       ":   0JobLevel\n",
       ":   0JobRole\n",
       ":   0JobSatisfaction\n",
       ":   0MaritalStatus\n",
       ":   0MonthlyIncome\n",
       ":   0MonthlyRate\n",
       ":   0NumCompaniesWorked\n",
       ":   0Over18\n",
       ":   0OverTime\n",
       ":   0PercentSalaryHike\n",
       ":   0PerformanceRating\n",
       ":   0RelationshipSatisfaction\n",
       ":   0StandardHours\n",
       ":   0StockOptionLevel\n",
       ":   0TotalWorkingYears\n",
       ":   0TrainingTimesLastYear\n",
       ":   0WorkLifeBalance\n",
       ":   0YearsAtCompany\n",
       ":   0YearsInCurrentRole\n",
       ":   0YearsSinceLastPromotion\n",
       ":   0YearsWithCurrManager\n",
       ":   0\n",
       "\n"
      ],
      "text/plain": [
       "                  ï..Age                Attrition           BusinessTravel \n",
       "                       0                        0                        0 \n",
       "               DailyRate               Department         DistanceFromHome \n",
       "                       0                        0                        0 \n",
       "               Education           EducationField            EmployeeCount \n",
       "                       0                        0                        0 \n",
       "          EmployeeNumber  EnvironmentSatisfaction                   Gender \n",
       "                       0                        0                        0 \n",
       "              HourlyRate           JobInvolvement                 JobLevel \n",
       "                       0                        0                        0 \n",
       "                 JobRole          JobSatisfaction            MaritalStatus \n",
       "                       0                        0                        0 \n",
       "           MonthlyIncome              MonthlyRate       NumCompaniesWorked \n",
       "                       0                        0                        0 \n",
       "                  Over18                 OverTime        PercentSalaryHike \n",
       "                       0                        0                        0 \n",
       "       PerformanceRating RelationshipSatisfaction            StandardHours \n",
       "                       0                        0                        0 \n",
       "        StockOptionLevel        TotalWorkingYears    TrainingTimesLastYear \n",
       "                       0                        0                        0 \n",
       "         WorkLifeBalance           YearsAtCompany       YearsInCurrentRole \n",
       "                       0                        0                        0 \n",
       " YearsSinceLastPromotion     YearsWithCurrManager \n",
       "                       0                        0 "
      ]
     },
     "metadata": {},
     "output_type": "display_data"
    }
   ],
   "source": [
    "# Check for missing values\n",
    "\n",
    "sapply(hrdata,function(inp){return(sum(is.na(inp)))})\n"
   ]
  },
  {
   "cell_type": "code",
   "execution_count": 67,
   "metadata": {},
   "outputs": [
    {
     "data": {
      "text/html": [
       "<table>\n",
       "<thead><tr><th scope=col>ï..Age</th><th scope=col>Attrition</th><th scope=col>BusinessTravel</th><th scope=col>DailyRate</th><th scope=col>Department</th><th scope=col>DistanceFromHome</th><th scope=col>Education</th><th scope=col>EducationField</th><th scope=col>EmployeeCount</th><th scope=col>EmployeeNumber</th><th scope=col>...</th><th scope=col>RelationshipSatisfaction</th><th scope=col>StandardHours</th><th scope=col>StockOptionLevel</th><th scope=col>TotalWorkingYears</th><th scope=col>TrainingTimesLastYear</th><th scope=col>WorkLifeBalance</th><th scope=col>YearsAtCompany</th><th scope=col>YearsInCurrentRole</th><th scope=col>YearsSinceLastPromotion</th><th scope=col>YearsWithCurrManager</th></tr></thead>\n",
       "<tbody>\n",
       "\t<tr><td>41                    </td><td>Yes                   </td><td>Travel_Rarely         </td><td>1102                  </td><td>Sales                 </td><td>1                     </td><td>2                     </td><td>Life Sciences         </td><td>1                     </td><td>1                     </td><td>...                   </td><td>1                     </td><td>80                    </td><td>0                     </td><td> 8                    </td><td>0                     </td><td>1                     </td><td> 6                    </td><td>4                     </td><td>0                     </td><td>5                     </td></tr>\n",
       "\t<tr><td>49                        </td><td>No                        </td><td>Travel_Frequently         </td><td> 279                      </td><td>Research &amp; Development</td><td>8                         </td><td>1                         </td><td>Life Sciences             </td><td>1                         </td><td>2                         </td><td>...                       </td><td>4                         </td><td>80                        </td><td>1                         </td><td>10                        </td><td>3                         </td><td>3                         </td><td>10                        </td><td>7                         </td><td>1                         </td><td>7                         </td></tr>\n",
       "\t<tr><td>37                                                       </td><td>Yes                                                      </td><td><span style=white-space:pre-wrap>Travel_Rarely    </span></td><td>1373                                                     </td><td>Research &amp; Development                               </td><td>2                                                        </td><td>2                                                        </td><td><span style=white-space:pre-wrap>Other        </span>    </td><td>1                                                        </td><td>4                                                        </td><td>...                                                      </td><td>2                                                        </td><td>80                                                       </td><td>0                                                        </td><td> 7                                                       </td><td>3                                                        </td><td>3                                                        </td><td> 0                                                       </td><td>0                                                        </td><td>0                                                        </td><td>0                                                        </td></tr>\n",
       "\t<tr><td>33                        </td><td>No                        </td><td>Travel_Frequently         </td><td>1392                      </td><td>Research &amp; Development</td><td>3                         </td><td>4                         </td><td>Life Sciences             </td><td>1                         </td><td>5                         </td><td>...                       </td><td>3                         </td><td>80                        </td><td>0                         </td><td> 8                        </td><td>3                         </td><td>3                         </td><td> 8                        </td><td>7                         </td><td>3                         </td><td>0                         </td></tr>\n",
       "\t<tr><td>27                                                       </td><td>No                                                       </td><td><span style=white-space:pre-wrap>Travel_Rarely    </span></td><td> 591                                                     </td><td>Research &amp; Development                               </td><td>2                                                        </td><td>1                                                        </td><td><span style=white-space:pre-wrap>Medical      </span>    </td><td>1                                                        </td><td>7                                                        </td><td>...                                                      </td><td>4                                                        </td><td>80                                                       </td><td>1                                                        </td><td> 6                                                       </td><td>3                                                        </td><td>3                                                        </td><td> 2                                                       </td><td>2                                                        </td><td>2                                                        </td><td>2                                                        </td></tr>\n",
       "\t<tr><td>32                        </td><td>No                        </td><td>Travel_Frequently         </td><td>1005                      </td><td>Research &amp; Development</td><td>2                         </td><td>2                         </td><td>Life Sciences             </td><td>1                         </td><td>8                         </td><td>...                       </td><td>3                         </td><td>80                        </td><td>0                         </td><td> 8                        </td><td>2                         </td><td>2                         </td><td> 7                        </td><td>7                         </td><td>3                         </td><td>6                         </td></tr>\n",
       "</tbody>\n",
       "</table>\n"
      ],
      "text/latex": [
       "\\begin{tabular}{r|lllllllllllllllllllllllllllllllllll}\n",
       " ï..Age & Attrition & BusinessTravel & DailyRate & Department & DistanceFromHome & Education & EducationField & EmployeeCount & EmployeeNumber & ... & RelationshipSatisfaction & StandardHours & StockOptionLevel & TotalWorkingYears & TrainingTimesLastYear & WorkLifeBalance & YearsAtCompany & YearsInCurrentRole & YearsSinceLastPromotion & YearsWithCurrManager\\\\\n",
       "\\hline\n",
       "\t 41                     & Yes                    & Travel\\_Rarely        & 1102                   & Sales                  & 1                      & 2                      & Life Sciences          & 1                      & 1                      & ...                    & 1                      & 80                     & 0                      &  8                     & 0                      & 1                      &  6                     & 4                      & 0                      & 5                     \\\\\n",
       "\t 49                       & No                       & Travel\\_Frequently      &  279                     & Research \\& Development & 8                        & 1                        & Life Sciences            & 1                        & 2                        & ...                      & 4                        & 80                       & 1                        & 10                       & 3                        & 3                        & 10                       & 7                        & 1                        & 7                       \\\\\n",
       "\t 37                       & Yes                      & Travel\\_Rarely          & 1373                     & Research \\& Development & 2                        & 2                        & Other                    & 1                        & 4                        & ...                      & 2                        & 80                       & 0                        &  7                       & 3                        & 3                        &  0                       & 0                        & 0                        & 0                       \\\\\n",
       "\t 33                       & No                       & Travel\\_Frequently      & 1392                     & Research \\& Development & 3                        & 4                        & Life Sciences            & 1                        & 5                        & ...                      & 3                        & 80                       & 0                        &  8                       & 3                        & 3                        &  8                       & 7                        & 3                        & 0                       \\\\\n",
       "\t 27                       & No                       & Travel\\_Rarely          &  591                     & Research \\& Development & 2                        & 1                        & Medical                  & 1                        & 7                        & ...                      & 4                        & 80                       & 1                        &  6                       & 3                        & 3                        &  2                       & 2                        & 2                        & 2                       \\\\\n",
       "\t 32                       & No                       & Travel\\_Frequently      & 1005                     & Research \\& Development & 2                        & 2                        & Life Sciences            & 1                        & 8                        & ...                      & 3                        & 80                       & 0                        &  8                       & 2                        & 2                        &  7                       & 7                        & 3                        & 6                       \\\\\n",
       "\\end{tabular}\n"
      ],
      "text/markdown": [
       "\n",
       "ï..Age | Attrition | BusinessTravel | DailyRate | Department | DistanceFromHome | Education | EducationField | EmployeeCount | EmployeeNumber | ... | RelationshipSatisfaction | StandardHours | StockOptionLevel | TotalWorkingYears | TrainingTimesLastYear | WorkLifeBalance | YearsAtCompany | YearsInCurrentRole | YearsSinceLastPromotion | YearsWithCurrManager | \n",
       "|---|---|---|---|---|---|\n",
       "| 41                     | Yes                    | Travel_Rarely          | 1102                   | Sales                  | 1                      | 2                      | Life Sciences          | 1                      | 1                      | ...                    | 1                      | 80                     | 0                      |  8                     | 0                      | 1                      |  6                     | 4                      | 0                      | 5                      | \n",
       "| 49                     | No                     | Travel_Frequently      |  279                   | Research & Development | 8                      | 1                      | Life Sciences          | 1                      | 2                      | ...                    | 4                      | 80                     | 1                      | 10                     | 3                      | 3                      | 10                     | 7                      | 1                      | 7                      | \n",
       "| 37                     | Yes                    | Travel_Rarely          | 1373                   | Research & Development | 2                      | 2                      | Other                  | 1                      | 4                      | ...                    | 2                      | 80                     | 0                      |  7                     | 3                      | 3                      |  0                     | 0                      | 0                      | 0                      | \n",
       "| 33                     | No                     | Travel_Frequently      | 1392                   | Research & Development | 3                      | 4                      | Life Sciences          | 1                      | 5                      | ...                    | 3                      | 80                     | 0                      |  8                     | 3                      | 3                      |  8                     | 7                      | 3                      | 0                      | \n",
       "| 27                     | No                     | Travel_Rarely          |  591                   | Research & Development | 2                      | 1                      | Medical                | 1                      | 7                      | ...                    | 4                      | 80                     | 1                      |  6                     | 3                      | 3                      |  2                     | 2                      | 2                      | 2                      | \n",
       "| 32                     | No                     | Travel_Frequently      | 1005                   | Research & Development | 2                      | 2                      | Life Sciences          | 1                      | 8                      | ...                    | 3                      | 80                     | 0                      |  8                     | 2                      | 2                      |  7                     | 7                      | 3                      | 6                      | \n",
       "\n",
       "\n"
      ],
      "text/plain": [
       "  ï..Age Attrition BusinessTravel    DailyRate Department            \n",
       "1 41     Yes       Travel_Rarely     1102      Sales                 \n",
       "2 49     No        Travel_Frequently  279      Research & Development\n",
       "3 37     Yes       Travel_Rarely     1373      Research & Development\n",
       "4 33     No        Travel_Frequently 1392      Research & Development\n",
       "5 27     No        Travel_Rarely      591      Research & Development\n",
       "6 32     No        Travel_Frequently 1005      Research & Development\n",
       "  DistanceFromHome Education EducationField EmployeeCount EmployeeNumber ...\n",
       "1 1                2         Life Sciences  1             1              ...\n",
       "2 8                1         Life Sciences  1             2              ...\n",
       "3 2                2         Other          1             4              ...\n",
       "4 3                4         Life Sciences  1             5              ...\n",
       "5 2                1         Medical        1             7              ...\n",
       "6 2                2         Life Sciences  1             8              ...\n",
       "  RelationshipSatisfaction StandardHours StockOptionLevel TotalWorkingYears\n",
       "1 1                        80            0                 8               \n",
       "2 4                        80            1                10               \n",
       "3 2                        80            0                 7               \n",
       "4 3                        80            0                 8               \n",
       "5 4                        80            1                 6               \n",
       "6 3                        80            0                 8               \n",
       "  TrainingTimesLastYear WorkLifeBalance YearsAtCompany YearsInCurrentRole\n",
       "1 0                     1                6             4                 \n",
       "2 3                     3               10             7                 \n",
       "3 3                     3                0             0                 \n",
       "4 3                     3                8             7                 \n",
       "5 3                     3                2             2                 \n",
       "6 2                     2                7             7                 \n",
       "  YearsSinceLastPromotion YearsWithCurrManager\n",
       "1 0                       5                   \n",
       "2 1                       7                   \n",
       "3 0                       0                   \n",
       "4 3                       0                   \n",
       "5 2                       2                   \n",
       "6 3                       6                   "
      ]
     },
     "metadata": {},
     "output_type": "display_data"
    }
   ],
   "source": [
    "# Check for other abnormalities in the data:\n",
    "\n",
    "head(hrdata,6)\n",
    "\n"
   ]
  },
  {
   "cell_type": "code",
   "execution_count": 68,
   "metadata": {},
   "outputs": [
    {
     "data": {
      "text/html": [
       "<table>\n",
       "<thead><tr><th scope=col>Age</th><th scope=col>Attrition</th><th scope=col>BusinessTravel</th><th scope=col>DailyRate</th><th scope=col>Department</th><th scope=col>DistanceFromHome</th><th scope=col>Education</th><th scope=col>EducationField</th><th scope=col>EmployeeNumber</th><th scope=col>EnvironmentSatisfaction</th><th scope=col>...</th><th scope=col>PerformanceRating</th><th scope=col>RelationshipSatisfaction</th><th scope=col>StockOptionLevel</th><th scope=col>TotalWorkingYears</th><th scope=col>TrainingTimesLastYear</th><th scope=col>WorkLifeBalance</th><th scope=col>YearsAtCompany</th><th scope=col>YearsInCurrentRole</th><th scope=col>YearsSinceLastPromotion</th><th scope=col>YearsWithCurrManager</th></tr></thead>\n",
       "<tbody>\n",
       "\t<tr><td>41                    </td><td>Yes                   </td><td>Travel_Rarely         </td><td>1102                  </td><td>Sales                 </td><td>1                     </td><td>2                     </td><td>Life Sciences         </td><td>1                     </td><td>2                     </td><td>...                   </td><td>3                     </td><td>1                     </td><td>0                     </td><td> 8                    </td><td>0                     </td><td>1                     </td><td> 6                    </td><td>4                     </td><td>0                     </td><td>5                     </td></tr>\n",
       "\t<tr><td>49                        </td><td>No                        </td><td>Travel_Frequently         </td><td> 279                      </td><td>Research &amp; Development</td><td>8                         </td><td>1                         </td><td>Life Sciences             </td><td>2                         </td><td>3                         </td><td>...                       </td><td>4                         </td><td>4                         </td><td>1                         </td><td>10                        </td><td>3                         </td><td>3                         </td><td>10                        </td><td>7                         </td><td>1                         </td><td>7                         </td></tr>\n",
       "\t<tr><td>37                                                       </td><td>Yes                                                      </td><td><span style=white-space:pre-wrap>Travel_Rarely    </span></td><td>1373                                                     </td><td>Research &amp; Development                               </td><td>2                                                        </td><td>2                                                        </td><td><span style=white-space:pre-wrap>Other        </span>    </td><td>4                                                        </td><td>4                                                        </td><td>...                                                      </td><td>3                                                        </td><td>2                                                        </td><td>0                                                        </td><td> 7                                                       </td><td>3                                                        </td><td>3                                                        </td><td> 0                                                       </td><td>0                                                        </td><td>0                                                        </td><td>0                                                        </td></tr>\n",
       "\t<tr><td>33                        </td><td>No                        </td><td>Travel_Frequently         </td><td>1392                      </td><td>Research &amp; Development</td><td>3                         </td><td>4                         </td><td>Life Sciences             </td><td>5                         </td><td>4                         </td><td>...                       </td><td>3                         </td><td>3                         </td><td>0                         </td><td> 8                        </td><td>3                         </td><td>3                         </td><td> 8                        </td><td>7                         </td><td>3                         </td><td>0                         </td></tr>\n",
       "\t<tr><td>27                                                       </td><td>No                                                       </td><td><span style=white-space:pre-wrap>Travel_Rarely    </span></td><td> 591                                                     </td><td>Research &amp; Development                               </td><td>2                                                        </td><td>1                                                        </td><td><span style=white-space:pre-wrap>Medical      </span>    </td><td>7                                                        </td><td>1                                                        </td><td>...                                                      </td><td>3                                                        </td><td>4                                                        </td><td>1                                                        </td><td> 6                                                       </td><td>3                                                        </td><td>3                                                        </td><td> 2                                                       </td><td>2                                                        </td><td>2                                                        </td><td>2                                                        </td></tr>\n",
       "</tbody>\n",
       "</table>\n"
      ],
      "text/latex": [
       "\\begin{tabular}{r|llllllllllllllllllllllllllllllll}\n",
       " Age & Attrition & BusinessTravel & DailyRate & Department & DistanceFromHome & Education & EducationField & EmployeeNumber & EnvironmentSatisfaction & ... & PerformanceRating & RelationshipSatisfaction & StockOptionLevel & TotalWorkingYears & TrainingTimesLastYear & WorkLifeBalance & YearsAtCompany & YearsInCurrentRole & YearsSinceLastPromotion & YearsWithCurrManager\\\\\n",
       "\\hline\n",
       "\t 41                     & Yes                    & Travel\\_Rarely        & 1102                   & Sales                  & 1                      & 2                      & Life Sciences          & 1                      & 2                      & ...                    & 3                      & 1                      & 0                      &  8                     & 0                      & 1                      &  6                     & 4                      & 0                      & 5                     \\\\\n",
       "\t 49                       & No                       & Travel\\_Frequently      &  279                     & Research \\& Development & 8                        & 1                        & Life Sciences            & 2                        & 3                        & ...                      & 4                        & 4                        & 1                        & 10                       & 3                        & 3                        & 10                       & 7                        & 1                        & 7                       \\\\\n",
       "\t 37                       & Yes                      & Travel\\_Rarely          & 1373                     & Research \\& Development & 2                        & 2                        & Other                    & 4                        & 4                        & ...                      & 3                        & 2                        & 0                        &  7                       & 3                        & 3                        &  0                       & 0                        & 0                        & 0                       \\\\\n",
       "\t 33                       & No                       & Travel\\_Frequently      & 1392                     & Research \\& Development & 3                        & 4                        & Life Sciences            & 5                        & 4                        & ...                      & 3                        & 3                        & 0                        &  8                       & 3                        & 3                        &  8                       & 7                        & 3                        & 0                       \\\\\n",
       "\t 27                       & No                       & Travel\\_Rarely          &  591                     & Research \\& Development & 2                        & 1                        & Medical                  & 7                        & 1                        & ...                      & 3                        & 4                        & 1                        &  6                       & 3                        & 3                        &  2                       & 2                        & 2                        & 2                       \\\\\n",
       "\\end{tabular}\n"
      ],
      "text/markdown": [
       "\n",
       "Age | Attrition | BusinessTravel | DailyRate | Department | DistanceFromHome | Education | EducationField | EmployeeNumber | EnvironmentSatisfaction | ... | PerformanceRating | RelationshipSatisfaction | StockOptionLevel | TotalWorkingYears | TrainingTimesLastYear | WorkLifeBalance | YearsAtCompany | YearsInCurrentRole | YearsSinceLastPromotion | YearsWithCurrManager | \n",
       "|---|---|---|---|---|\n",
       "| 41                     | Yes                    | Travel_Rarely          | 1102                   | Sales                  | 1                      | 2                      | Life Sciences          | 1                      | 2                      | ...                    | 3                      | 1                      | 0                      |  8                     | 0                      | 1                      |  6                     | 4                      | 0                      | 5                      | \n",
       "| 49                     | No                     | Travel_Frequently      |  279                   | Research & Development | 8                      | 1                      | Life Sciences          | 2                      | 3                      | ...                    | 4                      | 4                      | 1                      | 10                     | 3                      | 3                      | 10                     | 7                      | 1                      | 7                      | \n",
       "| 37                     | Yes                    | Travel_Rarely          | 1373                   | Research & Development | 2                      | 2                      | Other                  | 4                      | 4                      | ...                    | 3                      | 2                      | 0                      |  7                     | 3                      | 3                      |  0                     | 0                      | 0                      | 0                      | \n",
       "| 33                     | No                     | Travel_Frequently      | 1392                   | Research & Development | 3                      | 4                      | Life Sciences          | 5                      | 4                      | ...                    | 3                      | 3                      | 0                      |  8                     | 3                      | 3                      |  8                     | 7                      | 3                      | 0                      | \n",
       "| 27                     | No                     | Travel_Rarely          |  591                   | Research & Development | 2                      | 1                      | Medical                | 7                      | 1                      | ...                    | 3                      | 4                      | 1                      |  6                     | 3                      | 3                      |  2                     | 2                      | 2                      | 2                      | \n",
       "\n",
       "\n"
      ],
      "text/plain": [
       "  Age Attrition BusinessTravel    DailyRate Department            \n",
       "1 41  Yes       Travel_Rarely     1102      Sales                 \n",
       "2 49  No        Travel_Frequently  279      Research & Development\n",
       "3 37  Yes       Travel_Rarely     1373      Research & Development\n",
       "4 33  No        Travel_Frequently 1392      Research & Development\n",
       "5 27  No        Travel_Rarely      591      Research & Development\n",
       "  DistanceFromHome Education EducationField EmployeeNumber\n",
       "1 1                2         Life Sciences  1             \n",
       "2 8                1         Life Sciences  2             \n",
       "3 2                2         Other          4             \n",
       "4 3                4         Life Sciences  5             \n",
       "5 2                1         Medical        7             \n",
       "  EnvironmentSatisfaction ... PerformanceRating RelationshipSatisfaction\n",
       "1 2                       ... 3                 1                       \n",
       "2 3                       ... 4                 4                       \n",
       "3 4                       ... 3                 2                       \n",
       "4 4                       ... 3                 3                       \n",
       "5 1                       ... 3                 4                       \n",
       "  StockOptionLevel TotalWorkingYears TrainingTimesLastYear WorkLifeBalance\n",
       "1 0                 8                0                     1              \n",
       "2 1                10                3                     3              \n",
       "3 0                 7                3                     3              \n",
       "4 0                 8                3                     3              \n",
       "5 1                 6                3                     3              \n",
       "  YearsAtCompany YearsInCurrentRole YearsSinceLastPromotion\n",
       "1  6             4                  0                      \n",
       "2 10             7                  1                      \n",
       "3  0             0                  0                      \n",
       "4  8             7                  3                      \n",
       "5  2             2                  2                      \n",
       "  YearsWithCurrManager\n",
       "1 5                   \n",
       "2 7                   \n",
       "3 0                   \n",
       "4 0                   \n",
       "5 2                   "
      ]
     },
     "metadata": {},
     "output_type": "display_data"
    }
   ],
   "source": [
    "# Correcting the abnormalities:\n",
    "#1) Column name age\n",
    "names(hrdata)[1]=\"Age\"\n",
    "#2) Few columns have all the values same,so removing them\n",
    "hrdata<- select(hrdata,-EmployeeCount,-StandardHours,-Over18)\n",
    "head(hrdata,5)"
   ]
  },
  {
   "cell_type": "code",
   "execution_count": 69,
   "metadata": {},
   "outputs": [
    {
     "data": {
      "text/html": [
       "<table>\n",
       "<thead><tr><th scope=col>Age</th><th scope=col>Attrition</th><th scope=col>BusinessTravel</th><th scope=col>DailyRate</th><th scope=col>Department</th><th scope=col>DistanceFromHome</th><th scope=col>Education</th><th scope=col>EducationField</th><th scope=col>EmployeeNumber</th><th scope=col>EnvironmentSatisfaction</th><th scope=col>...</th><th scope=col>PerformanceRating</th><th scope=col>RelationshipSatisfaction</th><th scope=col>StockOptionLevel</th><th scope=col>TotalWorkingYears</th><th scope=col>TrainingTimesLastYear</th><th scope=col>WorkLifeBalance</th><th scope=col>YearsAtCompany</th><th scope=col>YearsInCurrentRole</th><th scope=col>YearsSinceLastPromotion</th><th scope=col>YearsWithCurrManager</th></tr></thead>\n",
       "<tbody>\n",
       "\t<tr><td>41                    </td><td>1                     </td><td>Travel_Rarely         </td><td>1102                  </td><td>Sales                 </td><td>1                     </td><td>2                     </td><td>Life Sciences         </td><td>1                     </td><td>2                     </td><td>...                   </td><td>3                     </td><td>1                     </td><td>0                     </td><td> 8                    </td><td>0                     </td><td>1                     </td><td> 6                    </td><td>4                     </td><td>0                     </td><td>5                     </td></tr>\n",
       "\t<tr><td>49                        </td><td>0                         </td><td>Travel_Frequently         </td><td> 279                      </td><td>Research &amp; Development</td><td>8                         </td><td>1                         </td><td>Life Sciences             </td><td>2                         </td><td>3                         </td><td>...                       </td><td>4                         </td><td>4                         </td><td>1                         </td><td>10                        </td><td>3                         </td><td>3                         </td><td>10                        </td><td>7                         </td><td>1                         </td><td>7                         </td></tr>\n",
       "\t<tr><td>37                                                       </td><td>1                                                        </td><td><span style=white-space:pre-wrap>Travel_Rarely    </span></td><td>1373                                                     </td><td>Research &amp; Development                               </td><td>2                                                        </td><td>2                                                        </td><td><span style=white-space:pre-wrap>Other        </span>    </td><td>4                                                        </td><td>4                                                        </td><td>...                                                      </td><td>3                                                        </td><td>2                                                        </td><td>0                                                        </td><td> 7                                                       </td><td>3                                                        </td><td>3                                                        </td><td> 0                                                       </td><td>0                                                        </td><td>0                                                        </td><td>0                                                        </td></tr>\n",
       "\t<tr><td>33                        </td><td>0                         </td><td>Travel_Frequently         </td><td>1392                      </td><td>Research &amp; Development</td><td>3                         </td><td>4                         </td><td>Life Sciences             </td><td>5                         </td><td>4                         </td><td>...                       </td><td>3                         </td><td>3                         </td><td>0                         </td><td> 8                        </td><td>3                         </td><td>3                         </td><td> 8                        </td><td>7                         </td><td>3                         </td><td>0                         </td></tr>\n",
       "\t<tr><td>27                                                       </td><td>0                                                        </td><td><span style=white-space:pre-wrap>Travel_Rarely    </span></td><td> 591                                                     </td><td>Research &amp; Development                               </td><td>2                                                        </td><td>1                                                        </td><td><span style=white-space:pre-wrap>Medical      </span>    </td><td>7                                                        </td><td>1                                                        </td><td>...                                                      </td><td>3                                                        </td><td>4                                                        </td><td>1                                                        </td><td> 6                                                       </td><td>3                                                        </td><td>3                                                        </td><td> 2                                                       </td><td>2                                                        </td><td>2                                                        </td><td>2                                                        </td></tr>\n",
       "</tbody>\n",
       "</table>\n"
      ],
      "text/latex": [
       "\\begin{tabular}{r|llllllllllllllllllllllllllllllll}\n",
       " Age & Attrition & BusinessTravel & DailyRate & Department & DistanceFromHome & Education & EducationField & EmployeeNumber & EnvironmentSatisfaction & ... & PerformanceRating & RelationshipSatisfaction & StockOptionLevel & TotalWorkingYears & TrainingTimesLastYear & WorkLifeBalance & YearsAtCompany & YearsInCurrentRole & YearsSinceLastPromotion & YearsWithCurrManager\\\\\n",
       "\\hline\n",
       "\t 41                     & 1                      & Travel\\_Rarely        & 1102                   & Sales                  & 1                      & 2                      & Life Sciences          & 1                      & 2                      & ...                    & 3                      & 1                      & 0                      &  8                     & 0                      & 1                      &  6                     & 4                      & 0                      & 5                     \\\\\n",
       "\t 49                       & 0                        & Travel\\_Frequently      &  279                     & Research \\& Development & 8                        & 1                        & Life Sciences            & 2                        & 3                        & ...                      & 4                        & 4                        & 1                        & 10                       & 3                        & 3                        & 10                       & 7                        & 1                        & 7                       \\\\\n",
       "\t 37                       & 1                        & Travel\\_Rarely          & 1373                     & Research \\& Development & 2                        & 2                        & Other                    & 4                        & 4                        & ...                      & 3                        & 2                        & 0                        &  7                       & 3                        & 3                        &  0                       & 0                        & 0                        & 0                       \\\\\n",
       "\t 33                       & 0                        & Travel\\_Frequently      & 1392                     & Research \\& Development & 3                        & 4                        & Life Sciences            & 5                        & 4                        & ...                      & 3                        & 3                        & 0                        &  8                       & 3                        & 3                        &  8                       & 7                        & 3                        & 0                       \\\\\n",
       "\t 27                       & 0                        & Travel\\_Rarely          &  591                     & Research \\& Development & 2                        & 1                        & Medical                  & 7                        & 1                        & ...                      & 3                        & 4                        & 1                        &  6                       & 3                        & 3                        &  2                       & 2                        & 2                        & 2                       \\\\\n",
       "\\end{tabular}\n"
      ],
      "text/markdown": [
       "\n",
       "Age | Attrition | BusinessTravel | DailyRate | Department | DistanceFromHome | Education | EducationField | EmployeeNumber | EnvironmentSatisfaction | ... | PerformanceRating | RelationshipSatisfaction | StockOptionLevel | TotalWorkingYears | TrainingTimesLastYear | WorkLifeBalance | YearsAtCompany | YearsInCurrentRole | YearsSinceLastPromotion | YearsWithCurrManager | \n",
       "|---|---|---|---|---|\n",
       "| 41                     | 1                      | Travel_Rarely          | 1102                   | Sales                  | 1                      | 2                      | Life Sciences          | 1                      | 2                      | ...                    | 3                      | 1                      | 0                      |  8                     | 0                      | 1                      |  6                     | 4                      | 0                      | 5                      | \n",
       "| 49                     | 0                      | Travel_Frequently      |  279                   | Research & Development | 8                      | 1                      | Life Sciences          | 2                      | 3                      | ...                    | 4                      | 4                      | 1                      | 10                     | 3                      | 3                      | 10                     | 7                      | 1                      | 7                      | \n",
       "| 37                     | 1                      | Travel_Rarely          | 1373                   | Research & Development | 2                      | 2                      | Other                  | 4                      | 4                      | ...                    | 3                      | 2                      | 0                      |  7                     | 3                      | 3                      |  0                     | 0                      | 0                      | 0                      | \n",
       "| 33                     | 0                      | Travel_Frequently      | 1392                   | Research & Development | 3                      | 4                      | Life Sciences          | 5                      | 4                      | ...                    | 3                      | 3                      | 0                      |  8                     | 3                      | 3                      |  8                     | 7                      | 3                      | 0                      | \n",
       "| 27                     | 0                      | Travel_Rarely          |  591                   | Research & Development | 2                      | 1                      | Medical                | 7                      | 1                      | ...                    | 3                      | 4                      | 1                      |  6                     | 3                      | 3                      |  2                     | 2                      | 2                      | 2                      | \n",
       "\n",
       "\n"
      ],
      "text/plain": [
       "  Age Attrition BusinessTravel    DailyRate Department            \n",
       "1 41  1         Travel_Rarely     1102      Sales                 \n",
       "2 49  0         Travel_Frequently  279      Research & Development\n",
       "3 37  1         Travel_Rarely     1373      Research & Development\n",
       "4 33  0         Travel_Frequently 1392      Research & Development\n",
       "5 27  0         Travel_Rarely      591      Research & Development\n",
       "  DistanceFromHome Education EducationField EmployeeNumber\n",
       "1 1                2         Life Sciences  1             \n",
       "2 8                1         Life Sciences  2             \n",
       "3 2                2         Other          4             \n",
       "4 3                4         Life Sciences  5             \n",
       "5 2                1         Medical        7             \n",
       "  EnvironmentSatisfaction ... PerformanceRating RelationshipSatisfaction\n",
       "1 2                       ... 3                 1                       \n",
       "2 3                       ... 4                 4                       \n",
       "3 4                       ... 3                 2                       \n",
       "4 4                       ... 3                 3                       \n",
       "5 1                       ... 3                 4                       \n",
       "  StockOptionLevel TotalWorkingYears TrainingTimesLastYear WorkLifeBalance\n",
       "1 0                 8                0                     1              \n",
       "2 1                10                3                     3              \n",
       "3 0                 7                3                     3              \n",
       "4 0                 8                3                     3              \n",
       "5 1                 6                3                     3              \n",
       "  YearsAtCompany YearsInCurrentRole YearsSinceLastPromotion\n",
       "1  6             4                  0                      \n",
       "2 10             7                  1                      \n",
       "3  0             0                  0                      \n",
       "4  8             7                  3                      \n",
       "5  2             2                  2                      \n",
       "  YearsWithCurrManager\n",
       "1 5                   \n",
       "2 7                   \n",
       "3 0                   \n",
       "4 0                   \n",
       "5 2                   "
      ]
     },
     "metadata": {},
     "output_type": "display_data"
    }
   ],
   "source": [
    "# Converting Attrition into binary 0 & 1 for convenience:\n",
    "hrdata$Attrition<-factor(hrdata$Attrition,labels = c('0','1'))\n",
    "head(hrdata,5)"
   ]
  },
  {
   "cell_type": "code",
   "execution_count": 70,
   "metadata": {},
   "outputs": [
    {
     "name": "stdout",
     "output_type": "stream",
     "text": [
      "'data.frame':\t1470 obs. of  32 variables:\n",
      " $ Age                     : int  41 49 37 33 27 32 59 30 38 36 ...\n",
      " $ Attrition               : Factor w/ 2 levels \"0\",\"1\": 2 1 2 1 1 1 1 1 1 1 ...\n",
      " $ BusinessTravel          : Factor w/ 3 levels \"Non-Travel\",\"Travel_Frequently\",..: 3 2 3 2 3 2 3 3 2 3 ...\n",
      " $ DailyRate               : int  1102 279 1373 1392 591 1005 1324 1358 216 1299 ...\n",
      " $ Department              : Factor w/ 3 levels \"Human Resources\",..: 3 2 2 2 2 2 2 2 2 2 ...\n",
      " $ DistanceFromHome        : int  1 8 2 3 2 2 3 24 23 27 ...\n",
      " $ Education               : int  2 1 2 4 1 2 3 1 3 3 ...\n",
      " $ EducationField          : Factor w/ 6 levels \"Human Resources\",..: 2 2 5 2 4 2 4 2 2 4 ...\n",
      " $ EmployeeNumber          : int  1 2 4 5 7 8 10 11 12 13 ...\n",
      " $ EnvironmentSatisfaction : int  2 3 4 4 1 4 3 4 4 3 ...\n",
      " $ Gender                  : Factor w/ 2 levels \"Female\",\"Male\": 1 2 2 1 2 2 1 2 2 2 ...\n",
      " $ HourlyRate              : int  94 61 92 56 40 79 81 67 44 94 ...\n",
      " $ JobInvolvement          : int  3 2 2 3 3 3 4 3 2 3 ...\n",
      " $ JobLevel                : int  2 2 1 1 1 1 1 1 3 2 ...\n",
      " $ JobRole                 : Factor w/ 9 levels \"Healthcare Representative\",..: 8 7 3 7 3 3 3 3 5 1 ...\n",
      " $ JobSatisfaction         : int  4 2 3 3 2 4 1 3 3 3 ...\n",
      " $ MaritalStatus           : Factor w/ 3 levels \"Divorced\",\"Married\",..: 3 2 3 2 2 3 2 1 3 2 ...\n",
      " $ MonthlyIncome           : int  5993 5130 2090 2909 3468 3068 2670 2693 9526 5237 ...\n",
      " $ MonthlyRate             : int  19479 24907 2396 23159 16632 11864 9964 13335 8787 16577 ...\n",
      " $ NumCompaniesWorked      : int  8 1 6 1 9 0 4 1 0 6 ...\n",
      " $ OverTime                : Factor w/ 2 levels \"No\",\"Yes\": 2 1 2 2 1 1 2 1 1 1 ...\n",
      " $ PercentSalaryHike       : int  11 23 15 11 12 13 20 22 21 13 ...\n",
      " $ PerformanceRating       : int  3 4 3 3 3 3 4 4 4 3 ...\n",
      " $ RelationshipSatisfaction: int  1 4 2 3 4 3 1 2 2 2 ...\n",
      " $ StockOptionLevel        : int  0 1 0 0 1 0 3 1 0 2 ...\n",
      " $ TotalWorkingYears       : int  8 10 7 8 6 8 12 1 10 17 ...\n",
      " $ TrainingTimesLastYear   : int  0 3 3 3 3 2 3 2 2 3 ...\n",
      " $ WorkLifeBalance         : int  1 3 3 3 3 2 2 3 3 2 ...\n",
      " $ YearsAtCompany          : int  6 10 0 8 2 7 1 1 9 7 ...\n",
      " $ YearsInCurrentRole      : int  4 7 0 7 2 7 0 0 7 7 ...\n",
      " $ YearsSinceLastPromotion : int  0 1 0 3 2 3 0 0 1 7 ...\n",
      " $ YearsWithCurrManager    : int  5 7 0 0 2 6 0 0 8 7 ...\n"
     ]
    }
   ],
   "source": [
    "# Lets check the datatype of variables:\n",
    "str(hrdata)"
   ]
  },
  {
   "cell_type": "code",
   "execution_count": 71,
   "metadata": {},
   "outputs": [
    {
     "name": "stdout",
     "output_type": "stream",
     "text": [
      "'data.frame':\t1470 obs. of  32 variables:\n",
      " $ Age                     : int  41 49 37 33 27 32 59 30 38 36 ...\n",
      " $ Attrition               : Factor w/ 2 levels \"0\",\"1\": 2 1 2 1 1 1 1 1 1 1 ...\n",
      " $ BusinessTravel          : Factor w/ 3 levels \"Non-Travel\",\"Travel_Frequently\",..: 3 2 3 2 3 2 3 3 2 3 ...\n",
      " $ DailyRate               : int  1102 279 1373 1392 591 1005 1324 1358 216 1299 ...\n",
      " $ Department              : Factor w/ 3 levels \"Human Resources\",..: 3 2 2 2 2 2 2 2 2 2 ...\n",
      " $ DistanceFromHome        : int  1 8 2 3 2 2 3 24 23 27 ...\n",
      " $ Education               : int  2 1 2 4 1 2 3 1 3 3 ...\n",
      " $ EducationField          : Factor w/ 6 levels \"Human Resources\",..: 2 2 5 2 4 2 4 2 2 4 ...\n",
      " $ EmployeeNumber          : int  1 2 4 5 7 8 10 11 12 13 ...\n",
      " $ EnvironmentSatisfaction : Factor w/ 4 levels \"1\",\"2\",\"3\",\"4\": 2 3 4 4 1 4 3 4 4 3 ...\n",
      " $ Gender                  : Factor w/ 2 levels \"Female\",\"Male\": 1 2 2 1 2 2 1 2 2 2 ...\n",
      " $ HourlyRate              : int  94 61 92 56 40 79 81 67 44 94 ...\n",
      " $ JobInvolvement          : Factor w/ 4 levels \"1\",\"2\",\"3\",\"4\": 3 2 2 3 3 3 4 3 2 3 ...\n",
      " $ JobLevel                : Factor w/ 5 levels \"1\",\"2\",\"3\",\"4\",..: 2 2 1 1 1 1 1 1 3 2 ...\n",
      " $ JobRole                 : Factor w/ 9 levels \"Healthcare Representative\",..: 8 7 3 7 3 3 3 3 5 1 ...\n",
      " $ JobSatisfaction         : Factor w/ 4 levels \"1\",\"2\",\"3\",\"4\": 4 2 3 3 2 4 1 3 3 3 ...\n",
      " $ MaritalStatus           : Factor w/ 3 levels \"Divorced\",\"Married\",..: 3 2 3 2 2 3 2 1 3 2 ...\n",
      " $ MonthlyIncome           : int  5993 5130 2090 2909 3468 3068 2670 2693 9526 5237 ...\n",
      " $ MonthlyRate             : int  19479 24907 2396 23159 16632 11864 9964 13335 8787 16577 ...\n",
      " $ NumCompaniesWorked      : int  8 1 6 1 9 0 4 1 0 6 ...\n",
      " $ OverTime                : Factor w/ 2 levels \"No\",\"Yes\": 2 1 2 2 1 1 2 1 1 1 ...\n",
      " $ PercentSalaryHike       : int  11 23 15 11 12 13 20 22 21 13 ...\n",
      " $ PerformanceRating       : int  3 4 3 3 3 3 4 4 4 3 ...\n",
      " $ RelationshipSatisfaction: Factor w/ 4 levels \"1\",\"2\",\"3\",\"4\": 1 4 2 3 4 3 1 2 2 2 ...\n",
      " $ StockOptionLevel        : Factor w/ 4 levels \"0\",\"1\",\"2\",\"3\": 1 2 1 1 2 1 4 2 1 3 ...\n",
      " $ TotalWorkingYears       : int  8 10 7 8 6 8 12 1 10 17 ...\n",
      " $ TrainingTimesLastYear   : int  0 3 3 3 3 2 3 2 2 3 ...\n",
      " $ WorkLifeBalance         : Factor w/ 4 levels \"1\",\"2\",\"3\",\"4\": 1 3 3 3 3 2 2 3 3 2 ...\n",
      " $ YearsAtCompany          : int  6 10 0 8 2 7 1 1 9 7 ...\n",
      " $ YearsInCurrentRole      : int  4 7 0 7 2 7 0 0 7 7 ...\n",
      " $ YearsSinceLastPromotion : int  0 1 0 3 2 3 0 0 1 7 ...\n",
      " $ YearsWithCurrManager    : int  5 7 0 0 2 6 0 0 8 7 ...\n"
     ]
    }
   ],
   "source": [
    "# Correcting the data types:\n",
    "hrdata$EnvironmentSatisfaction<-as.factor(hrdata$EnvironmentSatisfaction)\n",
    "hrdata$JobInvolvement<-as.factor(hrdata$JobInvolvement)\n",
    "hrdata$JobLevel<-as.factor(hrdata$JobLevel)\n",
    "hrdata$JobSatisfaction<-as.factor(hrdata$JobSatisfaction)\n",
    "hrdata$RelationshipSatisfaction<-as.factor(hrdata$RelationshipSatisfaction)\n",
    "hrdata$StockOptionLevel<-as.factor(hrdata$StockOptionLevel)\n",
    "hrdata$WorkLifeBalance<-as.factor(hrdata$WorkLifeBalance)\n",
    "str(hrdata)"
   ]
  },
  {
   "cell_type": "code",
   "execution_count": 72,
   "metadata": {},
   "outputs": [
    {
     "data": {
      "text/html": [
       "<table>\n",
       "<tbody>\n",
       "\t<tr><th scope=row>Age</th><td>-0.159205007</td></tr>\n",
       "\t<tr><th scope=row>Attrition</th><td> 1.000000000</td></tr>\n",
       "\t<tr><th scope=row>DailyRate</th><td>-0.056651992</td></tr>\n",
       "\t<tr><th scope=row>DistanceFromHome</th><td> 0.077923583</td></tr>\n",
       "\t<tr><th scope=row>Education</th><td>-0.031372820</td></tr>\n",
       "\t<tr><th scope=row>EmployeeNumber</th><td>-0.010577243</td></tr>\n",
       "\t<tr><th scope=row>HourlyRate</th><td>-0.006845550</td></tr>\n",
       "\t<tr><th scope=row>MonthlyIncome</th><td>-0.159839582</td></tr>\n",
       "\t<tr><th scope=row>MonthlyRate</th><td> 0.015170213</td></tr>\n",
       "\t<tr><th scope=row>NumCompaniesWorked</th><td> 0.043493739</td></tr>\n",
       "\t<tr><th scope=row>PercentSalaryHike</th><td>-0.013478202</td></tr>\n",
       "\t<tr><th scope=row>PerformanceRating</th><td> 0.002888752</td></tr>\n",
       "\t<tr><th scope=row>TotalWorkingYears</th><td>-0.171063246</td></tr>\n",
       "\t<tr><th scope=row>TrainingTimesLastYear</th><td>-0.059477799</td></tr>\n",
       "\t<tr><th scope=row>YearsAtCompany</th><td>-0.134392214</td></tr>\n",
       "\t<tr><th scope=row>YearsInCurrentRole</th><td>-0.160545004</td></tr>\n",
       "\t<tr><th scope=row>YearsSinceLastPromotion</th><td>-0.033018775</td></tr>\n",
       "\t<tr><th scope=row>YearsWithCurrManager</th><td>-0.156199316</td></tr>\n",
       "</tbody>\n",
       "</table>\n"
      ],
      "text/latex": [
       "\\begin{tabular}{r|l}\n",
       "\tAge & -0.159205007\\\\\n",
       "\tAttrition &  1.000000000\\\\\n",
       "\tDailyRate & -0.056651992\\\\\n",
       "\tDistanceFromHome &  0.077923583\\\\\n",
       "\tEducation & -0.031372820\\\\\n",
       "\tEmployeeNumber & -0.010577243\\\\\n",
       "\tHourlyRate & -0.006845550\\\\\n",
       "\tMonthlyIncome & -0.159839582\\\\\n",
       "\tMonthlyRate &  0.015170213\\\\\n",
       "\tNumCompaniesWorked &  0.043493739\\\\\n",
       "\tPercentSalaryHike & -0.013478202\\\\\n",
       "\tPerformanceRating &  0.002888752\\\\\n",
       "\tTotalWorkingYears & -0.171063246\\\\\n",
       "\tTrainingTimesLastYear & -0.059477799\\\\\n",
       "\tYearsAtCompany & -0.134392214\\\\\n",
       "\tYearsInCurrentRole & -0.160545004\\\\\n",
       "\tYearsSinceLastPromotion & -0.033018775\\\\\n",
       "\tYearsWithCurrManager & -0.156199316\\\\\n",
       "\\end{tabular}\n"
      ],
      "text/markdown": [
       "\n",
       "| Age | -0.159205007 | \n",
       "| Attrition |  1.000000000 | \n",
       "| DailyRate | -0.056651992 | \n",
       "| DistanceFromHome |  0.077923583 | \n",
       "| Education | -0.031372820 | \n",
       "| EmployeeNumber | -0.010577243 | \n",
       "| HourlyRate | -0.006845550 | \n",
       "| MonthlyIncome | -0.159839582 | \n",
       "| MonthlyRate |  0.015170213 | \n",
       "| NumCompaniesWorked |  0.043493739 | \n",
       "| PercentSalaryHike | -0.013478202 | \n",
       "| PerformanceRating |  0.002888752 | \n",
       "| TotalWorkingYears | -0.171063246 | \n",
       "| TrainingTimesLastYear | -0.059477799 | \n",
       "| YearsAtCompany | -0.134392214 | \n",
       "| YearsInCurrentRole | -0.160545004 | \n",
       "| YearsSinceLastPromotion | -0.033018775 | \n",
       "| YearsWithCurrManager | -0.156199316 | \n",
       "\n",
       "\n"
      ],
      "text/plain": [
       "                        [,1]        \n",
       "Age                     -0.159205007\n",
       "Attrition                1.000000000\n",
       "DailyRate               -0.056651992\n",
       "DistanceFromHome         0.077923583\n",
       "Education               -0.031372820\n",
       "EmployeeNumber          -0.010577243\n",
       "HourlyRate              -0.006845550\n",
       "MonthlyIncome           -0.159839582\n",
       "MonthlyRate              0.015170213\n",
       "NumCompaniesWorked       0.043493739\n",
       "PercentSalaryHike       -0.013478202\n",
       "PerformanceRating        0.002888752\n",
       "TotalWorkingYears       -0.171063246\n",
       "TrainingTimesLastYear   -0.059477799\n",
       "YearsAtCompany          -0.134392214\n",
       "YearsInCurrentRole      -0.160545004\n",
       "YearsSinceLastPromotion -0.033018775\n",
       "YearsWithCurrManager    -0.156199316"
      ]
     },
     "metadata": {},
     "output_type": "display_data"
    },
    {
     "data": {
      "image/png": "[encoded data removed]",
      "text/plain": [
       "Plot with title \"\""
      ]
     },
     "metadata": {},
     "output_type": "display_data"
    }
   ],
   "source": [
    "# Finding the correlations for numeric values:\n",
    "\n",
    "ints<-c()\n",
    "hrdata$Attrition<- as.integer(hrdata$Attrition)\n",
    "for(i in 1:32)\n",
    " {if(is.integer(hrdata[,i]))\n",
    "{\n",
    "ints<-c(ints,i)}}\n",
    "corrplot(cor(hrdata[,ints]),method = \"pie\",number.font = 1)\n",
    "cor(hrdata[,ints],hrdata$Attrition)\n",
    "hrdata$Attrition <- as.factor(hrdata$Attrition)\n",
    "hrdata$Attrition<-factor(hrdata$Attrition,labels = c('0','1'))"
   ]
  },
  {
   "cell_type": "code",
   "execution_count": 73,
   "metadata": {},
   "outputs": [],
   "source": [
    "# Thus Attrition is positively correlated to Age,Monthly Income,Total Working Years,YearsAtCompany \n",
    "# and YearsWithCurrentManager, and no significant negative correlation is found."
   ]
  },
  {
   "cell_type": "code",
   "execution_count": 74,
   "metadata": {},
   "outputs": [
    {
     "name": "stdout",
     "output_type": "stream",
     "text": [
      "[1] \"Attrition\"\n",
      "\n",
      "\tPearson's Chi-squared test with Yates' continuity correction\n",
      "\n",
      "data:  tbl\n",
      "X-squared = 1462.6, df = 1, p-value < 2.2e-16\n",
      "\n",
      "[1] \"BusinessTravel\"\n",
      "\n",
      "\tPearson's Chi-squared test\n",
      "\n",
      "data:  tbl\n",
      "X-squared = 24.182, df = 2, p-value = 5.609e-06\n",
      "\n",
      "[1] \"Department\"\n",
      "\n",
      "\tPearson's Chi-squared test\n",
      "\n",
      "data:  tbl\n",
      "X-squared = 10.796, df = 2, p-value = 0.004526\n",
      "\n",
      "[1] \"EducationField\"\n"
     ]
    },
    {
     "name": "stderr",
     "output_type": "stream",
     "text": [
      "Warning message in chisq.test(tbl):\n",
      "\"Chi-squared approximation may be incorrect\""
     ]
    },
    {
     "name": "stdout",
     "output_type": "stream",
     "text": [
      "\n",
      "\tPearson's Chi-squared test\n",
      "\n",
      "data:  tbl\n",
      "X-squared = 16.025, df = 5, p-value = 0.006774\n",
      "\n",
      "[1] \"EnvironmentSatisfaction\"\n",
      "\n",
      "\tPearson's Chi-squared test\n",
      "\n",
      "data:  tbl\n",
      "X-squared = 22.504, df = 3, p-value = 5.123e-05\n",
      "\n",
      "[1] \"Gender\"\n",
      "\n",
      "\tPearson's Chi-squared test with Yates' continuity correction\n",
      "\n",
      "data:  tbl\n",
      "X-squared = 1.117, df = 1, p-value = 0.2906\n",
      "\n",
      "[1] \"JobInvolvement\"\n",
      "\n",
      "\tPearson's Chi-squared test\n",
      "\n",
      "data:  tbl\n",
      "X-squared = 28.492, df = 3, p-value = 2.863e-06\n",
      "\n",
      "[1] \"JobLevel\"\n",
      "\n",
      "\tPearson's Chi-squared test\n",
      "\n",
      "data:  tbl\n",
      "X-squared = 72.529, df = 4, p-value = 6.635e-15\n",
      "\n",
      "[1] \"JobRole\"\n",
      "\n",
      "\tPearson's Chi-squared test\n",
      "\n",
      "data:  tbl\n",
      "X-squared = 86.19, df = 8, p-value = 2.752e-15\n",
      "\n",
      "[1] \"JobSatisfaction\"\n",
      "\n",
      "\tPearson's Chi-squared test\n",
      "\n",
      "data:  tbl\n",
      "X-squared = 17.505, df = 3, p-value = 0.0005563\n",
      "\n",
      "[1] \"MaritalStatus\"\n",
      "\n",
      "\tPearson's Chi-squared test\n",
      "\n",
      "data:  tbl\n",
      "X-squared = 46.164, df = 2, p-value = 9.456e-11\n",
      "\n",
      "[1] \"OverTime\"\n",
      "\n",
      "\tPearson's Chi-squared test with Yates' continuity correction\n",
      "\n",
      "data:  tbl\n",
      "X-squared = 87.564, df = 1, p-value < 2.2e-16\n",
      "\n",
      "[1] \"RelationshipSatisfaction\"\n",
      "\n",
      "\tPearson's Chi-squared test\n",
      "\n",
      "data:  tbl\n",
      "X-squared = 5.2411, df = 3, p-value = 0.155\n",
      "\n",
      "[1] \"StockOptionLevel\"\n",
      "\n",
      "\tPearson's Chi-squared test\n",
      "\n",
      "data:  tbl\n",
      "X-squared = 60.598, df = 3, p-value = 4.379e-13\n",
      "\n",
      "[1] \"WorkLifeBalance\"\n",
      "\n",
      "\tPearson's Chi-squared test\n",
      "\n",
      "data:  tbl\n",
      "X-squared = 16.325, df = 3, p-value = 0.0009726\n",
      "\n"
     ]
    }
   ],
   "source": [
    "# Finding the categorical significant variables using chi-square test:\n",
    "\n",
    "for(i in 1:length(hrdata))\n",
    "  {if(class(hrdata[,i])!=\"integer\")\n",
    "   { tbl<-0\n",
    "  tbl=table(hrdata$Attrition,hrdata[,i])\n",
    "print(names(hrdata[i]))\n",
    "print(chisq.test(tbl))}}"
   ]
  },
  {
   "cell_type": "code",
   "execution_count": 75,
   "metadata": {},
   "outputs": [
    {
     "data": {
      "text/html": [
       "30"
      ],
      "text/latex": [
       "30"
      ],
      "text/markdown": [
       "30"
      ],
      "text/plain": [
       "[1] 30"
      ]
     },
     "metadata": {},
     "output_type": "display_data"
    }
   ],
   "source": [
    "# Thus except Gender & Relationship Satisfaction, all other attributes appear to be significant:\n",
    "# Removing them to avoid garbage\n",
    "hrdata <- select(hrdata,-Gender,-RelationshipSatisfaction)\n",
    "length(hrdata)"
   ]
  },
  {
   "cell_type": "code",
   "execution_count": 76,
   "metadata": {},
   "outputs": [
    {
     "data": {
      "image/png": "[encoded data removed]",
      "text/plain": [
       "Plot with title \"BusinessTravel\""
      ]
     },
     "metadata": {},
     "output_type": "display_data"
    },
    {
     "data": {
      "image/png": "[encoded data removed]",
      "text/plain": [
       "Plot with title \"Department\""
      ]
     },
     "metadata": {},
     "output_type": "display_data"
    },
    {
     "data": {
      "image/png": "[encoded data removed]",
      "text/plain": [
       "Plot with title \"EducationField\""
      ]
     },
     "metadata": {},
     "output_type": "display_data"
    },
    {
     "data": {
      "image/png": "[encoded data removed]",
      "text/plain": [
       "Plot with title \"EnvironmentSatisfaction\""
      ]
     },
     "metadata": {},
     "output_type": "display_data"
    },
    {
     "data": {
      "image/png": "[encoded data removed]",
      "text/plain": [
       "Plot with title \"JobInvolvement\""
      ]
     },
     "metadata": {},
     "output_type": "display_data"
    },
    {
     "data": {
      "image/png": "[encoded data removed]",
      "text/plain": [
       "Plot with title \"JobLevel\""
      ]
     },
     "metadata": {},
     "output_type": "display_data"
    },
    {
     "data": {
      "image/png": "[encoded data removed]",
      "text/plain": [
       "Plot with title \"JobRole\""
      ]
     },
     "metadata": {},
     "output_type": "display_data"
    },
    {
     "data": {
      "image/png": "[encoded data removed]",
      "text/plain": [
       "Plot with title \"JobSatisfaction\""
      ]
     },
     "metadata": {},
     "output_type": "display_data"
    },
    {
     "data": {
      "image/png": "[encoded data removed]",
      "text/plain": [
       "Plot with title \"MaritalStatus\""
      ]
     },
     "metadata": {},
     "output_type": "display_data"
    },
    {
     "data": {
      "image/png": "[encoded data removed]",
      "text/plain": [
       "Plot with title \"OverTime\""
      ]
     },
     "metadata": {},
     "output_type": "display_data"
    },
    {
     "ename": "ERROR",
     "evalue": "Error in `[.data.frame`(hrdata, , k): undefined columns selected\n",
     "output_type": "error",
     "traceback": [
      "Error in `[.data.frame`(hrdata, , k): undefined columns selected\nTraceback:\n",
      "1. is.factor(hrdata[, k])",
      "2. hrdata[, k]",
      "3. `[.data.frame`(hrdata, , k)",
      "4. stop(\"undefined columns selected\")"
     ]
    },
    {
     "data": {
      "image/png": "[encoded data removed]",
      "text/plain": [
       "Plot with title \"StockOptionLevel\""
      ]
     },
     "metadata": {},
     "output_type": "display_data"
    },
    {
     "data": {
      "image/png": "[encoded data removed]",
      "text/plain": [
       "Plot with title \"WorkLifeBalance\""
      ]
     },
     "metadata": {},
     "output_type": "display_data"
    }
   ],
   "source": [
    "# Comparision of expected attrition and actual attrition in each categories:\n",
    "#(Note: Expected attrition for each level of a categorical variable is equal to the actual number of observations having attrition)\n",
    "\n",
    "pooled_prop=nrow(hrdata[hrdata$Attrition==1,])/nrow(hrdata)\n",
    "\n",
    "\n",
    "for(k in 1:32)\n",
    "{\n",
    "if(is.factor(hrdata[,k]))\n",
    "{props<-c()\n",
    "prop_vector<-c()\n",
    "nam<-c()  \n",
    "  for(i in 1:length(unique(hrdata[,k])))\n",
    "  {\n",
    "    props<-nrow(hrdata[hrdata$Attrition==1 & hrdata[,k]==levels(hrdata[,k])[i],])/nrow(hrdata[hrdata[,k]==levels(hrdata[,k])[i],])\n",
    "prop_vector<- c(prop_vector,props)  \n",
    "   \n",
    "\n",
    "se<-sqrt((pooled_prop*(1-pooled_prop))/nrow(hrdata)+(props*(1-props))/nrow(hrdata[hrdata[,k]==levels(hrdata[,k])[i],]))\n",
    "\n",
    "}\n",
    "prop_vector1<-c()\n",
    "prop_vector1<-c(pooled_prop,prop_vector)\n",
    "#print(names(hrdata[k]))\n",
    "#print(result)\n",
    "#if(result==\"significant\")\n",
    "#{ \n",
    "#print(ifelse(z<z1,sprintf(\"Significantly Min Attrition in %s is in Category %i\",names(hrdata[k]),i),sprintf(\"Significantly Max Attrition in %s is in Category %i\",names(hrdata[k]),i)))\n",
    "if(k>2)\n",
    "{x<-barplot(prop_vector1,xlab = \"Categories/Levels\",ylab=\"Attrition\",names.arg=c(\"Expected\",levels(hrdata[,k])),main = names(hrdata[k]),axisnames=T,ylim = c(0,1),width = 1.5,cex.names = .6,space=0.7,col=\"blue\")}}}\n"
   ]
  },
  {
   "cell_type": "code",
   "execution_count": null,
   "metadata": {},
   "outputs": [],
   "source": [
    "# Thus employees having the following characteristics have a high probability of attrition:\n",
    "# 1) No Business Travel (maybe because they are bored at the same place)\n",
    "# 2) Medical Education field (maybe because they are opening up their own clinic)\n",
    "# 3) High Job Involvement (maybe because they are saturated now)\n",
    "# 4) Higher Job Level (maybe because ample of job opportunities are avilable in the market at an executive level with lucrative salaries)\n",
    "# 5) Doing less overtime (strange, but that could be due to the sampling bias)\n",
    "\n"
   ]
  },
  {
   "cell_type": "code",
   "execution_count": 77,
   "metadata": {},
   "outputs": [
    {
     "name": "stdout",
     "output_type": "stream",
     "text": [
      " [1]  1  4  6  7  9 11 17 18 19 21 22 24 25 27 28 29 30\n"
     ]
    },
    {
     "data": {
      "text/html": [
       "<table>\n",
       "<thead><tr><th scope=col>Age</th><th scope=col>DailyRate</th><th scope=col>DistanceFromHome</th><th scope=col>Education</th><th scope=col>EmployeeNumber</th><th scope=col>HourlyRate</th><th scope=col>MonthlyIncome</th><th scope=col>MonthlyRate</th><th scope=col>NumCompaniesWorked</th><th scope=col>PercentSalaryHike</th><th scope=col>PerformanceRating</th><th scope=col>TotalWorkingYears</th><th scope=col>TrainingTimesLastYear</th><th scope=col>YearsAtCompany</th><th scope=col>YearsInCurrentRole</th><th scope=col>YearsSinceLastPromotion</th><th scope=col>YearsWithCurrManager</th></tr></thead>\n",
       "<tbody>\n",
       "\t<tr><td> 0.44619856 </td><td> 0.7422739  </td><td>-1.0105654  </td><td>-0.8913849  </td><td>-1.700704   </td><td> 1.3826677  </td><td>-0.1083127  </td><td> 0.7257730  </td><td> 2.1244130  </td><td>-1.15016269 </td><td>-0.426085   </td><td>-0.4214990  </td><td>-2.1712429  </td><td>-0.164557109</td><td>-0.06327437 </td><td>-0.67891464 </td><td> 0.2457504  </td></tr>\n",
       "\t<tr><td> 1.32191535 </td><td>-1.2973331  </td><td>-0.1470997  </td><td>-1.8677901  </td><td>-1.699043   </td><td>-0.2405949  </td><td>-0.2916193  </td><td> 1.4883696  </td><td>-0.6778187  </td><td> 2.12858163 </td><td> 2.345353   </td><td>-0.1644554  </td><td> 0.1556541  </td><td> 0.488341541</td><td> 0.76473737 </td><td>-0.36858985 </td><td> 0.8062671  </td></tr>\n",
       "\t<tr><td> 0.00834016 </td><td> 1.4138821  </td><td>-0.8872132  </td><td>-0.8913849  </td><td>-1.695721   </td><td> 1.2842882  </td><td>-0.9373347  </td><td>-1.6742711  </td><td> 1.3237753  </td><td>-0.05724792 </td><td>-0.426085   </td><td>-0.5500208  </td><td> 0.1556541  </td><td>-1.143905083</td><td>-1.16729002 </td><td>-0.67891464 </td><td>-1.1555415  </td></tr>\n",
       "\t<tr><td>-0.42951824 </td><td> 1.4609690  </td><td>-0.7638609  </td><td> 1.0614255  </td><td>-1.694060   </td><td>-0.4865438  </td><td>-0.7633739  </td><td> 1.2427877  </td><td>-0.6778187  </td><td>-1.15016269 </td><td>-0.426085   </td><td>-0.4214990  </td><td> 0.1556541  </td><td> 0.161892216</td><td> 0.76473737 </td><td> 0.25205973 </td><td>-1.1555415  </td></tr>\n",
       "\t<tr><td>-1.08630583 </td><td>-0.5241163  </td><td>-0.8872132  </td><td>-1.8677901  </td><td>-1.690738   </td><td>-1.2735802  </td><td>-0.6446387  </td><td> 0.3257890  </td><td> 2.5247318  </td><td>-0.87693400 </td><td>-0.426085   </td><td>-0.6785426  </td><td> 0.1556541  </td><td>-0.817455758</td><td>-0.61528219 </td><td>-0.05826506 </td><td>-0.5950247  </td></tr>\n",
       "\t<tr><td>-0.53898284 </td><td> 0.5018828  </td><td>-0.8872132  </td><td>-0.8913849  </td><td>-1.689077   </td><td> 0.6448211  </td><td>-0.7296013  </td><td>-0.3440822  </td><td>-1.0781375  </td><td>-0.60370530 </td><td>-0.426085   </td><td>-0.4214990  </td><td>-0.6199782  </td><td>-0.001332446</td><td> 0.76473737 </td><td> 0.25205973 </td><td> 0.5260087  </td></tr>\n",
       "</tbody>\n",
       "</table>\n"
      ],
      "text/latex": [
       "\\begin{tabular}{r|lllllllllllllllll}\n",
       " Age & DailyRate & DistanceFromHome & Education & EmployeeNumber & HourlyRate & MonthlyIncome & MonthlyRate & NumCompaniesWorked & PercentSalaryHike & PerformanceRating & TotalWorkingYears & TrainingTimesLastYear & YearsAtCompany & YearsInCurrentRole & YearsSinceLastPromotion & YearsWithCurrManager\\\\\n",
       "\\hline\n",
       "\t  0.44619856  &  0.7422739   & -1.0105654   & -0.8913849   & -1.700704    &  1.3826677   & -0.1083127   &  0.7257730   &  2.1244130   & -1.15016269  & -0.426085    & -0.4214990   & -2.1712429   & -0.164557109 & -0.06327437  & -0.67891464  &  0.2457504  \\\\\n",
       "\t  1.32191535  & -1.2973331   & -0.1470997   & -1.8677901   & -1.699043    & -0.2405949   & -0.2916193   &  1.4883696   & -0.6778187   &  2.12858163  &  2.345353    & -0.1644554   &  0.1556541   &  0.488341541 &  0.76473737  & -0.36858985  &  0.8062671  \\\\\n",
       "\t  0.00834016  &  1.4138821   & -0.8872132   & -0.8913849   & -1.695721    &  1.2842882   & -0.9373347   & -1.6742711   &  1.3237753   & -0.05724792  & -0.426085    & -0.5500208   &  0.1556541   & -1.143905083 & -1.16729002  & -0.67891464  & -1.1555415  \\\\\n",
       "\t -0.42951824  &  1.4609690   & -0.7638609   &  1.0614255   & -1.694060    & -0.4865438   & -0.7633739   &  1.2427877   & -0.6778187   & -1.15016269  & -0.426085    & -0.4214990   &  0.1556541   &  0.161892216 &  0.76473737  &  0.25205973  & -1.1555415  \\\\\n",
       "\t -1.08630583  & -0.5241163   & -0.8872132   & -1.8677901   & -1.690738    & -1.2735802   & -0.6446387   &  0.3257890   &  2.5247318   & -0.87693400  & -0.426085    & -0.6785426   &  0.1556541   & -0.817455758 & -0.61528219  & -0.05826506  & -0.5950247  \\\\\n",
       "\t -0.53898284  &  0.5018828   & -0.8872132   & -0.8913849   & -1.689077    &  0.6448211   & -0.7296013   & -0.3440822   & -1.0781375   & -0.60370530  & -0.426085    & -0.4214990   & -0.6199782   & -0.001332446 &  0.76473737  &  0.25205973  &  0.5260087  \\\\\n",
       "\\end{tabular}\n"
      ],
      "text/markdown": [
       "\n",
       "Age | DailyRate | DistanceFromHome | Education | EmployeeNumber | HourlyRate | MonthlyIncome | MonthlyRate | NumCompaniesWorked | PercentSalaryHike | PerformanceRating | TotalWorkingYears | TrainingTimesLastYear | YearsAtCompany | YearsInCurrentRole | YearsSinceLastPromotion | YearsWithCurrManager | \n",
       "|---|---|---|---|---|---|\n",
       "|  0.44619856  |  0.7422739   | -1.0105654   | -0.8913849   | -1.700704    |  1.3826677   | -0.1083127   |  0.7257730   |  2.1244130   | -1.15016269  | -0.426085    | -0.4214990   | -2.1712429   | -0.164557109 | -0.06327437  | -0.67891464  |  0.2457504   | \n",
       "|  1.32191535  | -1.2973331   | -0.1470997   | -1.8677901   | -1.699043    | -0.2405949   | -0.2916193   |  1.4883696   | -0.6778187   |  2.12858163  |  2.345353    | -0.1644554   |  0.1556541   |  0.488341541 |  0.76473737  | -0.36858985  |  0.8062671   | \n",
       "|  0.00834016  |  1.4138821   | -0.8872132   | -0.8913849   | -1.695721    |  1.2842882   | -0.9373347   | -1.6742711   |  1.3237753   | -0.05724792  | -0.426085    | -0.5500208   |  0.1556541   | -1.143905083 | -1.16729002  | -0.67891464  | -1.1555415   | \n",
       "| -0.42951824  |  1.4609690   | -0.7638609   |  1.0614255   | -1.694060    | -0.4865438   | -0.7633739   |  1.2427877   | -0.6778187   | -1.15016269  | -0.426085    | -0.4214990   |  0.1556541   |  0.161892216 |  0.76473737  |  0.25205973  | -1.1555415   | \n",
       "| -1.08630583  | -0.5241163   | -0.8872132   | -1.8677901   | -1.690738    | -1.2735802   | -0.6446387   |  0.3257890   |  2.5247318   | -0.87693400  | -0.426085    | -0.6785426   |  0.1556541   | -0.817455758 | -0.61528219  | -0.05826506  | -0.5950247   | \n",
       "| -0.53898284  |  0.5018828   | -0.8872132   | -0.8913849   | -1.689077    |  0.6448211   | -0.7296013   | -0.3440822   | -1.0781375   | -0.60370530  | -0.426085    | -0.4214990   | -0.6199782   | -0.001332446 |  0.76473737  |  0.25205973  |  0.5260087   | \n",
       "\n",
       "\n"
      ],
      "text/plain": [
       "  Age         DailyRate  DistanceFromHome Education  EmployeeNumber HourlyRate\n",
       "1  0.44619856  0.7422739 -1.0105654       -0.8913849 -1.700704       1.3826677\n",
       "2  1.32191535 -1.2973331 -0.1470997       -1.8677901 -1.699043      -0.2405949\n",
       "3  0.00834016  1.4138821 -0.8872132       -0.8913849 -1.695721       1.2842882\n",
       "4 -0.42951824  1.4609690 -0.7638609        1.0614255 -1.694060      -0.4865438\n",
       "5 -1.08630583 -0.5241163 -0.8872132       -1.8677901 -1.690738      -1.2735802\n",
       "6 -0.53898284  0.5018828 -0.8872132       -0.8913849 -1.689077       0.6448211\n",
       "  MonthlyIncome MonthlyRate NumCompaniesWorked PercentSalaryHike\n",
       "1 -0.1083127     0.7257730   2.1244130         -1.15016269      \n",
       "2 -0.2916193     1.4883696  -0.6778187          2.12858163      \n",
       "3 -0.9373347    -1.6742711   1.3237753         -0.05724792      \n",
       "4 -0.7633739     1.2427877  -0.6778187         -1.15016269      \n",
       "5 -0.6446387     0.3257890   2.5247318         -0.87693400      \n",
       "6 -0.7296013    -0.3440822  -1.0781375         -0.60370530      \n",
       "  PerformanceRating TotalWorkingYears TrainingTimesLastYear YearsAtCompany\n",
       "1 -0.426085         -0.4214990        -2.1712429            -0.164557109  \n",
       "2  2.345353         -0.1644554         0.1556541             0.488341541  \n",
       "3 -0.426085         -0.5500208         0.1556541            -1.143905083  \n",
       "4 -0.426085         -0.4214990         0.1556541             0.161892216  \n",
       "5 -0.426085         -0.6785426         0.1556541            -0.817455758  \n",
       "6 -0.426085         -0.4214990        -0.6199782            -0.001332446  \n",
       "  YearsInCurrentRole YearsSinceLastPromotion YearsWithCurrManager\n",
       "1 -0.06327437        -0.67891464              0.2457504          \n",
       "2  0.76473737        -0.36858985              0.8062671          \n",
       "3 -1.16729002        -0.67891464             -1.1555415          \n",
       "4  0.76473737         0.25205973             -1.1555415          \n",
       "5 -0.61528219        -0.05826506             -0.5950247          \n",
       "6  0.76473737         0.25205973              0.5260087          "
      ]
     },
     "metadata": {},
     "output_type": "display_data"
    },
    {
     "data": {
      "text/html": [
       "<table>\n",
       "<thead><tr><th scope=col>Age</th><th scope=col>Attrition</th><th scope=col>BusinessTravel</th><th scope=col>DailyRate</th><th scope=col>Department</th><th scope=col>DistanceFromHome</th><th scope=col>Education</th><th scope=col>EducationField</th><th scope=col>EmployeeNumber</th><th scope=col>EnvironmentSatisfaction</th><th scope=col>...</th><th scope=col>PercentSalaryHike</th><th scope=col>PerformanceRating</th><th scope=col>StockOptionLevel</th><th scope=col>TotalWorkingYears</th><th scope=col>TrainingTimesLastYear</th><th scope=col>WorkLifeBalance</th><th scope=col>YearsAtCompany</th><th scope=col>YearsInCurrentRole</th><th scope=col>YearsSinceLastPromotion</th><th scope=col>YearsWithCurrManager</th></tr></thead>\n",
       "<tbody>\n",
       "\t<tr><td> 0.44619856           </td><td>1                     </td><td>Travel_Rarely         </td><td> 0.7422739            </td><td>Sales                 </td><td>-1.0105654            </td><td>-0.8913849            </td><td>Life Sciences         </td><td>-1.700704             </td><td>2                     </td><td>...                   </td><td>-1.15016269           </td><td>-0.426085             </td><td>0                     </td><td>-0.4214990            </td><td>-2.1712429            </td><td>1                     </td><td>-0.164557109          </td><td>-0.06327437           </td><td>-0.67891464           </td><td> 0.2457504            </td></tr>\n",
       "\t<tr><td> 1.32191535               </td><td>0                         </td><td>Travel_Frequently         </td><td>-1.2973331                </td><td>Research &amp; Development</td><td>-0.1470997                </td><td>-1.8677901                </td><td>Life Sciences             </td><td>-1.699043                 </td><td>3                         </td><td>...                       </td><td> 2.12858163               </td><td> 2.345353                 </td><td>1                         </td><td>-0.1644554                </td><td> 0.1556541                </td><td>3                         </td><td> 0.488341541              </td><td> 0.76473737               </td><td>-0.36858985               </td><td> 0.8062671                </td></tr>\n",
       "\t<tr><td> 0.00834016                                              </td><td>1                                                        </td><td><span style=white-space:pre-wrap>Travel_Rarely    </span></td><td> 1.4138821                                               </td><td>Research &amp; Development                               </td><td>-0.8872132                                               </td><td>-0.8913849                                               </td><td><span style=white-space:pre-wrap>Other        </span>    </td><td>-1.695721                                                </td><td>4                                                        </td><td>...                                                      </td><td>-0.05724792                                              </td><td>-0.426085                                                </td><td>0                                                        </td><td>-0.5500208                                               </td><td> 0.1556541                                               </td><td>3                                                        </td><td>-1.143905083                                             </td><td>-1.16729002                                              </td><td>-0.67891464                                              </td><td>-1.1555415                                               </td></tr>\n",
       "\t<tr><td>-0.42951824               </td><td>0                         </td><td>Travel_Frequently         </td><td> 1.4609690                </td><td>Research &amp; Development</td><td>-0.7638609                </td><td> 1.0614255                </td><td>Life Sciences             </td><td>-1.694060                 </td><td>4                         </td><td>...                       </td><td>-1.15016269               </td><td>-0.426085                 </td><td>0                         </td><td>-0.4214990                </td><td> 0.1556541                </td><td>3                         </td><td> 0.161892216              </td><td> 0.76473737               </td><td> 0.25205973               </td><td>-1.1555415                </td></tr>\n",
       "\t<tr><td>-1.08630583                                              </td><td>0                                                        </td><td><span style=white-space:pre-wrap>Travel_Rarely    </span></td><td>-0.5241163                                               </td><td>Research &amp; Development                               </td><td>-0.8872132                                               </td><td>-1.8677901                                               </td><td><span style=white-space:pre-wrap>Medical      </span>    </td><td>-1.690738                                                </td><td>1                                                        </td><td>...                                                      </td><td>-0.87693400                                              </td><td>-0.426085                                                </td><td>1                                                        </td><td>-0.6785426                                               </td><td> 0.1556541                                               </td><td>3                                                        </td><td>-0.817455758                                             </td><td>-0.61528219                                              </td><td>-0.05826506                                              </td><td>-0.5950247                                               </td></tr>\n",
       "\t<tr><td>-0.53898284               </td><td>0                         </td><td>Travel_Frequently         </td><td> 0.5018828                </td><td>Research &amp; Development</td><td>-0.8872132                </td><td>-0.8913849                </td><td>Life Sciences             </td><td>-1.689077                 </td><td>4                         </td><td>...                       </td><td>-0.60370530               </td><td>-0.426085                 </td><td>0                         </td><td>-0.4214990                </td><td>-0.6199782                </td><td>2                         </td><td>-0.001332446              </td><td> 0.76473737               </td><td> 0.25205973               </td><td> 0.5260087                </td></tr>\n",
       "</tbody>\n",
       "</table>\n"
      ],
      "text/latex": [
       "\\begin{tabular}{r|llllllllllllllllllllllllllllll}\n",
       " Age & Attrition & BusinessTravel & DailyRate & Department & DistanceFromHome & Education & EducationField & EmployeeNumber & EnvironmentSatisfaction & ... & PercentSalaryHike & PerformanceRating & StockOptionLevel & TotalWorkingYears & TrainingTimesLastYear & WorkLifeBalance & YearsAtCompany & YearsInCurrentRole & YearsSinceLastPromotion & YearsWithCurrManager\\\\\n",
       "\\hline\n",
       "\t  0.44619856            & 1                      & Travel\\_Rarely        &  0.7422739             & Sales                  & -1.0105654             & -0.8913849             & Life Sciences          & -1.700704              & 2                      & ...                    & -1.15016269            & -0.426085              & 0                      & -0.4214990             & -2.1712429             & 1                      & -0.164557109           & -0.06327437            & -0.67891464            &  0.2457504            \\\\\n",
       "\t  1.32191535              & 0                        & Travel\\_Frequently      & -1.2973331               & Research \\& Development & -0.1470997               & -1.8677901               & Life Sciences            & -1.699043                & 3                        & ...                      &  2.12858163              &  2.345353                & 1                        & -0.1644554               &  0.1556541               & 3                        &  0.488341541             &  0.76473737              & -0.36858985              &  0.8062671              \\\\\n",
       "\t  0.00834016              & 1                        & Travel\\_Rarely          &  1.4138821               & Research \\& Development & -0.8872132               & -0.8913849               & Other                    & -1.695721                & 4                        & ...                      & -0.05724792              & -0.426085                & 0                        & -0.5500208               &  0.1556541               & 3                        & -1.143905083             & -1.16729002              & -0.67891464              & -1.1555415              \\\\\n",
       "\t -0.42951824              & 0                        & Travel\\_Frequently      &  1.4609690               & Research \\& Development & -0.7638609               &  1.0614255               & Life Sciences            & -1.694060                & 4                        & ...                      & -1.15016269              & -0.426085                & 0                        & -0.4214990               &  0.1556541               & 3                        &  0.161892216             &  0.76473737              &  0.25205973              & -1.1555415              \\\\\n",
       "\t -1.08630583              & 0                        & Travel\\_Rarely          & -0.5241163               & Research \\& Development & -0.8872132               & -1.8677901               & Medical                  & -1.690738                & 1                        & ...                      & -0.87693400              & -0.426085                & 1                        & -0.6785426               &  0.1556541               & 3                        & -0.817455758             & -0.61528219              & -0.05826506              & -0.5950247              \\\\\n",
       "\t -0.53898284              & 0                        & Travel\\_Frequently      &  0.5018828               & Research \\& Development & -0.8872132               & -0.8913849               & Life Sciences            & -1.689077                & 4                        & ...                      & -0.60370530              & -0.426085                & 0                        & -0.4214990               & -0.6199782               & 2                        & -0.001332446             &  0.76473737              &  0.25205973              &  0.5260087              \\\\\n",
       "\\end{tabular}\n"
      ],
      "text/markdown": [
       "\n",
       "Age | Attrition | BusinessTravel | DailyRate | Department | DistanceFromHome | Education | EducationField | EmployeeNumber | EnvironmentSatisfaction | ... | PercentSalaryHike | PerformanceRating | StockOptionLevel | TotalWorkingYears | TrainingTimesLastYear | WorkLifeBalance | YearsAtCompany | YearsInCurrentRole | YearsSinceLastPromotion | YearsWithCurrManager | \n",
       "|---|---|---|---|---|---|\n",
       "|  0.44619856            | 1                      | Travel_Rarely          |  0.7422739             | Sales                  | -1.0105654             | -0.8913849             | Life Sciences          | -1.700704              | 2                      | ...                    | -1.15016269            | -0.426085              | 0                      | -0.4214990             | -2.1712429             | 1                      | -0.164557109           | -0.06327437            | -0.67891464            |  0.2457504             | \n",
       "|  1.32191535            | 0                      | Travel_Frequently      | -1.2973331             | Research & Development | -0.1470997             | -1.8677901             | Life Sciences          | -1.699043              | 3                      | ...                    |  2.12858163            |  2.345353              | 1                      | -0.1644554             |  0.1556541             | 3                      |  0.488341541           |  0.76473737            | -0.36858985            |  0.8062671             | \n",
       "|  0.00834016            | 1                      | Travel_Rarely          |  1.4138821             | Research & Development | -0.8872132             | -0.8913849             | Other                  | -1.695721              | 4                      | ...                    | -0.05724792            | -0.426085              | 0                      | -0.5500208             |  0.1556541             | 3                      | -1.143905083           | -1.16729002            | -0.67891464            | -1.1555415             | \n",
       "| -0.42951824            | 0                      | Travel_Frequently      |  1.4609690             | Research & Development | -0.7638609             |  1.0614255             | Life Sciences          | -1.694060              | 4                      | ...                    | -1.15016269            | -0.426085              | 0                      | -0.4214990             |  0.1556541             | 3                      |  0.161892216           |  0.76473737            |  0.25205973            | -1.1555415             | \n",
       "| -1.08630583            | 0                      | Travel_Rarely          | -0.5241163             | Research & Development | -0.8872132             | -1.8677901             | Medical                | -1.690738              | 1                      | ...                    | -0.87693400            | -0.426085              | 1                      | -0.6785426             |  0.1556541             | 3                      | -0.817455758           | -0.61528219            | -0.05826506            | -0.5950247             | \n",
       "| -0.53898284            | 0                      | Travel_Frequently      |  0.5018828             | Research & Development | -0.8872132             | -0.8913849             | Life Sciences          | -1.689077              | 4                      | ...                    | -0.60370530            | -0.426085              | 0                      | -0.4214990             | -0.6199782             | 2                      | -0.001332446           |  0.76473737            |  0.25205973            |  0.5260087             | \n",
       "\n",
       "\n"
      ],
      "text/plain": [
       "  Age         Attrition BusinessTravel    DailyRate  Department            \n",
       "1  0.44619856 1         Travel_Rarely      0.7422739 Sales                 \n",
       "2  1.32191535 0         Travel_Frequently -1.2973331 Research & Development\n",
       "3  0.00834016 1         Travel_Rarely      1.4138821 Research & Development\n",
       "4 -0.42951824 0         Travel_Frequently  1.4609690 Research & Development\n",
       "5 -1.08630583 0         Travel_Rarely     -0.5241163 Research & Development\n",
       "6 -0.53898284 0         Travel_Frequently  0.5018828 Research & Development\n",
       "  DistanceFromHome Education  EducationField EmployeeNumber\n",
       "1 -1.0105654       -0.8913849 Life Sciences  -1.700704     \n",
       "2 -0.1470997       -1.8677901 Life Sciences  -1.699043     \n",
       "3 -0.8872132       -0.8913849 Other          -1.695721     \n",
       "4 -0.7638609        1.0614255 Life Sciences  -1.694060     \n",
       "5 -0.8872132       -1.8677901 Medical        -1.690738     \n",
       "6 -0.8872132       -0.8913849 Life Sciences  -1.689077     \n",
       "  EnvironmentSatisfaction ... PercentSalaryHike PerformanceRating\n",
       "1 2                       ... -1.15016269       -0.426085        \n",
       "2 3                       ...  2.12858163        2.345353        \n",
       "3 4                       ... -0.05724792       -0.426085        \n",
       "4 4                       ... -1.15016269       -0.426085        \n",
       "5 1                       ... -0.87693400       -0.426085        \n",
       "6 4                       ... -0.60370530       -0.426085        \n",
       "  StockOptionLevel TotalWorkingYears TrainingTimesLastYear WorkLifeBalance\n",
       "1 0                -0.4214990        -2.1712429            1              \n",
       "2 1                -0.1644554         0.1556541            3              \n",
       "3 0                -0.5500208         0.1556541            3              \n",
       "4 0                -0.4214990         0.1556541            3              \n",
       "5 1                -0.6785426         0.1556541            3              \n",
       "6 0                -0.4214990        -0.6199782            2              \n",
       "  YearsAtCompany YearsInCurrentRole YearsSinceLastPromotion\n",
       "1 -0.164557109   -0.06327437        -0.67891464            \n",
       "2  0.488341541    0.76473737        -0.36858985            \n",
       "3 -1.143905083   -1.16729002        -0.67891464            \n",
       "4  0.161892216    0.76473737         0.25205973            \n",
       "5 -0.817455758   -0.61528219        -0.05826506            \n",
       "6 -0.001332446    0.76473737         0.25205973            \n",
       "  YearsWithCurrManager\n",
       "1  0.2457504          \n",
       "2  0.8062671          \n",
       "3 -1.1555415          \n",
       "4 -1.1555415          \n",
       "5 -0.5950247          \n",
       "6  0.5260087          "
      ]
     },
     "metadata": {},
     "output_type": "display_data"
    },
    {
     "ename": "ERROR",
     "evalue": "Error in Summary.factor(structure(c(2L, 1L, 2L, 1L, 1L, 1L, 1L, 1L, 1L, : 'sum' not meaningful for factors\n",
     "output_type": "error",
     "traceback": [
      "Error in Summary.factor(structure(c(2L, 1L, 2L, 1L, 1L, 1L, 1L, 1L, 1L, : 'sum' not meaningful for factors\nTraceback:\n",
      "1. Summary.factor(structure(c(2L, 1L, 2L, 1L, 1L, 1L, 1L, 1L, 1L, \n . 1L, 1L, 1L, 1L, 1L, 2L, 1L, 1L, 1L, 1L, 1L, 1L, 2L, 1L, 1L, 2L, \n . 1L, 2L, 1L, 1L, 1L, 1L, 1L, 1L, 2L, 2L, 1L, 2L, 1L, 1L, 1L, 1L, \n . 1L, 2L, 1L, 1L, 2L, 1L, 1L, 1L, 1L, 2L, 2L, 1L, 1L, 1L, 1L, 1L, \n . 1L, 1L, 1L, 1L, 1L, 1L, 1L, 1L, 1L, 1L, 1L, 1L, 2L, 1L, 1L, 1L, \n . 1L, 1L, 1L, 1L, 1L, 1L, 1L, 1L, 1L, 1L, 1L, 1L, 1L, 1L, 1L, 1L, \n . 2L, 1L, 1L, 1L, 1L, 1L, 1L, 1L, 1L, 1L, 1L, 2L, 1L, 2L, 1L, 1L, \n . 1L, 1L, 2L, 1L, 1L, 1L, 2L, 1L, 1L, 1L, 1L, 1L, 1L, 1L, 1L, 1L, \n . 1L, 2L, 1L, 2L, 1L, 2L, 2L, 1L, 1L, 1L, 1L, 2L, 1L, 1L, 1L, 2L, \n . 1L, 1L, 1L, 2L, 1L, 1L, 1L, 1L, 1L, 1L, 1L, 1L, 1L, 1L, 1L, 1L, \n . 1L, 1L, 1L, 1L, 1L, 1L, 1L, 1L, 1L, 1L, 1L, 1L, 1L, 1L, 1L, 1L, \n . 1L, 1L, 2L, 1L, 1L, 1L, 1L, 1L, 2L, 1L, 1L, 1L, 1L, 2L, 1L, 1L, \n . 1L, 1L, 1L, 1L, 1L, 1L, 1L, 2L, 1L, 1L, 1L, 1L, 1L, 1L, 1L, 1L, \n . 1L, 1L, 1L, 2L, 2L, 1L, 1L, 1L, 1L, 2L, 1L, 1L, 1L, 2L, 1L, 2L, \n . 2L, 1L, 1L, 1L, 1L, 1L, 1L, 1L, 1L, 1L, 1L, 1L, 2L, 1L, 1L, 1L, \n . 1L, 2L, 1L, 2L, 1L, 1L, 2L, 1L, 1L, 1L, 1L, 1L, 1L, 1L, 1L, 1L, \n . 1L, 2L, 1L, 1L, 1L, 1L, 1L, 1L, 1L, 1L, 2L, 1L, 1L, 1L, 1L, 2L, \n . 1L, 1L, 1L, 1L, 1L, 1L, 2L, 1L, 1L, 1L, 1L, 1L, 1L, 1L, 1L, 1L, \n . 1L, 1L, 1L, 1L, 1L, 2L, 1L, 2L, 1L, 1L, 1L, 1L, 2L, 1L, 1L, 2L, \n . 1L, 1L, 1L, 1L, 1L, 1L, 1L, 1L, 1L, 1L, 1L, 1L, 1L, 1L, 1L, 1L, \n . 1L, 1L, 1L, 1L, 2L, 1L, 1L, 1L, 1L, 1L, 2L, 1L, 1L, 1L, 2L, 1L, \n . 1L, 1L, 1L, 1L, 1L, 1L, 1L, 2L, 1L, 1L, 1L, 1L, 1L, 1L, 1L, 1L, \n . 1L, 1L, 1L, 1L, 1L, 1L, 1L, 1L, 1L, 1L, 1L, 1L, 2L, 1L, 1L, 1L, \n . 1L, 1L, 2L, 1L, 1L, 2L, 1L, 2L, 1L, 2L, 1L, 1L, 1L, 1L, 1L, 1L, \n . 1L, 2L, 1L, 1L, 1L, 2L, 1L, 1L, 2L, 1L, 1L, 1L, 1L, 1L, 1L, 1L, \n . 1L, 1L, 1L, 1L, 1L, 1L, 1L, 1L, 1L, 1L, 1L, 1L, 2L, 1L, 1L, 1L, \n . 1L, 1L, 1L, 1L, 1L, 2L, 2L, 1L, 1L, 1L, 1L, 1L, 2L, 2L, 1L, 1L, \n . 1L, 1L, 1L, 1L, 1L, 1L, 1L, 1L, 1L, 1L, 2L, 2L, 1L, 1L, 2L, 2L, \n . 1L, 1L, 2L, 1L, 1L, 1L, 1L, 1L, 1L, 1L, 1L, 1L, 2L, 1L, 1L, 1L, \n . 2L, 1L, 1L, 1L, 1L, 1L, 2L, 1L, 1L, 1L, 1L, 1L, 2L, 1L, 1L, 1L, \n . 1L, 1L, 1L, 1L, 1L, 1L, 2L, 2L, 1L, 2L, 1L, 1L, 1L, 1L, 1L, 1L, \n . 1L, 1L, 1L, 1L, 1L, 1L, 2L, 1L, 1L, 1L, 1L, 1L, 1L, 1L, 1L, 2L, \n . 1L, 1L, 1L, 1L, 1L, 1L, 1L, 1L, 2L, 2L, 1L, 1L, 1L, 1L, 1L, 1L, \n . 1L, 1L, 1L, 1L, 2L, 1L, 1L, 2L, 1L, 1L, 1L, 1L, 1L, 1L, 1L, 1L, \n . 1L, 1L, 1L, 2L, 1L, 1L, 1L, 1L, 1L, 1L, 2L, 1L, 1L, 1L, 1L, 1L, \n . 1L, 1L, 1L, 1L, 1L, 1L, 1L, 1L, 1L, 2L, 1L, 1L, 1L, 2L, 1L, 2L, \n . 1L, 1L, 1L, 1L, 2L, 1L, 1L, 1L, 1L, 1L, 1L, 1L, 1L, 1L, 1L, 1L, \n . 2L, 1L, 1L, 1L, 2L, 1L, 2L, 1L, 1L, 1L, 2L, 1L, 1L, 2L, 1L, 1L, \n . 1L, 1L, 1L, 1L, 1L, 1L, 2L, 2L, 1L, 1L, 1L, 1L, 1L, 2L, 1L, 1L, \n . 1L, 1L, 1L, 1L, 1L, 1L, 1L, 1L, 1L, 1L, 1L, 1L, 1L, 1L, 1L, 1L, \n . 1L, 1L, 1L, 2L, 1L, 1L, 1L, 1L, 1L, 1L, 1L, 1L, 2L, 1L, 1L, 1L, \n . 1L, 1L, 1L, 1L, 1L, 1L, 1L, 2L, 1L, 1L, 1L, 2L, 1L, 2L, 2L, 1L, \n . 1L, 2L, 2L, 1L, 2L, 1L, 1L, 1L, 1L, 1L, 1L, 1L, 1L, 1L, 1L, 1L, \n . 1L, 1L, 2L, 1L, 1L, 1L, 1L, 2L, 2L, 1L, 1L, 1L, 2L, 1L, 2L, 1L, \n . 1L, 1L, 1L, 2L, 1L, 1L, 1L, 1L, 1L, 2L, 1L, 1L, 2L, 1L, 2L, 1L, \n . 1L, 1L, 1L, 1L, 1L, 1L, 1L, 2L, 1L, 1L, 1L, 1L, 2L, 1L, 1L, 1L, \n . 1L, 1L, 2L, 2L, 1L, 1L, 1L, 1L, 1L, 1L, 1L, 1L, 1L, 1L, 1L, 2L, \n . 1L, 1L, 1L, 2L, 2L, 1L, 1L, 2L, 1L, 1L, 1L, 1L, 1L, 1L, 1L, 1L, \n . 2L, 2L, 1L, 1L, 1L, 1L, 1L, 1L, 1L, 1L, 1L, 1L, 1L, 1L, 1L, 2L, \n . 2L, 1L, 2L, 2L, 1L, 1L, 1L, 1L, 1L, 1L, 1L, 1L, 2L, 1L, 2L, 2L, \n . 1L, 1L, 1L, 2L, 2L, 2L, 1L, 2L, 2L, 1L, 1L, 1L, 1L, 1L, 1L, 1L, \n . 1L, 1L, 1L, 1L, 2L, 1L, 1L, 1L, 1L, 1L, 1L, 1L, 1L, 1L, 1L, 1L, \n . 1L, 1L, 1L, 2L, 2L, 1L, 2L, 1L, 1L, 1L, 1L, 2L, 1L, 2L, 1L, 1L, \n . 1L, 2L, 1L, 1L, 1L, 1L, 1L, 1L, 2L, 1L, 1L, 1L, 1L, 1L, 1L, 1L, \n . 2L, 1L, 1L, 2L, 1L, 1L, 1L, 2L, 1L, 1L, 1L, 1L, 1L, 1L, 2L, 1L, \n . 1L, 1L, 1L, 1L, 1L, 1L, 1L, 1L, 1L, 1L, 1L, 1L, 1L, 1L, 1L, 1L, \n . 1L, 1L, 1L, 2L, 1L, 1L, 1L, 1L, 1L, 1L, 1L, 1L, 1L, 1L, 1L, 1L, \n . 1L, 1L, 1L, 1L, 1L, 1L, 2L, 1L, 2L, 1L, 2L, 1L, 1L, 1L, 1L, 1L, \n . 1L, 1L, 1L, 1L, 1L, 1L, 1L, 2L, 1L, 1L, 1L, 2L, 1L, 1L, 1L, 1L, \n . 1L, 1L, 2L, 2L, 1L, 1L, 1L, 1L, 1L, 2L, 2L, 1L, 1L, 1L, 1L, 2L, \n . 2L, 1L, 1L, 1L, 1L, 1L, 1L, 1L, 1L, 1L, 1L, 1L, 1L, 2L, 1L, 1L, \n . 1L, 1L, 1L, 1L, 1L, 1L, 2L, 1L, 1L, 1L, 1L, 2L, 2L, 1L, 1L, 1L, \n . 2L, 1L, 1L, 1L, 1L, 1L, 1L, 1L, 1L, 1L, 1L, 1L, 2L, 1L, 1L, 1L, \n . 1L, 1L, 1L, 1L, 1L, 2L, 2L, 1L, 1L, 1L, 1L, 2L, 1L, 1L, 1L, 2L, \n . 1L, 1L, 1L, 1L, 2L, 1L, 1L, 1L, 1L, 1L, 1L, 1L, 1L, 1L, 2L, 2L, \n . 2L, 1L, 1L, 2L, 1L, 1L, 2L, 1L, 1L, 1L, 1L, 1L, 1L, 1L, 1L, 1L, \n . 1L, 1L, 1L, 1L, 1L, 1L, 1L, 2L, 2L, 2L, 1L, 2L, 1L, 1L, 1L, 1L, \n . 1L, 1L, 1L, 2L, 1L, 1L, 1L, 1L, 1L, 1L, 1L, 1L, 2L, 1L, 1L, 1L, \n . 1L, 1L, 2L, 1L, 2L, 1L, 1L, 1L, 1L, 1L, 1L, 1L, 1L, 1L, 1L, 1L, \n . 1L, 1L, 1L, 1L, 1L, 1L, 1L, 1L, 1L, 2L, 1L, 1L, 1L, 2L, 2L, 2L, \n . 1L, 1L, 1L, 1L, 1L, 1L, 1L, 1L, 1L, 1L, 1L, 1L, 1L, 1L, 1L, 1L, \n . 1L, 1L, 1L, 1L, 1L, 1L, 1L, 2L, 1L, 1L, 1L, 1L, 1L, 1L, 1L, 1L, \n . 1L, 1L, 1L, 1L, 1L, 1L, 1L, 1L, 2L, 1L, 1L, 1L, 1L, 1L, 1L, 1L, \n . 1L, 2L, 1L, 1L, 1L, 1L, 2L, 1L, 1L, 1L, 2L, 1L, 1L, 1L, 1L, 1L, \n . 1L, 1L, 1L, 1L, 1L, 1L, 1L, 1L, 1L, 2L, 1L, 1L, 1L, 1L, 1L, 1L, \n . 1L, 1L, 1L, 1L, 1L, 1L, 1L, 1L, 2L, 1L, 1L, 2L, 2L, 1L, 1L, 1L, \n . 1L, 1L, 1L, 1L, 2L, 1L, 1L, 1L, 1L, 1L, 1L, 1L, 1L, 2L, 2L, 1L, \n . 1L, 1L, 1L, 1L, 1L, 1L, 1L, 1L, 1L, 1L, 1L, 2L, 2L, 1L, 1L, 1L, \n . 1L, 1L, 1L, 1L, 1L, 2L, 1L, 1L, 2L, 1L, 1L, 1L, 1L, 1L, 2L, 1L, \n . 2L, 1L, 1L, 1L, 1L, 2L, 1L, 1L, 1L, 1L, 1L, 1L, 1L, 1L, 2L, 1L, \n . 2L, 1L, 1L, 1L, 1L, 1L, 2L, 1L, 2L, 1L, 1L, 1L, 1L, 1L, 1L, 1L, \n . 1L, 2L, 2L, 1L, 1L, 1L, 1L, 1L, 2L, 2L, 1L, 1L, 1L, 1L, 1L, 1L, \n . 1L, 1L, 1L, 1L, 1L, 1L, 1L, 2L, 2L, 1L, 1L, 1L, 1L, 1L, 1L, 1L, \n . 1L, 1L, 1L, 1L, 1L, 2L, 1L, 1L, 1L, 1L, 1L, 2L, 2L, 1L, 1L, 1L, \n . 1L, 2L, 2L, 1L, 1L, 1L, 1L, 1L, 1L, 1L, 1L, 1L, 1L, 1L, 1L, 1L, \n . 2L, 2L, 1L, 1L, 1L, 1L, 1L, 1L, 1L, 1L, 1L, 1L, 2L, 1L, 1L, 1L, \n . 2L, 1L, 1L, 1L, 1L, 1L, 2L, 1L, 1L, 1L, 2L, 1L, 1L, 1L, 1L, 1L, \n . 1L, 1L, 1L, 1L, 1L, 2L, 1L, 1L, 1L, 1L, 2L, 2L, 1L, 1L, 1L, 1L, \n . 1L, 1L, 1L, 1L, 1L, 1L, 1L, 1L, 1L, 1L, 1L, 1L, 1L, 1L, 1L, 1L, \n . 1L, 1L, 1L, 1L, 1L, 1L, 1L, 1L, 1L, 1L, 1L, 1L, 1L, 1L, 1L, 1L, \n . 1L, 1L, 1L, 1L, 1L, 2L, 1L, 1L, 1L, 2L, 1L, 2L, 1L, 1L, 1L, 1L, \n . 1L, 1L, 1L, 2L, 1L, 1L, 1L, 1L, 1L, 1L, 1L, 1L, 2L, 1L, 1L, 1L, \n . 1L, 1L, 1L, 1L, 1L), .Label = c(\"0\", \"1\"), class = \"factor\"), \n .     na.rm = FALSE)",
      "2. stop(gettextf(\"%s not meaningful for factors\", sQuote(.Generic)))"
     ]
    }
   ],
   "source": [
    "# Scaling the numeric attributes:\n",
    "ints_index=1\n",
    "for(i in 3:30)\n",
    "   { if (class(hrdata[,i])== 'integer')\n",
    "ints_index=c(ints_index,i) }\n",
    "print(ints_index)\n",
    "hrdata[,ints_index]=scale(hrdata[,ints_index])\n",
    "head(hrdata[,ints_index])\n"
   ]
  },
  {
   "cell_type": "code",
   "execution_count": 78,
   "metadata": {},
   "outputs": [],
   "source": [
    "# All set for model building\n",
    "# Lets split the data into training and testing set\n",
    "hrdata$Attrition<-as.factor(hrdata$Attrition)\n",
    "set.seed(123)\n",
    "split<-sample.split(hrdata,SplitRatio = 0.8)\n",
    "train<-subset(hrdata,split==TRUE)\n",
    "test<-subset(hrdata,split==FALSE)"
   ]
  },
  {
   "cell_type": "code",
   "execution_count": 84,
   "metadata": {},
   "outputs": [
    {
     "data": {
      "image/png": "[encoded data removed]",
      "text/plain": [
       "plot without title"
      ]
     },
     "metadata": {},
     "output_type": "display_data"
    },
    {
     "name": "stdout",
     "output_type": "stream",
     "text": [
      "[1] \"lambda_min\"\n",
      "[1] 0.009242303\n",
      "[1] \"lambda_1se\"\n",
      "[1] 0.0594102\n",
      "[1] -2.823289\n"
     ]
    },
    {
     "data": {
      "text/plain": [
       "57 x 1 sparse Matrix of class \"dgCMatrix\"\n",
       "                                            1\n",
       "(Intercept)                      -1.194769007\n",
       "Age                              -0.176009838\n",
       "BusinessTravelTravel_Frequently   0.553434619\n",
       "BusinessTravelTravel_Rarely       0.059647381\n",
       "DailyRate                        -0.144359651\n",
       "DepartmentResearch & Development -0.181226338\n",
       "DepartmentSales                   0.192882400\n",
       "DistanceFromHome                  0.189245952\n",
       "Education                         0.014297403\n",
       "EducationFieldLife Sciences      -0.019089533\n",
       "EducationFieldMarketing           0.030568146\n",
       "EducationFieldMedical            -0.168123289\n",
       "EducationFieldOther              -0.040907790\n",
       "EducationFieldTechnical Degree    0.266533362\n",
       "EmployeeNumber                   -0.031142885\n",
       "EnvironmentSatisfaction2         -0.207250196\n",
       "EnvironmentSatisfaction3         -0.426513647\n",
       "EnvironmentSatisfaction4         -0.356650345\n",
       "HourlyRate                       -0.009709584\n",
       "JobInvolvement2                   0.065416820\n",
       "JobInvolvement3                  -0.317624094\n",
       "JobInvolvement4                  -0.628760319\n",
       "JobLevel2                        -0.517444350\n",
       "JobLevel3                         0.127325437\n",
       "JobLevel4                        -0.364002993\n",
       "JobLevel5                         0.177520370\n",
       "JobRoleHuman Resources            0.262929374\n",
       "JobRoleLaboratory Technician      0.443287196\n",
       "JobRoleManager                   -0.276642974\n",
       "JobRoleManufacturing Director    -0.227611037\n",
       "JobRoleResearch Director         -0.647210030\n",
       "JobRoleResearch Scientist        -0.141556959\n",
       "JobRoleSales Executive            0.143755627\n",
       "JobRoleSales Representative       0.486474840\n",
       "JobSatisfaction2                 -0.097348105\n",
       "JobSatisfaction3                 -0.171360129\n",
       "JobSatisfaction4                 -0.435684330\n",
       "MaritalStatusMarried              0.011178299\n",
       "MaritalStatusSingle               0.415150439\n",
       "MonthlyIncome                    -0.137408246\n",
       "MonthlyRate                       0.015183071\n",
       "NumCompaniesWorked                0.181885493\n",
       "OverTimeYes                       1.003854118\n",
       "PercentSalaryHike                 0.010862101\n",
       "PerformanceRating                 0.011008295\n",
       "StockOptionLevel1                -0.368872643\n",
       "StockOptionLevel2                -0.502938614\n",
       "StockOptionLevel3                 0.047781505\n",
       "TotalWorkingYears                -0.090452066\n",
       "TrainingTimesLastYear            -0.103411984\n",
       "WorkLifeBalance2                 -0.061585172\n",
       "WorkLifeBalance3                 -0.399203369\n",
       "WorkLifeBalance4                 -0.053910012\n",
       "YearsAtCompany                    0.010993151\n",
       "YearsInCurrentRole               -0.137421298\n",
       "YearsSinceLastPromotion           0.128210793\n",
       "YearsWithCurrManager             -0.127162459"
      ]
     },
     "metadata": {},
     "output_type": "display_data"
    },
    {
     "name": "stdout",
     "output_type": "stream",
     "text": [
      "               1\n",
      "5    0.206162138\n",
      "8    0.144873904\n",
      "11   0.074022320\n",
      "16   0.051120117\n",
      "20   0.234462159\n",
      "24   0.128762928\n",
      "35   0.192876251\n",
      "38   0.138675944\n",
      "41   0.076511845\n",
      "46   0.039444431\n",
      "50   0.078489452\n",
      "54   0.180416739\n",
      "65   0.065871021\n",
      "68   0.047045533\n",
      "71   0.270869735\n",
      "76   0.035968610\n",
      "80   0.155069555\n",
      "84   0.084910132\n",
      "95   0.102718672\n",
      "98   0.116750520\n",
      "101  0.346008491\n",
      "106  0.028902243\n",
      "110  0.219559378\n",
      "114  0.131426245\n",
      "125  0.404642784\n",
      "128  0.787211413\n",
      "131  0.169871404\n",
      "136  0.052123986\n",
      "140  0.134359400\n",
      "144  0.231092403\n",
      "155  0.205953081\n",
      "158  0.208684126\n",
      "161  0.035789440\n",
      "166  0.038039557\n",
      "170  0.141006591\n",
      "174  0.038116071\n",
      "185  0.012953848\n",
      "188  0.013438970\n",
      "191  0.011322352\n",
      "196  0.183264858\n",
      "200  0.042741690\n",
      "204  0.186564897\n",
      "215  0.312062553\n",
      "218  0.155142883\n",
      "221  0.110928754\n",
      "226  0.039592807\n",
      "230  0.349956363\n",
      "234  0.022636157\n",
      "245  0.011499216\n",
      "248  0.043706232\n",
      "251  0.098429603\n",
      "256  0.033716757\n",
      "260  0.521402055\n",
      "264  0.130752366\n",
      "275  0.184190748\n",
      "278  0.181280854\n",
      "281  0.030930237\n",
      "286  0.036327343\n",
      "290  0.080235688\n",
      "294  0.337352693\n",
      "305  0.018005581\n",
      "308  0.072219136\n",
      "311  0.246329214\n",
      "316  0.134685168\n",
      "320  0.294333385\n",
      "324  0.309087999\n",
      "335  0.026222495\n",
      "338  0.255318228\n",
      "341  0.024438367\n",
      "346  0.071757749\n",
      "350  0.069409184\n",
      "354  0.038134334\n",
      "365  0.091040046\n",
      "368  0.135858054\n",
      "371  0.393755388\n",
      "376  0.168980821\n",
      "380  0.036262813\n",
      "384  0.138550520\n",
      "395  0.025282572\n",
      "398  0.299371713\n",
      "401  0.065873162\n",
      "406  0.140911288\n",
      "410  0.081452904\n",
      "414  0.123011589\n",
      "425  0.092718431\n",
      "428  0.222857980\n",
      "431  0.336129720\n",
      "436  0.236852195\n",
      "440  0.286948393\n",
      "444  0.429910629\n",
      "455  0.078276947\n",
      "458  0.708186057\n",
      "461  0.129157207\n",
      "466  0.174372364\n",
      "470  0.087227738\n",
      "474  0.029002587\n",
      "485  0.047886290\n",
      "488  0.290525291\n",
      "491  0.174747355\n",
      "496  0.102155164\n",
      "500  0.066699064\n",
      "504  0.033876524\n",
      "515  0.383571290\n",
      "518  0.049337550\n",
      "521  0.051677012\n",
      "526  0.299864760\n",
      "530  0.028114197\n",
      "534  0.301067716\n",
      "545  0.248052637\n",
      "548  0.260411863\n",
      "551  0.178363396\n",
      "556  0.153275892\n",
      "560  0.270874084\n",
      "564  0.124467988\n",
      "575  0.080832528\n",
      "578  0.179314825\n",
      "581  0.239321516\n",
      "586  0.205253227\n",
      "590  0.407228064\n",
      "594  0.016492824\n",
      "605  0.048553372\n",
      "608  0.053012248\n",
      "611  0.073916865\n",
      "616  0.074559646\n",
      "620  0.032153742\n",
      "624  0.174379705\n",
      "635  0.231991507\n",
      "638  0.072831055\n",
      "641  0.216857975\n",
      "646  0.588129872\n",
      "650  0.031233946\n",
      "654  0.018706901\n",
      "665  0.043784420\n",
      "668  0.282714173\n",
      "671  0.160829438\n",
      "676  0.439176112\n",
      "680  0.076236080\n",
      "684  0.650958090\n",
      "695  0.064620318\n",
      "698  0.195129030\n",
      "701  0.124811342\n",
      "706  0.098372029\n",
      "710  0.407759762\n",
      "714  0.039453060\n",
      "725  0.033453088\n",
      "728  0.166057845\n",
      "731  0.115374788\n",
      "736  0.144800051\n",
      "740  0.029712253\n",
      "744  0.068556067\n",
      "755  0.358477408\n",
      "758  0.034577109\n",
      "761  0.115887855\n",
      "766  0.068702816\n",
      "770  0.096200854\n",
      "774  0.102097697\n",
      "785  0.064448586\n",
      "788  0.033960132\n",
      "791  0.084968236\n",
      "796  0.233768142\n",
      "800  0.016446680\n",
      "804  0.097543439\n",
      "815  0.048016979\n",
      "818  0.059652727\n",
      "821  0.063017418\n",
      "826  0.101711902\n",
      "830  0.355377568\n",
      "834  0.125594010\n",
      "845  0.069875932\n",
      "848  0.090309187\n",
      "851  0.185367983\n",
      "856  0.019105793\n",
      "860  0.222682962\n",
      "864  0.102462213\n",
      "875  0.080280055\n",
      "878  0.028024834\n",
      "881  0.290338253\n",
      "886  0.075601465\n",
      "890  0.225941696\n",
      "894  0.059445528\n",
      "905  0.065694316\n",
      "908  0.029652146\n",
      "911  0.081253020\n",
      "916  0.687190855\n",
      "920  0.044637477\n",
      "924  0.100709307\n",
      "935  0.178766393\n",
      "938  0.103084151\n",
      "941  0.130627270\n",
      "946  0.068878785\n",
      "950  0.050143883\n",
      "954  0.201060650\n",
      "965  0.132231334\n",
      "968  0.106496477\n",
      "971  0.101450320\n",
      "976  0.287659110\n",
      "980  0.099595446\n",
      "984  0.051100493\n",
      "995  0.093677836\n",
      "998  0.401120845\n",
      "1001 0.225636483\n",
      "1006 0.330023673\n",
      "1010 0.020416952\n",
      "1014 0.085716359\n",
      "1025 0.010698263\n",
      "1028 0.201923393\n",
      "1031 0.081340903\n",
      "1036 0.170434522\n",
      "1040 0.248342243\n",
      "1044 0.017217143\n",
      "1055 0.016662123\n",
      "1058 0.537912489\n",
      "1061 0.738486324\n",
      "1066 0.071420141\n",
      "1070 0.139703080\n",
      "1074 0.049278720\n",
      "1085 0.346125397\n",
      "1088 0.224177848\n",
      "1091 0.038177287\n",
      "1096 0.145101808\n",
      "1100 0.096720262\n",
      "1104 0.066704049\n",
      "1115 0.103868597\n",
      "1118 0.045983576\n",
      "1121 0.199109754\n",
      "1126 0.071533096\n",
      "1130 0.095260005\n",
      "1134 0.139070457\n",
      "1145 0.237100720\n",
      "1148 0.114955882\n",
      "1151 0.024320822\n",
      "1156 0.035027226\n",
      "1160 0.108825856\n",
      "1164 0.061018553\n",
      "1175 0.014150305\n",
      "1178 0.038116120\n",
      "1181 0.225313655\n",
      "1186 0.009916608\n",
      "1190 0.023836714\n",
      "1194 0.342569460\n",
      "1205 0.225482539\n",
      "1208 0.146101985\n",
      "1211 0.065447919\n",
      "1216 0.467273861\n",
      "1220 0.135137797\n",
      "1224 0.196988286\n",
      "1235 0.095448918\n",
      "1238 0.250868230\n",
      "1241 0.056528144\n",
      "1246 0.165346256\n",
      "1250 0.437691179\n",
      "1254 0.135559266\n",
      "1265 0.044679040\n",
      "1268 0.054693666\n",
      "1271 0.147952899\n",
      "1276 0.065904939\n",
      "1280 0.255832180\n",
      "1284 0.029699988\n",
      "1295 0.085011744\n",
      "1298 0.307596985\n",
      "1301 0.031491752\n",
      "1306 0.020638106\n",
      "1310 0.082278499\n",
      "1314 0.664610316\n",
      "1325 0.092376711\n",
      "1328 0.017147821\n",
      "1331 0.051655884\n",
      "1336 0.067550324\n",
      "1340 0.387254270\n",
      "1344 0.252381367\n",
      "1355 0.162808441\n",
      "1358 0.028541320\n",
      "1361 0.214028143\n",
      "1366 0.522144603\n",
      "1370 0.325811437\n",
      "1374 0.066894750\n",
      "1385 0.178967605\n",
      "1388 0.061462578\n",
      "1391 0.223357894\n",
      "1396 0.280102837\n",
      "1400 0.052077663\n",
      "1404 0.137696521\n",
      "1415 0.091359068\n",
      "1418 0.151978452\n",
      "1421 0.035573466\n",
      "1426 0.067917893\n",
      "1430 0.102699707\n",
      "1434 0.189948315\n",
      "1445 0.139104338\n",
      "1448 0.066312602\n",
      "1451 0.326930920\n",
      "1456 0.102724452\n",
      "1460 0.206784909\n",
      "1464 0.045748017\n"
     ]
    },
    {
     "data": {
      "text/plain": [
       "             y_test\n",
       "ridge_predict   0   1\n",
       "            0 240  44\n",
       "            1   0  10"
      ]
     },
     "metadata": {},
     "output_type": "display_data"
    },
    {
     "data": {
      "text/html": [
       "0.850340136054422"
      ],
      "text/latex": [
       "0.850340136054422"
      ],
      "text/markdown": [
       "0.850340136054422"
      ],
      "text/plain": [
       "[1] 0.8503401"
      ]
     },
     "metadata": {},
     "output_type": "display_data"
    },
    {
     "data": {
      "image/png": "[encoded data removed]",
      "text/plain": [
       "plot without title"
      ]
     },
     "metadata": {},
     "output_type": "display_data"
    }
   ],
   "source": [
    "# 1) Using Ridge Regression Classification to shrink non-significant variables:\n",
    "\n",
    "\n",
    "x_train=model.matrix(Attrition~.,train)[,-1]\n",
    "y_train=train$Attrition\n",
    "x_test=model.matrix(Attrition~.,test)[,-1]\n",
    "y_test=test$Attrition\n",
    "\n",
    "\n",
    "#set.seed(1)\n",
    "#train= sample(1:nrow(x),nrow(x)/2)\n",
    "#test=(-train)\n",
    "#y.test=y[test]\n",
    "grid=10^seq(10,-2,length=100)\n",
    "library(glmnet)\n",
    "ridge.mod <- glmnet(x_train,y_train,alpha=0,family=\"binomial\" ,lambda=grid)\n",
    "plot(ridge.mod)\n",
    "cv.out <- cv.glmnet(x_train,y_train,alpha=0,family=\"binomial\",type.measure = \"mse\")\n",
    "#plot result\n",
    "plot(cv.out)\n",
    "\n",
    "#min value of lambda\n",
    "lambda_min <- cv.out$lambda.min\n",
    "print(\"lambda_min\")\n",
    "print(lambda_min)\n",
    "#best value of lambda\n",
    "lambda_1se <- cv.out$lambda.1se\n",
    "print(\"lambda_1se\")\n",
    "print(lambda_1se)\n",
    "print(log(lambda_1se))\n",
    "#regression coefficients\n",
    "coef(cv.out,s=lambda_1se)\n",
    "\n",
    "#predict class, type=”class”\n",
    "ridge_prob <- predict(cv.out,newx = x_test,s=lambda_1se,type=\"response\")\n",
    "#translate probabilities to predictions\n",
    "ridge_predict <- rep(0,nrow(x_test))\n",
    "ridge_predict[ridge_prob>.5] <- 1\n",
    "\n",
    "#confusion matrix\n",
    "table(ridge_predict,y_test)\n",
    "mean(ridge_predict==y_test)"
   ]
  },
  {
   "cell_type": "code",
   "execution_count": 83,
   "metadata": {},
   "outputs": [
    {
     "data": {
      "image/png": "[encoded data removed]",
      "text/plain": [
       "plot without title"
      ]
     },
     "metadata": {},
     "output_type": "display_data"
    },
    {
     "name": "stdout",
     "output_type": "stream",
     "text": [
      "[1] 0.001404748\n",
      "[1] 0.007496717\n"
     ]
    },
    {
     "data": {
      "text/plain": [
       "57 x 1 sparse Matrix of class \"dgCMatrix\"\n",
       "                                           1\n",
       "(Intercept)                      -0.84362280\n",
       "Age                              -0.25710006\n",
       "BusinessTravelTravel_Frequently   0.66806859\n",
       "BusinessTravelTravel_Rarely       .         \n",
       "DailyRate                        -0.17040387\n",
       "DepartmentResearch & Development -0.56675946\n",
       "DepartmentSales                   0.18402066\n",
       "DistanceFromHome                  0.23755307\n",
       "Education                         .         \n",
       "EducationFieldLife Sciences       .         \n",
       "EducationFieldMarketing           .         \n",
       "EducationFieldMedical            -0.11693325\n",
       "EducationFieldOther               .         \n",
       "EducationFieldTechnical Degree    0.22270982\n",
       "EmployeeNumber                    .         \n",
       "EnvironmentSatisfaction2         -0.22975035\n",
       "EnvironmentSatisfaction3         -0.58492533\n",
       "EnvironmentSatisfaction4         -0.51813500\n",
       "HourlyRate                        .         \n",
       "JobInvolvement2                   .         \n",
       "JobInvolvement3                  -0.45434037\n",
       "JobInvolvement4                  -0.94085579\n",
       "JobLevel2                        -0.76741131\n",
       "JobLevel3                         .         \n",
       "JobLevel4                        -0.38909253\n",
       "JobLevel5                         .         \n",
       "JobRoleHuman Resources            .         \n",
       "JobRoleLaboratory Technician      0.57318012\n",
       "JobRoleManager                    .         \n",
       "JobRoleManufacturing Director     .         \n",
       "JobRoleResearch Director         -0.59708115\n",
       "JobRoleResearch Scientist        -0.04778655\n",
       "JobRoleSales Executive            .         \n",
       "JobRoleSales Representative       0.20591858\n",
       "JobSatisfaction2                  .         \n",
       "JobSatisfaction3                 -0.10160683\n",
       "JobSatisfaction4                 -0.52138454\n",
       "MaritalStatusMarried              .         \n",
       "MaritalStatusSingle               0.44664799\n",
       "MonthlyIncome                    -0.22508316\n",
       "MonthlyRate                       .         \n",
       "NumCompaniesWorked                0.24412738\n",
       "OverTimeYes                       1.40524899\n",
       "PercentSalaryHike                 .         \n",
       "PerformanceRating                 .         \n",
       "StockOptionLevel1                -0.43205014\n",
       "StockOptionLevel2                -0.53009717\n",
       "StockOptionLevel3                 .         \n",
       "TotalWorkingYears                 .         \n",
       "TrainingTimesLastYear            -0.08072972\n",
       "WorkLifeBalance2                  .         \n",
       "WorkLifeBalance3                 -0.43979839\n",
       "WorkLifeBalance4                  .         \n",
       "YearsAtCompany                    .         \n",
       "YearsInCurrentRole               -0.10212854\n",
       "YearsSinceLastPromotion           0.12118550\n",
       "YearsWithCurrManager             -0.12446673"
      ]
     },
     "metadata": {},
     "output_type": "display_data"
    },
    {
     "data": {
      "text/plain": [
       "             y_test\n",
       "lasso_predict   0   1\n",
       "            0 239  43\n",
       "            1   1  11"
      ]
     },
     "metadata": {},
     "output_type": "display_data"
    },
    {
     "data": {
      "text/html": [
       "0.850340136054422"
      ],
      "text/latex": [
       "0.850340136054422"
      ],
      "text/markdown": [
       "0.850340136054422"
      ],
      "text/plain": [
       "[1] 0.8503401"
      ]
     },
     "metadata": {},
     "output_type": "display_data"
    },
    {
     "data": {
      "image/png": "[encoded data removed]",
      "text/plain": [
       "plot without title"
      ]
     },
     "metadata": {},
     "output_type": "display_data"
    }
   ],
   "source": [
    "# 2) Using Lasso Regression Classification to shrink non-significant variables to zero:\n",
    "x_train=model.matrix(Attrition~.,train)[,-1]\n",
    "y_train=train$Attrition\n",
    "x_test=model.matrix(Attrition~.,test)[,-1]\n",
    "y_test=test$Attrition\n",
    "grid=10^seq(10,-2,length=100)\n",
    "library(glmnet)\n",
    "lasso.mod <- glmnet(x_train,y_train,alpha=1,family=\"binomial\" ,lambda=grid)\n",
    "plot(lasso.mod)\n",
    "\n",
    "cv.out <- cv.glmnet(x_train,y_train,alpha=1,family=\"binomial\",type.measure = \"mse\" )\n",
    "#plot result\n",
    "plot(cv.out)\n",
    "#min value of lambda\n",
    "lambda_min <- cv.out$lambda.min\n",
    "print(lambda_min)\n",
    "#best value of lambda\n",
    "lambda_1se <- cv.out$lambda.1se\n",
    "print(lambda_1se)\n",
    "#regression coefficients\n",
    "coef(cv.out,s=lambda_1se)\n",
    "\n",
    "#predict class, type=”class”\n",
    "lasso_prob <- predict(cv.out,newx = x_test,s=lambda_1se,type=\"response\")\n",
    "#translate probabilities to predictions\n",
    "lasso_predict <- rep(0,nrow(x_test))\n",
    "lasso_predict[lasso_prob>.5] <- 1\n",
    "#confusion matrix\n",
    "table(lasso_predict,y_test)\n",
    "mean(lasso_predict==y_test)\n"
   ]
  },
  {
   "cell_type": "code",
   "execution_count": null,
   "metadata": {},
   "outputs": [],
   "source": [
    "# 3) Building a logistic regression model by random split:\n",
    "logistic<- glm(Attrition~.,data=train,family=binomial)\n",
    "prob_pred<-predict(logistic,newdata=test,type='response')\n",
    "l_pred<-ifelse(prob_pred>0.5,1,0)\n",
    "cm<- table(test$Attrition,l_pred)\n",
    "cm\n",
    "accuracy<-sum(diag(cm))/sum(cm)\n",
    "accuracy"
   ]
  },
  {
   "cell_type": "code",
   "execution_count": null,
   "metadata": {},
   "outputs": [],
   "source": [
    "# 3) Building a logistic Regression by cross validation to get a more realistic accuracy:\n",
    "library(caret)\n",
    "logistic = train(Attrition ~ ., data=train, method=\"glm\",\n",
    "                trControl = trainControl(method = \"cv\"))\n",
    "\n",
    "\n",
    "pred <- predict(logistic,newdata = test)\n",
    "\n",
    "table(pred,y_test)\n",
    "mean(pred == y_test)"
   ]
  },
  {
   "cell_type": "code",
   "execution_count": null,
   "metadata": {},
   "outputs": [],
   "source": [
    "# 4) Building a linear discriminant model by random split:\n",
    "library(MASS)\n",
    "ldafit<- lda(Attrition~.,data=train)\n",
    "\n",
    "prob_pred<-predict(ldafit,newdata=test)\n",
    "cm<- table(test$Attrition,prob_pred$class)\n",
    "cm\n",
    "accuracy<-sum(diag(cm))/sum(cm)\n",
    "accuracy"
   ]
  },
  {
   "cell_type": "code",
   "execution_count": null,
   "metadata": {},
   "outputs": [],
   "source": [
    "# 4) Building a linear discriminant by cross validation to get a more realistic accuracy:\n",
    "lda.fit = train(Attrition ~ ., data=train, method=\"lda\",\n",
    "                trControl = trainControl(method = \"cv\"))\n",
    "\n",
    "\n",
    "pred <- predict(lda.fit,newdata = test)\n",
    "\n",
    "table(pred,y_test)\n",
    "mean(pred == y_test)"
   ]
  },
  {
   "cell_type": "code",
   "execution_count": null,
   "metadata": {},
   "outputs": [],
   "source": [
    "# 5) Decision tree classification\n",
    "library(rattle)\n",
    "library(rpart.plot)\n",
    "library(RColorBrewer)\n",
    "decision_tree<- rpart(train$Attrition~.,data=train,method='class')\n",
    "fancyRpartPlot(decision_tree)\n",
    "decision<-predict(decision_tree,newdata=testing,type='class')\n",
    "cm<-table(testing$Attrition,decision)\n",
    "cm\n",
    "accuracy<- sum(diag(cm))/sum(cm)\n",
    "accuracy"
   ]
  },
  {
   "cell_type": "code",
   "execution_count": null,
   "metadata": {},
   "outputs": [],
   "source": [
    "# 6) Random forest classification:\n",
    "library(randomForest)\n",
    "RF<- randomForest(Attrition ~ .,data=train, importance=T,ntree=2000)\n",
    "ensemble<- predict(RF,newdata=testing)\n",
    "cm<-table(testing$Attrition,ensemble)\n",
    "cm\n",
    "accuracy<- sum(diag(cm))/sum(cm)\n",
    "accuracy\n",
    "print(importance(RF,type = 2))\n",
    "varImpPlot(RF)"
   ]
  },
  {
   "cell_type": "code",
   "execution_count": null,
   "metadata": {},
   "outputs": [],
   "source": [
    "# 7) Support Vector Machine Classification:\n",
    "library(e1071)\n",
    "model_svm<- svm(Attrition~.,train)\n",
    "supportvm<-predict(model_svm,testing)\n",
    "cm<- table(testing$Attrition,supportvm)\n",
    "cm\n",
    "accuracy<- sum(diag(cm))/sum(cm)\n",
    "accuracy"
   ]
  },
  {
   "cell_type": "code",
   "execution_count": null,
   "metadata": {},
   "outputs": [],
   "source": [
    "# 8) Naive Bayes Classification:\n",
    "model_nb<- naiveBayes(Attrition~.,train)\n",
    "naiveb<-predict(model_nb,testing)\n",
    "cm<- table(testing$Attrition,naiveb)\n",
    "cm\n",
    "accuracy<- sum(diag(cm))/sum(cm)\n",
    "accuracy"
   ]
  },
  {
   "cell_type": "code",
   "execution_count": null,
   "metadata": {},
   "outputs": [],
   "source": []
  }
 ],
 "metadata": {
  "kernelspec": {
   "display_name": "R",
   "language": "R",
   "name": "ir"
  },
  "language_info": {
   "codemirror_mode": "r",
   "file_extension": ".r",
   "mimetype": "text/x-r-source",
   "name": "R",
   "pygments_lexer": "r",
   "version": "3.4.3"
  }
 },
 "nbformat": 4,
 "nbformat_minor": 2
}
