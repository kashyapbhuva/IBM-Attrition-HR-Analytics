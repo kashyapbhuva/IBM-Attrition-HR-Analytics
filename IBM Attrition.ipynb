{
 "cells": [
  {
   "cell_type": "code",
   "execution_count": 1,
   "metadata": {},
   "outputs": [
    {
     "data": {
      "text/html": [
       "'C:/Users/Kashyar'"
      ],
      "text/latex": [
       "'C:/Users/Kashyar'"
      ],
      "text/markdown": [
       "'C:/Users/Kashyar'"
      ],
      "text/plain": [
       "[1] \"C:/Users/Kashyar\""
      ]
     },
     "metadata": {},
     "output_type": "display_data"
    },
    {
     "data": {
      "text/html": [
       "'C:/Users/Kashyar/Documents/datasetsforproj/IBM attrition'"
      ],
      "text/latex": [
       "'C:/Users/Kashyar/Documents/datasetsforproj/IBM attrition'"
      ],
      "text/markdown": [
       "'C:/Users/Kashyar/Documents/datasetsforproj/IBM attrition'"
      ],
      "text/plain": [
       "[1] \"C:/Users/Kashyar/Documents/datasetsforproj/IBM attrition\""
      ]
     },
     "metadata": {},
     "output_type": "display_data"
    }
   ],
   "source": [
    "getwd()\n",
    "setwd('C:\\\\Users\\\\Kashyar\\\\Documents\\\\datasetsforproj\\\\IBM attrition')\n",
    "getwd()\n"
   ]
  },
  {
   "cell_type": "code",
   "execution_count": 2,
   "metadata": {},
   "outputs": [
    {
     "data": {
      "text/html": [
       "<table>\n",
       "<thead><tr><th scope=col>ï..Age</th><th scope=col>Attrition</th><th scope=col>BusinessTravel</th><th scope=col>DailyRate</th><th scope=col>Department</th><th scope=col>DistanceFromHome</th><th scope=col>Education</th><th scope=col>EducationField</th><th scope=col>EmployeeCount</th><th scope=col>EmployeeNumber</th><th scope=col>...</th><th scope=col>RelationshipSatisfaction</th><th scope=col>StandardHours</th><th scope=col>StockOptionLevel</th><th scope=col>TotalWorkingYears</th><th scope=col>TrainingTimesLastYear</th><th scope=col>WorkLifeBalance</th><th scope=col>YearsAtCompany</th><th scope=col>YearsInCurrentRole</th><th scope=col>YearsSinceLastPromotion</th><th scope=col>YearsWithCurrManager</th></tr></thead>\n",
       "<tbody>\n",
       "\t<tr><td>41                    </td><td>Yes                   </td><td>Travel_Rarely         </td><td>1102                  </td><td>Sales                 </td><td>1                     </td><td>2                     </td><td>Life Sciences         </td><td>1                     </td><td>1                     </td><td>...                   </td><td>1                     </td><td>80                    </td><td>0                     </td><td> 8                    </td><td>0                     </td><td>1                     </td><td> 6                    </td><td>4                     </td><td>0                     </td><td>5                     </td></tr>\n",
       "\t<tr><td>49                        </td><td>No                        </td><td>Travel_Frequently         </td><td> 279                      </td><td>Research &amp; Development</td><td>8                         </td><td>1                         </td><td>Life Sciences             </td><td>1                         </td><td>2                         </td><td>...                       </td><td>4                         </td><td>80                        </td><td>1                         </td><td>10                        </td><td>3                         </td><td>3                         </td><td>10                        </td><td>7                         </td><td>1                         </td><td>7                         </td></tr>\n",
       "\t<tr><td>37                                                       </td><td>Yes                                                      </td><td><span style=white-space:pre-wrap>Travel_Rarely    </span></td><td>1373                                                     </td><td>Research &amp; Development                               </td><td>2                                                        </td><td>2                                                        </td><td><span style=white-space:pre-wrap>Other        </span>    </td><td>1                                                        </td><td>4                                                        </td><td>...                                                      </td><td>2                                                        </td><td>80                                                       </td><td>0                                                        </td><td> 7                                                       </td><td>3                                                        </td><td>3                                                        </td><td> 0                                                       </td><td>0                                                        </td><td>0                                                        </td><td>0                                                        </td></tr>\n",
       "\t<tr><td>33                        </td><td>No                        </td><td>Travel_Frequently         </td><td>1392                      </td><td>Research &amp; Development</td><td>3                         </td><td>4                         </td><td>Life Sciences             </td><td>1                         </td><td>5                         </td><td>...                       </td><td>3                         </td><td>80                        </td><td>0                         </td><td> 8                        </td><td>3                         </td><td>3                         </td><td> 8                        </td><td>7                         </td><td>3                         </td><td>0                         </td></tr>\n",
       "\t<tr><td>27                                                       </td><td>No                                                       </td><td><span style=white-space:pre-wrap>Travel_Rarely    </span></td><td> 591                                                     </td><td>Research &amp; Development                               </td><td>2                                                        </td><td>1                                                        </td><td><span style=white-space:pre-wrap>Medical      </span>    </td><td>1                                                        </td><td>7                                                        </td><td>...                                                      </td><td>4                                                        </td><td>80                                                       </td><td>1                                                        </td><td> 6                                                       </td><td>3                                                        </td><td>3                                                        </td><td> 2                                                       </td><td>2                                                        </td><td>2                                                        </td><td>2                                                        </td></tr>\n",
       "\t<tr><td>32                        </td><td>No                        </td><td>Travel_Frequently         </td><td>1005                      </td><td>Research &amp; Development</td><td>2                         </td><td>2                         </td><td>Life Sciences             </td><td>1                         </td><td>8                         </td><td>...                       </td><td>3                         </td><td>80                        </td><td>0                         </td><td> 8                        </td><td>2                         </td><td>2                         </td><td> 7                        </td><td>7                         </td><td>3                         </td><td>6                         </td></tr>\n",
       "</tbody>\n",
       "</table>\n"
      ],
      "text/latex": [
       "\\begin{tabular}{r|lllllllllllllllllllllllllllllllllll}\n",
       " ï..Age & Attrition & BusinessTravel & DailyRate & Department & DistanceFromHome & Education & EducationField & EmployeeCount & EmployeeNumber & ... & RelationshipSatisfaction & StandardHours & StockOptionLevel & TotalWorkingYears & TrainingTimesLastYear & WorkLifeBalance & YearsAtCompany & YearsInCurrentRole & YearsSinceLastPromotion & YearsWithCurrManager\\\\\n",
       "\\hline\n",
       "\t 41                     & Yes                    & Travel\\_Rarely        & 1102                   & Sales                  & 1                      & 2                      & Life Sciences          & 1                      & 1                      & ...                    & 1                      & 80                     & 0                      &  8                     & 0                      & 1                      &  6                     & 4                      & 0                      & 5                     \\\\\n",
       "\t 49                       & No                       & Travel\\_Frequently      &  279                     & Research \\& Development & 8                        & 1                        & Life Sciences            & 1                        & 2                        & ...                      & 4                        & 80                       & 1                        & 10                       & 3                        & 3                        & 10                       & 7                        & 1                        & 7                       \\\\\n",
       "\t 37                       & Yes                      & Travel\\_Rarely          & 1373                     & Research \\& Development & 2                        & 2                        & Other                    & 1                        & 4                        & ...                      & 2                        & 80                       & 0                        &  7                       & 3                        & 3                        &  0                       & 0                        & 0                        & 0                       \\\\\n",
       "\t 33                       & No                       & Travel\\_Frequently      & 1392                     & Research \\& Development & 3                        & 4                        & Life Sciences            & 1                        & 5                        & ...                      & 3                        & 80                       & 0                        &  8                       & 3                        & 3                        &  8                       & 7                        & 3                        & 0                       \\\\\n",
       "\t 27                       & No                       & Travel\\_Rarely          &  591                     & Research \\& Development & 2                        & 1                        & Medical                  & 1                        & 7                        & ...                      & 4                        & 80                       & 1                        &  6                       & 3                        & 3                        &  2                       & 2                        & 2                        & 2                       \\\\\n",
       "\t 32                       & No                       & Travel\\_Frequently      & 1005                     & Research \\& Development & 2                        & 2                        & Life Sciences            & 1                        & 8                        & ...                      & 3                        & 80                       & 0                        &  8                       & 2                        & 2                        &  7                       & 7                        & 3                        & 6                       \\\\\n",
       "\\end{tabular}\n"
      ],
      "text/markdown": [
       "\n",
       "ï..Age | Attrition | BusinessTravel | DailyRate | Department | DistanceFromHome | Education | EducationField | EmployeeCount | EmployeeNumber | ... | RelationshipSatisfaction | StandardHours | StockOptionLevel | TotalWorkingYears | TrainingTimesLastYear | WorkLifeBalance | YearsAtCompany | YearsInCurrentRole | YearsSinceLastPromotion | YearsWithCurrManager | \n",
       "|---|---|---|---|---|---|\n",
       "| 41                     | Yes                    | Travel_Rarely          | 1102                   | Sales                  | 1                      | 2                      | Life Sciences          | 1                      | 1                      | ...                    | 1                      | 80                     | 0                      |  8                     | 0                      | 1                      |  6                     | 4                      | 0                      | 5                      | \n",
       "| 49                     | No                     | Travel_Frequently      |  279                   | Research & Development | 8                      | 1                      | Life Sciences          | 1                      | 2                      | ...                    | 4                      | 80                     | 1                      | 10                     | 3                      | 3                      | 10                     | 7                      | 1                      | 7                      | \n",
       "| 37                     | Yes                    | Travel_Rarely          | 1373                   | Research & Development | 2                      | 2                      | Other                  | 1                      | 4                      | ...                    | 2                      | 80                     | 0                      |  7                     | 3                      | 3                      |  0                     | 0                      | 0                      | 0                      | \n",
       "| 33                     | No                     | Travel_Frequently      | 1392                   | Research & Development | 3                      | 4                      | Life Sciences          | 1                      | 5                      | ...                    | 3                      | 80                     | 0                      |  8                     | 3                      | 3                      |  8                     | 7                      | 3                      | 0                      | \n",
       "| 27                     | No                     | Travel_Rarely          |  591                   | Research & Development | 2                      | 1                      | Medical                | 1                      | 7                      | ...                    | 4                      | 80                     | 1                      |  6                     | 3                      | 3                      |  2                     | 2                      | 2                      | 2                      | \n",
       "| 32                     | No                     | Travel_Frequently      | 1005                   | Research & Development | 2                      | 2                      | Life Sciences          | 1                      | 8                      | ...                    | 3                      | 80                     | 0                      |  8                     | 2                      | 2                      |  7                     | 7                      | 3                      | 6                      | \n",
       "\n",
       "\n"
      ],
      "text/plain": [
       "  ï..Age Attrition BusinessTravel    DailyRate Department            \n",
       "1 41     Yes       Travel_Rarely     1102      Sales                 \n",
       "2 49     No        Travel_Frequently  279      Research & Development\n",
       "3 37     Yes       Travel_Rarely     1373      Research & Development\n",
       "4 33     No        Travel_Frequently 1392      Research & Development\n",
       "5 27     No        Travel_Rarely      591      Research & Development\n",
       "6 32     No        Travel_Frequently 1005      Research & Development\n",
       "  DistanceFromHome Education EducationField EmployeeCount EmployeeNumber ...\n",
       "1 1                2         Life Sciences  1             1              ...\n",
       "2 8                1         Life Sciences  1             2              ...\n",
       "3 2                2         Other          1             4              ...\n",
       "4 3                4         Life Sciences  1             5              ...\n",
       "5 2                1         Medical        1             7              ...\n",
       "6 2                2         Life Sciences  1             8              ...\n",
       "  RelationshipSatisfaction StandardHours StockOptionLevel TotalWorkingYears\n",
       "1 1                        80            0                 8               \n",
       "2 4                        80            1                10               \n",
       "3 2                        80            0                 7               \n",
       "4 3                        80            0                 8               \n",
       "5 4                        80            1                 6               \n",
       "6 3                        80            0                 8               \n",
       "  TrainingTimesLastYear WorkLifeBalance YearsAtCompany YearsInCurrentRole\n",
       "1 0                     1                6             4                 \n",
       "2 3                     3               10             7                 \n",
       "3 3                     3                0             0                 \n",
       "4 3                     3                8             7                 \n",
       "5 3                     3                2             2                 \n",
       "6 2                     2                7             7                 \n",
       "  YearsSinceLastPromotion YearsWithCurrManager\n",
       "1 0                       5                   \n",
       "2 1                       7                   \n",
       "3 0                       0                   \n",
       "4 3                       0                   \n",
       "5 2                       2                   \n",
       "6 3                       6                   "
      ]
     },
     "metadata": {},
     "output_type": "display_data"
    },
    {
     "data": {
      "text/html": [
       "<ol class=list-inline>\n",
       "\t<li>1470</li>\n",
       "\t<li>35</li>\n",
       "</ol>\n"
      ],
      "text/latex": [
       "\\begin{enumerate*}\n",
       "\\item 1470\n",
       "\\item 35\n",
       "\\end{enumerate*}\n"
      ],
      "text/markdown": [
       "1. 1470\n",
       "2. 35\n",
       "\n",
       "\n"
      ],
      "text/plain": [
       "[1] 1470   35"
      ]
     },
     "metadata": {},
     "output_type": "display_data"
    }
   ],
   "source": [
    "hrdata<- read.csv(\"WA_Fn-UseC_-HR-Employee-Attrition.csv\")\n",
    "head(hrdata)\n",
    "dim(hrdata)"
   ]
  },
  {
   "cell_type": "code",
   "execution_count": 3,
   "metadata": {},
   "outputs": [
    {
     "name": "stderr",
     "output_type": "stream",
     "text": [
      "\n",
      "Attaching package: 'dplyr'\n",
      "\n",
      "The following objects are masked from 'package:stats':\n",
      "\n",
      "    filter, lag\n",
      "\n",
      "The following objects are masked from 'package:base':\n",
      "\n",
      "    intersect, setdiff, setequal, union\n",
      "\n",
      "corrplot 0.84 loaded\n"
     ]
    }
   ],
   "source": [
    "library(dplyr)\n",
    "\n",
    "library(corrplot)\n",
    "library(caTools)\n"
   ]
  },
  {
   "cell_type": "code",
   "execution_count": 4,
   "metadata": {},
   "outputs": [
    {
     "data": {
      "text/html": [
       "<dl class=dl-horizontal>\n",
       "\t<dt>ï..Age</dt>\n",
       "\t\t<dd>0</dd>\n",
       "\t<dt>Attrition</dt>\n",
       "\t\t<dd>0</dd>\n",
       "\t<dt>BusinessTravel</dt>\n",
       "\t\t<dd>0</dd>\n",
       "\t<dt>DailyRate</dt>\n",
       "\t\t<dd>0</dd>\n",
       "\t<dt>Department</dt>\n",
       "\t\t<dd>0</dd>\n",
       "\t<dt>DistanceFromHome</dt>\n",
       "\t\t<dd>0</dd>\n",
       "\t<dt>Education</dt>\n",
       "\t\t<dd>0</dd>\n",
       "\t<dt>EducationField</dt>\n",
       "\t\t<dd>0</dd>\n",
       "\t<dt>EmployeeCount</dt>\n",
       "\t\t<dd>0</dd>\n",
       "\t<dt>EmployeeNumber</dt>\n",
       "\t\t<dd>0</dd>\n",
       "\t<dt>EnvironmentSatisfaction</dt>\n",
       "\t\t<dd>0</dd>\n",
       "\t<dt>Gender</dt>\n",
       "\t\t<dd>0</dd>\n",
       "\t<dt>HourlyRate</dt>\n",
       "\t\t<dd>0</dd>\n",
       "\t<dt>JobInvolvement</dt>\n",
       "\t\t<dd>0</dd>\n",
       "\t<dt>JobLevel</dt>\n",
       "\t\t<dd>0</dd>\n",
       "\t<dt>JobRole</dt>\n",
       "\t\t<dd>0</dd>\n",
       "\t<dt>JobSatisfaction</dt>\n",
       "\t\t<dd>0</dd>\n",
       "\t<dt>MaritalStatus</dt>\n",
       "\t\t<dd>0</dd>\n",
       "\t<dt>MonthlyIncome</dt>\n",
       "\t\t<dd>0</dd>\n",
       "\t<dt>MonthlyRate</dt>\n",
       "\t\t<dd>0</dd>\n",
       "\t<dt>NumCompaniesWorked</dt>\n",
       "\t\t<dd>0</dd>\n",
       "\t<dt>Over18</dt>\n",
       "\t\t<dd>0</dd>\n",
       "\t<dt>OverTime</dt>\n",
       "\t\t<dd>0</dd>\n",
       "\t<dt>PercentSalaryHike</dt>\n",
       "\t\t<dd>0</dd>\n",
       "\t<dt>PerformanceRating</dt>\n",
       "\t\t<dd>0</dd>\n",
       "\t<dt>RelationshipSatisfaction</dt>\n",
       "\t\t<dd>0</dd>\n",
       "\t<dt>StandardHours</dt>\n",
       "\t\t<dd>0</dd>\n",
       "\t<dt>StockOptionLevel</dt>\n",
       "\t\t<dd>0</dd>\n",
       "\t<dt>TotalWorkingYears</dt>\n",
       "\t\t<dd>0</dd>\n",
       "\t<dt>TrainingTimesLastYear</dt>\n",
       "\t\t<dd>0</dd>\n",
       "\t<dt>WorkLifeBalance</dt>\n",
       "\t\t<dd>0</dd>\n",
       "\t<dt>YearsAtCompany</dt>\n",
       "\t\t<dd>0</dd>\n",
       "\t<dt>YearsInCurrentRole</dt>\n",
       "\t\t<dd>0</dd>\n",
       "\t<dt>YearsSinceLastPromotion</dt>\n",
       "\t\t<dd>0</dd>\n",
       "\t<dt>YearsWithCurrManager</dt>\n",
       "\t\t<dd>0</dd>\n",
       "</dl>\n"
      ],
      "text/latex": [
       "\\begin{description*}\n",
       "\\item[ï..Age] 0\n",
       "\\item[Attrition] 0\n",
       "\\item[BusinessTravel] 0\n",
       "\\item[DailyRate] 0\n",
       "\\item[Department] 0\n",
       "\\item[DistanceFromHome] 0\n",
       "\\item[Education] 0\n",
       "\\item[EducationField] 0\n",
       "\\item[EmployeeCount] 0\n",
       "\\item[EmployeeNumber] 0\n",
       "\\item[EnvironmentSatisfaction] 0\n",
       "\\item[Gender] 0\n",
       "\\item[HourlyRate] 0\n",
       "\\item[JobInvolvement] 0\n",
       "\\item[JobLevel] 0\n",
       "\\item[JobRole] 0\n",
       "\\item[JobSatisfaction] 0\n",
       "\\item[MaritalStatus] 0\n",
       "\\item[MonthlyIncome] 0\n",
       "\\item[MonthlyRate] 0\n",
       "\\item[NumCompaniesWorked] 0\n",
       "\\item[Over18] 0\n",
       "\\item[OverTime] 0\n",
       "\\item[PercentSalaryHike] 0\n",
       "\\item[PerformanceRating] 0\n",
       "\\item[RelationshipSatisfaction] 0\n",
       "\\item[StandardHours] 0\n",
       "\\item[StockOptionLevel] 0\n",
       "\\item[TotalWorkingYears] 0\n",
       "\\item[TrainingTimesLastYear] 0\n",
       "\\item[WorkLifeBalance] 0\n",
       "\\item[YearsAtCompany] 0\n",
       "\\item[YearsInCurrentRole] 0\n",
       "\\item[YearsSinceLastPromotion] 0\n",
       "\\item[YearsWithCurrManager] 0\n",
       "\\end{description*}\n"
      ],
      "text/markdown": [
       "ï..Age\n",
       ":   0Attrition\n",
       ":   0BusinessTravel\n",
       ":   0DailyRate\n",
       ":   0Department\n",
       ":   0DistanceFromHome\n",
       ":   0Education\n",
       ":   0EducationField\n",
       ":   0EmployeeCount\n",
       ":   0EmployeeNumber\n",
       ":   0EnvironmentSatisfaction\n",
       ":   0Gender\n",
       ":   0HourlyRate\n",
       ":   0JobInvolvement\n",
       ":   0JobLevel\n",
       ":   0JobRole\n",
       ":   0JobSatisfaction\n",
       ":   0MaritalStatus\n",
       ":   0MonthlyIncome\n",
       ":   0MonthlyRate\n",
       ":   0NumCompaniesWorked\n",
       ":   0Over18\n",
       ":   0OverTime\n",
       ":   0PercentSalaryHike\n",
       ":   0PerformanceRating\n",
       ":   0RelationshipSatisfaction\n",
       ":   0StandardHours\n",
       ":   0StockOptionLevel\n",
       ":   0TotalWorkingYears\n",
       ":   0TrainingTimesLastYear\n",
       ":   0WorkLifeBalance\n",
       ":   0YearsAtCompany\n",
       ":   0YearsInCurrentRole\n",
       ":   0YearsSinceLastPromotion\n",
       ":   0YearsWithCurrManager\n",
       ":   0\n",
       "\n"
      ],
      "text/plain": [
       "                  ï..Age                Attrition           BusinessTravel \n",
       "                       0                        0                        0 \n",
       "               DailyRate               Department         DistanceFromHome \n",
       "                       0                        0                        0 \n",
       "               Education           EducationField            EmployeeCount \n",
       "                       0                        0                        0 \n",
       "          EmployeeNumber  EnvironmentSatisfaction                   Gender \n",
       "                       0                        0                        0 \n",
       "              HourlyRate           JobInvolvement                 JobLevel \n",
       "                       0                        0                        0 \n",
       "                 JobRole          JobSatisfaction            MaritalStatus \n",
       "                       0                        0                        0 \n",
       "           MonthlyIncome              MonthlyRate       NumCompaniesWorked \n",
       "                       0                        0                        0 \n",
       "                  Over18                 OverTime        PercentSalaryHike \n",
       "                       0                        0                        0 \n",
       "       PerformanceRating RelationshipSatisfaction            StandardHours \n",
       "                       0                        0                        0 \n",
       "        StockOptionLevel        TotalWorkingYears    TrainingTimesLastYear \n",
       "                       0                        0                        0 \n",
       "         WorkLifeBalance           YearsAtCompany       YearsInCurrentRole \n",
       "                       0                        0                        0 \n",
       " YearsSinceLastPromotion     YearsWithCurrManager \n",
       "                       0                        0 "
      ]
     },
     "metadata": {},
     "output_type": "display_data"
    }
   ],
   "source": [
    "# Check for missing values\n",
    "\n",
    "sapply(hrdata,function(inp){return(sum(is.na(inp)))})\n"
   ]
  },
  {
   "cell_type": "code",
   "execution_count": 5,
   "metadata": {},
   "outputs": [
    {
     "data": {
      "text/html": [
       "<table>\n",
       "<thead><tr><th scope=col>ï..Age</th><th scope=col>Attrition</th><th scope=col>BusinessTravel</th><th scope=col>DailyRate</th><th scope=col>Department</th><th scope=col>DistanceFromHome</th><th scope=col>Education</th><th scope=col>EducationField</th><th scope=col>EmployeeCount</th><th scope=col>EmployeeNumber</th><th scope=col>...</th><th scope=col>RelationshipSatisfaction</th><th scope=col>StandardHours</th><th scope=col>StockOptionLevel</th><th scope=col>TotalWorkingYears</th><th scope=col>TrainingTimesLastYear</th><th scope=col>WorkLifeBalance</th><th scope=col>YearsAtCompany</th><th scope=col>YearsInCurrentRole</th><th scope=col>YearsSinceLastPromotion</th><th scope=col>YearsWithCurrManager</th></tr></thead>\n",
       "<tbody>\n",
       "\t<tr><td>41                    </td><td>Yes                   </td><td>Travel_Rarely         </td><td>1102                  </td><td>Sales                 </td><td>1                     </td><td>2                     </td><td>Life Sciences         </td><td>1                     </td><td>1                     </td><td>...                   </td><td>1                     </td><td>80                    </td><td>0                     </td><td> 8                    </td><td>0                     </td><td>1                     </td><td> 6                    </td><td>4                     </td><td>0                     </td><td>5                     </td></tr>\n",
       "\t<tr><td>49                        </td><td>No                        </td><td>Travel_Frequently         </td><td> 279                      </td><td>Research &amp; Development</td><td>8                         </td><td>1                         </td><td>Life Sciences             </td><td>1                         </td><td>2                         </td><td>...                       </td><td>4                         </td><td>80                        </td><td>1                         </td><td>10                        </td><td>3                         </td><td>3                         </td><td>10                        </td><td>7                         </td><td>1                         </td><td>7                         </td></tr>\n",
       "\t<tr><td>37                                                       </td><td>Yes                                                      </td><td><span style=white-space:pre-wrap>Travel_Rarely    </span></td><td>1373                                                     </td><td>Research &amp; Development                               </td><td>2                                                        </td><td>2                                                        </td><td><span style=white-space:pre-wrap>Other        </span>    </td><td>1                                                        </td><td>4                                                        </td><td>...                                                      </td><td>2                                                        </td><td>80                                                       </td><td>0                                                        </td><td> 7                                                       </td><td>3                                                        </td><td>3                                                        </td><td> 0                                                       </td><td>0                                                        </td><td>0                                                        </td><td>0                                                        </td></tr>\n",
       "\t<tr><td>33                        </td><td>No                        </td><td>Travel_Frequently         </td><td>1392                      </td><td>Research &amp; Development</td><td>3                         </td><td>4                         </td><td>Life Sciences             </td><td>1                         </td><td>5                         </td><td>...                       </td><td>3                         </td><td>80                        </td><td>0                         </td><td> 8                        </td><td>3                         </td><td>3                         </td><td> 8                        </td><td>7                         </td><td>3                         </td><td>0                         </td></tr>\n",
       "\t<tr><td>27                                                       </td><td>No                                                       </td><td><span style=white-space:pre-wrap>Travel_Rarely    </span></td><td> 591                                                     </td><td>Research &amp; Development                               </td><td>2                                                        </td><td>1                                                        </td><td><span style=white-space:pre-wrap>Medical      </span>    </td><td>1                                                        </td><td>7                                                        </td><td>...                                                      </td><td>4                                                        </td><td>80                                                       </td><td>1                                                        </td><td> 6                                                       </td><td>3                                                        </td><td>3                                                        </td><td> 2                                                       </td><td>2                                                        </td><td>2                                                        </td><td>2                                                        </td></tr>\n",
       "\t<tr><td>32                        </td><td>No                        </td><td>Travel_Frequently         </td><td>1005                      </td><td>Research &amp; Development</td><td>2                         </td><td>2                         </td><td>Life Sciences             </td><td>1                         </td><td>8                         </td><td>...                       </td><td>3                         </td><td>80                        </td><td>0                         </td><td> 8                        </td><td>2                         </td><td>2                         </td><td> 7                        </td><td>7                         </td><td>3                         </td><td>6                         </td></tr>\n",
       "</tbody>\n",
       "</table>\n"
      ],
      "text/latex": [
       "\\begin{tabular}{r|lllllllllllllllllllllllllllllllllll}\n",
       " ï..Age & Attrition & BusinessTravel & DailyRate & Department & DistanceFromHome & Education & EducationField & EmployeeCount & EmployeeNumber & ... & RelationshipSatisfaction & StandardHours & StockOptionLevel & TotalWorkingYears & TrainingTimesLastYear & WorkLifeBalance & YearsAtCompany & YearsInCurrentRole & YearsSinceLastPromotion & YearsWithCurrManager\\\\\n",
       "\\hline\n",
       "\t 41                     & Yes                    & Travel\\_Rarely        & 1102                   & Sales                  & 1                      & 2                      & Life Sciences          & 1                      & 1                      & ...                    & 1                      & 80                     & 0                      &  8                     & 0                      & 1                      &  6                     & 4                      & 0                      & 5                     \\\\\n",
       "\t 49                       & No                       & Travel\\_Frequently      &  279                     & Research \\& Development & 8                        & 1                        & Life Sciences            & 1                        & 2                        & ...                      & 4                        & 80                       & 1                        & 10                       & 3                        & 3                        & 10                       & 7                        & 1                        & 7                       \\\\\n",
       "\t 37                       & Yes                      & Travel\\_Rarely          & 1373                     & Research \\& Development & 2                        & 2                        & Other                    & 1                        & 4                        & ...                      & 2                        & 80                       & 0                        &  7                       & 3                        & 3                        &  0                       & 0                        & 0                        & 0                       \\\\\n",
       "\t 33                       & No                       & Travel\\_Frequently      & 1392                     & Research \\& Development & 3                        & 4                        & Life Sciences            & 1                        & 5                        & ...                      & 3                        & 80                       & 0                        &  8                       & 3                        & 3                        &  8                       & 7                        & 3                        & 0                       \\\\\n",
       "\t 27                       & No                       & Travel\\_Rarely          &  591                     & Research \\& Development & 2                        & 1                        & Medical                  & 1                        & 7                        & ...                      & 4                        & 80                       & 1                        &  6                       & 3                        & 3                        &  2                       & 2                        & 2                        & 2                       \\\\\n",
       "\t 32                       & No                       & Travel\\_Frequently      & 1005                     & Research \\& Development & 2                        & 2                        & Life Sciences            & 1                        & 8                        & ...                      & 3                        & 80                       & 0                        &  8                       & 2                        & 2                        &  7                       & 7                        & 3                        & 6                       \\\\\n",
       "\\end{tabular}\n"
      ],
      "text/markdown": [
       "\n",
       "ï..Age | Attrition | BusinessTravel | DailyRate | Department | DistanceFromHome | Education | EducationField | EmployeeCount | EmployeeNumber | ... | RelationshipSatisfaction | StandardHours | StockOptionLevel | TotalWorkingYears | TrainingTimesLastYear | WorkLifeBalance | YearsAtCompany | YearsInCurrentRole | YearsSinceLastPromotion | YearsWithCurrManager | \n",
       "|---|---|---|---|---|---|\n",
       "| 41                     | Yes                    | Travel_Rarely          | 1102                   | Sales                  | 1                      | 2                      | Life Sciences          | 1                      | 1                      | ...                    | 1                      | 80                     | 0                      |  8                     | 0                      | 1                      |  6                     | 4                      | 0                      | 5                      | \n",
       "| 49                     | No                     | Travel_Frequently      |  279                   | Research & Development | 8                      | 1                      | Life Sciences          | 1                      | 2                      | ...                    | 4                      | 80                     | 1                      | 10                     | 3                      | 3                      | 10                     | 7                      | 1                      | 7                      | \n",
       "| 37                     | Yes                    | Travel_Rarely          | 1373                   | Research & Development | 2                      | 2                      | Other                  | 1                      | 4                      | ...                    | 2                      | 80                     | 0                      |  7                     | 3                      | 3                      |  0                     | 0                      | 0                      | 0                      | \n",
       "| 33                     | No                     | Travel_Frequently      | 1392                   | Research & Development | 3                      | 4                      | Life Sciences          | 1                      | 5                      | ...                    | 3                      | 80                     | 0                      |  8                     | 3                      | 3                      |  8                     | 7                      | 3                      | 0                      | \n",
       "| 27                     | No                     | Travel_Rarely          |  591                   | Research & Development | 2                      | 1                      | Medical                | 1                      | 7                      | ...                    | 4                      | 80                     | 1                      |  6                     | 3                      | 3                      |  2                     | 2                      | 2                      | 2                      | \n",
       "| 32                     | No                     | Travel_Frequently      | 1005                   | Research & Development | 2                      | 2                      | Life Sciences          | 1                      | 8                      | ...                    | 3                      | 80                     | 0                      |  8                     | 2                      | 2                      |  7                     | 7                      | 3                      | 6                      | \n",
       "\n",
       "\n"
      ],
      "text/plain": [
       "  ï..Age Attrition BusinessTravel    DailyRate Department            \n",
       "1 41     Yes       Travel_Rarely     1102      Sales                 \n",
       "2 49     No        Travel_Frequently  279      Research & Development\n",
       "3 37     Yes       Travel_Rarely     1373      Research & Development\n",
       "4 33     No        Travel_Frequently 1392      Research & Development\n",
       "5 27     No        Travel_Rarely      591      Research & Development\n",
       "6 32     No        Travel_Frequently 1005      Research & Development\n",
       "  DistanceFromHome Education EducationField EmployeeCount EmployeeNumber ...\n",
       "1 1                2         Life Sciences  1             1              ...\n",
       "2 8                1         Life Sciences  1             2              ...\n",
       "3 2                2         Other          1             4              ...\n",
       "4 3                4         Life Sciences  1             5              ...\n",
       "5 2                1         Medical        1             7              ...\n",
       "6 2                2         Life Sciences  1             8              ...\n",
       "  RelationshipSatisfaction StandardHours StockOptionLevel TotalWorkingYears\n",
       "1 1                        80            0                 8               \n",
       "2 4                        80            1                10               \n",
       "3 2                        80            0                 7               \n",
       "4 3                        80            0                 8               \n",
       "5 4                        80            1                 6               \n",
       "6 3                        80            0                 8               \n",
       "  TrainingTimesLastYear WorkLifeBalance YearsAtCompany YearsInCurrentRole\n",
       "1 0                     1                6             4                 \n",
       "2 3                     3               10             7                 \n",
       "3 3                     3                0             0                 \n",
       "4 3                     3                8             7                 \n",
       "5 3                     3                2             2                 \n",
       "6 2                     2                7             7                 \n",
       "  YearsSinceLastPromotion YearsWithCurrManager\n",
       "1 0                       5                   \n",
       "2 1                       7                   \n",
       "3 0                       0                   \n",
       "4 3                       0                   \n",
       "5 2                       2                   \n",
       "6 3                       6                   "
      ]
     },
     "metadata": {},
     "output_type": "display_data"
    }
   ],
   "source": [
    "# Check for other abnormalities in the data:\n",
    "\n",
    "head(hrdata,6)\n",
    "\n"
   ]
  },
  {
   "cell_type": "code",
   "execution_count": 6,
   "metadata": {},
   "outputs": [
    {
     "data": {
      "text/html": [
       "<table>\n",
       "<thead><tr><th scope=col>Age</th><th scope=col>Attrition</th><th scope=col>BusinessTravel</th><th scope=col>DailyRate</th><th scope=col>Department</th><th scope=col>DistanceFromHome</th><th scope=col>Education</th><th scope=col>EducationField</th><th scope=col>EmployeeNumber</th><th scope=col>EnvironmentSatisfaction</th><th scope=col>...</th><th scope=col>PerformanceRating</th><th scope=col>RelationshipSatisfaction</th><th scope=col>StockOptionLevel</th><th scope=col>TotalWorkingYears</th><th scope=col>TrainingTimesLastYear</th><th scope=col>WorkLifeBalance</th><th scope=col>YearsAtCompany</th><th scope=col>YearsInCurrentRole</th><th scope=col>YearsSinceLastPromotion</th><th scope=col>YearsWithCurrManager</th></tr></thead>\n",
       "<tbody>\n",
       "\t<tr><td>41                    </td><td>Yes                   </td><td>Travel_Rarely         </td><td>1102                  </td><td>Sales                 </td><td>1                     </td><td>2                     </td><td>Life Sciences         </td><td>1                     </td><td>2                     </td><td>...                   </td><td>3                     </td><td>1                     </td><td>0                     </td><td> 8                    </td><td>0                     </td><td>1                     </td><td> 6                    </td><td>4                     </td><td>0                     </td><td>5                     </td></tr>\n",
       "\t<tr><td>49                        </td><td>No                        </td><td>Travel_Frequently         </td><td> 279                      </td><td>Research &amp; Development</td><td>8                         </td><td>1                         </td><td>Life Sciences             </td><td>2                         </td><td>3                         </td><td>...                       </td><td>4                         </td><td>4                         </td><td>1                         </td><td>10                        </td><td>3                         </td><td>3                         </td><td>10                        </td><td>7                         </td><td>1                         </td><td>7                         </td></tr>\n",
       "\t<tr><td>37                                                       </td><td>Yes                                                      </td><td><span style=white-space:pre-wrap>Travel_Rarely    </span></td><td>1373                                                     </td><td>Research &amp; Development                               </td><td>2                                                        </td><td>2                                                        </td><td><span style=white-space:pre-wrap>Other        </span>    </td><td>4                                                        </td><td>4                                                        </td><td>...                                                      </td><td>3                                                        </td><td>2                                                        </td><td>0                                                        </td><td> 7                                                       </td><td>3                                                        </td><td>3                                                        </td><td> 0                                                       </td><td>0                                                        </td><td>0                                                        </td><td>0                                                        </td></tr>\n",
       "\t<tr><td>33                        </td><td>No                        </td><td>Travel_Frequently         </td><td>1392                      </td><td>Research &amp; Development</td><td>3                         </td><td>4                         </td><td>Life Sciences             </td><td>5                         </td><td>4                         </td><td>...                       </td><td>3                         </td><td>3                         </td><td>0                         </td><td> 8                        </td><td>3                         </td><td>3                         </td><td> 8                        </td><td>7                         </td><td>3                         </td><td>0                         </td></tr>\n",
       "\t<tr><td>27                                                       </td><td>No                                                       </td><td><span style=white-space:pre-wrap>Travel_Rarely    </span></td><td> 591                                                     </td><td>Research &amp; Development                               </td><td>2                                                        </td><td>1                                                        </td><td><span style=white-space:pre-wrap>Medical      </span>    </td><td>7                                                        </td><td>1                                                        </td><td>...                                                      </td><td>3                                                        </td><td>4                                                        </td><td>1                                                        </td><td> 6                                                       </td><td>3                                                        </td><td>3                                                        </td><td> 2                                                       </td><td>2                                                        </td><td>2                                                        </td><td>2                                                        </td></tr>\n",
       "</tbody>\n",
       "</table>\n"
      ],
      "text/latex": [
       "\\begin{tabular}{r|llllllllllllllllllllllllllllllll}\n",
       " Age & Attrition & BusinessTravel & DailyRate & Department & DistanceFromHome & Education & EducationField & EmployeeNumber & EnvironmentSatisfaction & ... & PerformanceRating & RelationshipSatisfaction & StockOptionLevel & TotalWorkingYears & TrainingTimesLastYear & WorkLifeBalance & YearsAtCompany & YearsInCurrentRole & YearsSinceLastPromotion & YearsWithCurrManager\\\\\n",
       "\\hline\n",
       "\t 41                     & Yes                    & Travel\\_Rarely        & 1102                   & Sales                  & 1                      & 2                      & Life Sciences          & 1                      & 2                      & ...                    & 3                      & 1                      & 0                      &  8                     & 0                      & 1                      &  6                     & 4                      & 0                      & 5                     \\\\\n",
       "\t 49                       & No                       & Travel\\_Frequently      &  279                     & Research \\& Development & 8                        & 1                        & Life Sciences            & 2                        & 3                        & ...                      & 4                        & 4                        & 1                        & 10                       & 3                        & 3                        & 10                       & 7                        & 1                        & 7                       \\\\\n",
       "\t 37                       & Yes                      & Travel\\_Rarely          & 1373                     & Research \\& Development & 2                        & 2                        & Other                    & 4                        & 4                        & ...                      & 3                        & 2                        & 0                        &  7                       & 3                        & 3                        &  0                       & 0                        & 0                        & 0                       \\\\\n",
       "\t 33                       & No                       & Travel\\_Frequently      & 1392                     & Research \\& Development & 3                        & 4                        & Life Sciences            & 5                        & 4                        & ...                      & 3                        & 3                        & 0                        &  8                       & 3                        & 3                        &  8                       & 7                        & 3                        & 0                       \\\\\n",
       "\t 27                       & No                       & Travel\\_Rarely          &  591                     & Research \\& Development & 2                        & 1                        & Medical                  & 7                        & 1                        & ...                      & 3                        & 4                        & 1                        &  6                       & 3                        & 3                        &  2                       & 2                        & 2                        & 2                       \\\\\n",
       "\\end{tabular}\n"
      ],
      "text/markdown": [
       "\n",
       "Age | Attrition | BusinessTravel | DailyRate | Department | DistanceFromHome | Education | EducationField | EmployeeNumber | EnvironmentSatisfaction | ... | PerformanceRating | RelationshipSatisfaction | StockOptionLevel | TotalWorkingYears | TrainingTimesLastYear | WorkLifeBalance | YearsAtCompany | YearsInCurrentRole | YearsSinceLastPromotion | YearsWithCurrManager | \n",
       "|---|---|---|---|---|\n",
       "| 41                     | Yes                    | Travel_Rarely          | 1102                   | Sales                  | 1                      | 2                      | Life Sciences          | 1                      | 2                      | ...                    | 3                      | 1                      | 0                      |  8                     | 0                      | 1                      |  6                     | 4                      | 0                      | 5                      | \n",
       "| 49                     | No                     | Travel_Frequently      |  279                   | Research & Development | 8                      | 1                      | Life Sciences          | 2                      | 3                      | ...                    | 4                      | 4                      | 1                      | 10                     | 3                      | 3                      | 10                     | 7                      | 1                      | 7                      | \n",
       "| 37                     | Yes                    | Travel_Rarely          | 1373                   | Research & Development | 2                      | 2                      | Other                  | 4                      | 4                      | ...                    | 3                      | 2                      | 0                      |  7                     | 3                      | 3                      |  0                     | 0                      | 0                      | 0                      | \n",
       "| 33                     | No                     | Travel_Frequently      | 1392                   | Research & Development | 3                      | 4                      | Life Sciences          | 5                      | 4                      | ...                    | 3                      | 3                      | 0                      |  8                     | 3                      | 3                      |  8                     | 7                      | 3                      | 0                      | \n",
       "| 27                     | No                     | Travel_Rarely          |  591                   | Research & Development | 2                      | 1                      | Medical                | 7                      | 1                      | ...                    | 3                      | 4                      | 1                      |  6                     | 3                      | 3                      |  2                     | 2                      | 2                      | 2                      | \n",
       "\n",
       "\n"
      ],
      "text/plain": [
       "  Age Attrition BusinessTravel    DailyRate Department            \n",
       "1 41  Yes       Travel_Rarely     1102      Sales                 \n",
       "2 49  No        Travel_Frequently  279      Research & Development\n",
       "3 37  Yes       Travel_Rarely     1373      Research & Development\n",
       "4 33  No        Travel_Frequently 1392      Research & Development\n",
       "5 27  No        Travel_Rarely      591      Research & Development\n",
       "  DistanceFromHome Education EducationField EmployeeNumber\n",
       "1 1                2         Life Sciences  1             \n",
       "2 8                1         Life Sciences  2             \n",
       "3 2                2         Other          4             \n",
       "4 3                4         Life Sciences  5             \n",
       "5 2                1         Medical        7             \n",
       "  EnvironmentSatisfaction ... PerformanceRating RelationshipSatisfaction\n",
       "1 2                       ... 3                 1                       \n",
       "2 3                       ... 4                 4                       \n",
       "3 4                       ... 3                 2                       \n",
       "4 4                       ... 3                 3                       \n",
       "5 1                       ... 3                 4                       \n",
       "  StockOptionLevel TotalWorkingYears TrainingTimesLastYear WorkLifeBalance\n",
       "1 0                 8                0                     1              \n",
       "2 1                10                3                     3              \n",
       "3 0                 7                3                     3              \n",
       "4 0                 8                3                     3              \n",
       "5 1                 6                3                     3              \n",
       "  YearsAtCompany YearsInCurrentRole YearsSinceLastPromotion\n",
       "1  6             4                  0                      \n",
       "2 10             7                  1                      \n",
       "3  0             0                  0                      \n",
       "4  8             7                  3                      \n",
       "5  2             2                  2                      \n",
       "  YearsWithCurrManager\n",
       "1 5                   \n",
       "2 7                   \n",
       "3 0                   \n",
       "4 0                   \n",
       "5 2                   "
      ]
     },
     "metadata": {},
     "output_type": "display_data"
    }
   ],
   "source": [
    "# Correcting the abnormalities:\n",
    "#1) Column name age\n",
    "names(hrdata)[1]=\"Age\"\n",
    "#2) Few columns have all the values same,so removing them\n",
    "hrdata<- select(hrdata,-EmployeeCount,-StandardHours,-Over18)\n",
    "head(hrdata,5)"
   ]
  },
  {
   "cell_type": "code",
   "execution_count": 7,
   "metadata": {},
   "outputs": [
    {
     "data": {
      "text/html": [
       "<table>\n",
       "<thead><tr><th scope=col>Age</th><th scope=col>Attrition</th><th scope=col>BusinessTravel</th><th scope=col>DailyRate</th><th scope=col>Department</th><th scope=col>DistanceFromHome</th><th scope=col>Education</th><th scope=col>EducationField</th><th scope=col>EmployeeNumber</th><th scope=col>EnvironmentSatisfaction</th><th scope=col>...</th><th scope=col>PerformanceRating</th><th scope=col>RelationshipSatisfaction</th><th scope=col>StockOptionLevel</th><th scope=col>TotalWorkingYears</th><th scope=col>TrainingTimesLastYear</th><th scope=col>WorkLifeBalance</th><th scope=col>YearsAtCompany</th><th scope=col>YearsInCurrentRole</th><th scope=col>YearsSinceLastPromotion</th><th scope=col>YearsWithCurrManager</th></tr></thead>\n",
       "<tbody>\n",
       "\t<tr><td>41                    </td><td>1                     </td><td>Travel_Rarely         </td><td>1102                  </td><td>Sales                 </td><td>1                     </td><td>2                     </td><td>Life Sciences         </td><td>1                     </td><td>2                     </td><td>...                   </td><td>3                     </td><td>1                     </td><td>0                     </td><td> 8                    </td><td>0                     </td><td>1                     </td><td> 6                    </td><td>4                     </td><td>0                     </td><td>5                     </td></tr>\n",
       "\t<tr><td>49                        </td><td>0                         </td><td>Travel_Frequently         </td><td> 279                      </td><td>Research &amp; Development</td><td>8                         </td><td>1                         </td><td>Life Sciences             </td><td>2                         </td><td>3                         </td><td>...                       </td><td>4                         </td><td>4                         </td><td>1                         </td><td>10                        </td><td>3                         </td><td>3                         </td><td>10                        </td><td>7                         </td><td>1                         </td><td>7                         </td></tr>\n",
       "\t<tr><td>37                                                       </td><td>1                                                        </td><td><span style=white-space:pre-wrap>Travel_Rarely    </span></td><td>1373                                                     </td><td>Research &amp; Development                               </td><td>2                                                        </td><td>2                                                        </td><td><span style=white-space:pre-wrap>Other        </span>    </td><td>4                                                        </td><td>4                                                        </td><td>...                                                      </td><td>3                                                        </td><td>2                                                        </td><td>0                                                        </td><td> 7                                                       </td><td>3                                                        </td><td>3                                                        </td><td> 0                                                       </td><td>0                                                        </td><td>0                                                        </td><td>0                                                        </td></tr>\n",
       "\t<tr><td>33                        </td><td>0                         </td><td>Travel_Frequently         </td><td>1392                      </td><td>Research &amp; Development</td><td>3                         </td><td>4                         </td><td>Life Sciences             </td><td>5                         </td><td>4                         </td><td>...                       </td><td>3                         </td><td>3                         </td><td>0                         </td><td> 8                        </td><td>3                         </td><td>3                         </td><td> 8                        </td><td>7                         </td><td>3                         </td><td>0                         </td></tr>\n",
       "\t<tr><td>27                                                       </td><td>0                                                        </td><td><span style=white-space:pre-wrap>Travel_Rarely    </span></td><td> 591                                                     </td><td>Research &amp; Development                               </td><td>2                                                        </td><td>1                                                        </td><td><span style=white-space:pre-wrap>Medical      </span>    </td><td>7                                                        </td><td>1                                                        </td><td>...                                                      </td><td>3                                                        </td><td>4                                                        </td><td>1                                                        </td><td> 6                                                       </td><td>3                                                        </td><td>3                                                        </td><td> 2                                                       </td><td>2                                                        </td><td>2                                                        </td><td>2                                                        </td></tr>\n",
       "</tbody>\n",
       "</table>\n"
      ],
      "text/latex": [
       "\\begin{tabular}{r|llllllllllllllllllllllllllllllll}\n",
       " Age & Attrition & BusinessTravel & DailyRate & Department & DistanceFromHome & Education & EducationField & EmployeeNumber & EnvironmentSatisfaction & ... & PerformanceRating & RelationshipSatisfaction & StockOptionLevel & TotalWorkingYears & TrainingTimesLastYear & WorkLifeBalance & YearsAtCompany & YearsInCurrentRole & YearsSinceLastPromotion & YearsWithCurrManager\\\\\n",
       "\\hline\n",
       "\t 41                     & 1                      & Travel\\_Rarely        & 1102                   & Sales                  & 1                      & 2                      & Life Sciences          & 1                      & 2                      & ...                    & 3                      & 1                      & 0                      &  8                     & 0                      & 1                      &  6                     & 4                      & 0                      & 5                     \\\\\n",
       "\t 49                       & 0                        & Travel\\_Frequently      &  279                     & Research \\& Development & 8                        & 1                        & Life Sciences            & 2                        & 3                        & ...                      & 4                        & 4                        & 1                        & 10                       & 3                        & 3                        & 10                       & 7                        & 1                        & 7                       \\\\\n",
       "\t 37                       & 1                        & Travel\\_Rarely          & 1373                     & Research \\& Development & 2                        & 2                        & Other                    & 4                        & 4                        & ...                      & 3                        & 2                        & 0                        &  7                       & 3                        & 3                        &  0                       & 0                        & 0                        & 0                       \\\\\n",
       "\t 33                       & 0                        & Travel\\_Frequently      & 1392                     & Research \\& Development & 3                        & 4                        & Life Sciences            & 5                        & 4                        & ...                      & 3                        & 3                        & 0                        &  8                       & 3                        & 3                        &  8                       & 7                        & 3                        & 0                       \\\\\n",
       "\t 27                       & 0                        & Travel\\_Rarely          &  591                     & Research \\& Development & 2                        & 1                        & Medical                  & 7                        & 1                        & ...                      & 3                        & 4                        & 1                        &  6                       & 3                        & 3                        &  2                       & 2                        & 2                        & 2                       \\\\\n",
       "\\end{tabular}\n"
      ],
      "text/markdown": [
       "\n",
       "Age | Attrition | BusinessTravel | DailyRate | Department | DistanceFromHome | Education | EducationField | EmployeeNumber | EnvironmentSatisfaction | ... | PerformanceRating | RelationshipSatisfaction | StockOptionLevel | TotalWorkingYears | TrainingTimesLastYear | WorkLifeBalance | YearsAtCompany | YearsInCurrentRole | YearsSinceLastPromotion | YearsWithCurrManager | \n",
       "|---|---|---|---|---|\n",
       "| 41                     | 1                      | Travel_Rarely          | 1102                   | Sales                  | 1                      | 2                      | Life Sciences          | 1                      | 2                      | ...                    | 3                      | 1                      | 0                      |  8                     | 0                      | 1                      |  6                     | 4                      | 0                      | 5                      | \n",
       "| 49                     | 0                      | Travel_Frequently      |  279                   | Research & Development | 8                      | 1                      | Life Sciences          | 2                      | 3                      | ...                    | 4                      | 4                      | 1                      | 10                     | 3                      | 3                      | 10                     | 7                      | 1                      | 7                      | \n",
       "| 37                     | 1                      | Travel_Rarely          | 1373                   | Research & Development | 2                      | 2                      | Other                  | 4                      | 4                      | ...                    | 3                      | 2                      | 0                      |  7                     | 3                      | 3                      |  0                     | 0                      | 0                      | 0                      | \n",
       "| 33                     | 0                      | Travel_Frequently      | 1392                   | Research & Development | 3                      | 4                      | Life Sciences          | 5                      | 4                      | ...                    | 3                      | 3                      | 0                      |  8                     | 3                      | 3                      |  8                     | 7                      | 3                      | 0                      | \n",
       "| 27                     | 0                      | Travel_Rarely          |  591                   | Research & Development | 2                      | 1                      | Medical                | 7                      | 1                      | ...                    | 3                      | 4                      | 1                      |  6                     | 3                      | 3                      |  2                     | 2                      | 2                      | 2                      | \n",
       "\n",
       "\n"
      ],
      "text/plain": [
       "  Age Attrition BusinessTravel    DailyRate Department            \n",
       "1 41  1         Travel_Rarely     1102      Sales                 \n",
       "2 49  0         Travel_Frequently  279      Research & Development\n",
       "3 37  1         Travel_Rarely     1373      Research & Development\n",
       "4 33  0         Travel_Frequently 1392      Research & Development\n",
       "5 27  0         Travel_Rarely      591      Research & Development\n",
       "  DistanceFromHome Education EducationField EmployeeNumber\n",
       "1 1                2         Life Sciences  1             \n",
       "2 8                1         Life Sciences  2             \n",
       "3 2                2         Other          4             \n",
       "4 3                4         Life Sciences  5             \n",
       "5 2                1         Medical        7             \n",
       "  EnvironmentSatisfaction ... PerformanceRating RelationshipSatisfaction\n",
       "1 2                       ... 3                 1                       \n",
       "2 3                       ... 4                 4                       \n",
       "3 4                       ... 3                 2                       \n",
       "4 4                       ... 3                 3                       \n",
       "5 1                       ... 3                 4                       \n",
       "  StockOptionLevel TotalWorkingYears TrainingTimesLastYear WorkLifeBalance\n",
       "1 0                 8                0                     1              \n",
       "2 1                10                3                     3              \n",
       "3 0                 7                3                     3              \n",
       "4 0                 8                3                     3              \n",
       "5 1                 6                3                     3              \n",
       "  YearsAtCompany YearsInCurrentRole YearsSinceLastPromotion\n",
       "1  6             4                  0                      \n",
       "2 10             7                  1                      \n",
       "3  0             0                  0                      \n",
       "4  8             7                  3                      \n",
       "5  2             2                  2                      \n",
       "  YearsWithCurrManager\n",
       "1 5                   \n",
       "2 7                   \n",
       "3 0                   \n",
       "4 0                   \n",
       "5 2                   "
      ]
     },
     "metadata": {},
     "output_type": "display_data"
    }
   ],
   "source": [
    "# Converting Attrition into binary 0 & 1 for convenience:\n",
    "hrdata$Attrition<-factor(hrdata$Attrition,labels = c('0','1'))\n",
    "head(hrdata,5)"
   ]
  },
  {
   "cell_type": "code",
   "execution_count": 8,
   "metadata": {},
   "outputs": [
    {
     "name": "stdout",
     "output_type": "stream",
     "text": [
      "'data.frame':\t1470 obs. of  32 variables:\n",
      " $ Age                     : int  41 49 37 33 27 32 59 30 38 36 ...\n",
      " $ Attrition               : Factor w/ 2 levels \"0\",\"1\": 2 1 2 1 1 1 1 1 1 1 ...\n",
      " $ BusinessTravel          : Factor w/ 3 levels \"Non-Travel\",\"Travel_Frequently\",..: 3 2 3 2 3 2 3 3 2 3 ...\n",
      " $ DailyRate               : int  1102 279 1373 1392 591 1005 1324 1358 216 1299 ...\n",
      " $ Department              : Factor w/ 3 levels \"Human Resources\",..: 3 2 2 2 2 2 2 2 2 2 ...\n",
      " $ DistanceFromHome        : int  1 8 2 3 2 2 3 24 23 27 ...\n",
      " $ Education               : int  2 1 2 4 1 2 3 1 3 3 ...\n",
      " $ EducationField          : Factor w/ 6 levels \"Human Resources\",..: 2 2 5 2 4 2 4 2 2 4 ...\n",
      " $ EmployeeNumber          : int  1 2 4 5 7 8 10 11 12 13 ...\n",
      " $ EnvironmentSatisfaction : int  2 3 4 4 1 4 3 4 4 3 ...\n",
      " $ Gender                  : Factor w/ 2 levels \"Female\",\"Male\": 1 2 2 1 2 2 1 2 2 2 ...\n",
      " $ HourlyRate              : int  94 61 92 56 40 79 81 67 44 94 ...\n",
      " $ JobInvolvement          : int  3 2 2 3 3 3 4 3 2 3 ...\n",
      " $ JobLevel                : int  2 2 1 1 1 1 1 1 3 2 ...\n",
      " $ JobRole                 : Factor w/ 9 levels \"Healthcare Representative\",..: 8 7 3 7 3 3 3 3 5 1 ...\n",
      " $ JobSatisfaction         : int  4 2 3 3 2 4 1 3 3 3 ...\n",
      " $ MaritalStatus           : Factor w/ 3 levels \"Divorced\",\"Married\",..: 3 2 3 2 2 3 2 1 3 2 ...\n",
      " $ MonthlyIncome           : int  5993 5130 2090 2909 3468 3068 2670 2693 9526 5237 ...\n",
      " $ MonthlyRate             : int  19479 24907 2396 23159 16632 11864 9964 13335 8787 16577 ...\n",
      " $ NumCompaniesWorked      : int  8 1 6 1 9 0 4 1 0 6 ...\n",
      " $ OverTime                : Factor w/ 2 levels \"No\",\"Yes\": 2 1 2 2 1 1 2 1 1 1 ...\n",
      " $ PercentSalaryHike       : int  11 23 15 11 12 13 20 22 21 13 ...\n",
      " $ PerformanceRating       : int  3 4 3 3 3 3 4 4 4 3 ...\n",
      " $ RelationshipSatisfaction: int  1 4 2 3 4 3 1 2 2 2 ...\n",
      " $ StockOptionLevel        : int  0 1 0 0 1 0 3 1 0 2 ...\n",
      " $ TotalWorkingYears       : int  8 10 7 8 6 8 12 1 10 17 ...\n",
      " $ TrainingTimesLastYear   : int  0 3 3 3 3 2 3 2 2 3 ...\n",
      " $ WorkLifeBalance         : int  1 3 3 3 3 2 2 3 3 2 ...\n",
      " $ YearsAtCompany          : int  6 10 0 8 2 7 1 1 9 7 ...\n",
      " $ YearsInCurrentRole      : int  4 7 0 7 2 7 0 0 7 7 ...\n",
      " $ YearsSinceLastPromotion : int  0 1 0 3 2 3 0 0 1 7 ...\n",
      " $ YearsWithCurrManager    : int  5 7 0 0 2 6 0 0 8 7 ...\n"
     ]
    }
   ],
   "source": [
    "# Lets check the datatype of variables:\n",
    "str(hrdata)"
   ]
  },
  {
   "cell_type": "code",
   "execution_count": 9,
   "metadata": {},
   "outputs": [
    {
     "name": "stdout",
     "output_type": "stream",
     "text": [
      "'data.frame':\t1470 obs. of  32 variables:\n",
      " $ Age                     : int  41 49 37 33 27 32 59 30 38 36 ...\n",
      " $ Attrition               : Factor w/ 2 levels \"0\",\"1\": 2 1 2 1 1 1 1 1 1 1 ...\n",
      " $ BusinessTravel          : Factor w/ 3 levels \"Non-Travel\",\"Travel_Frequently\",..: 3 2 3 2 3 2 3 3 2 3 ...\n",
      " $ DailyRate               : int  1102 279 1373 1392 591 1005 1324 1358 216 1299 ...\n",
      " $ Department              : Factor w/ 3 levels \"Human Resources\",..: 3 2 2 2 2 2 2 2 2 2 ...\n",
      " $ DistanceFromHome        : int  1 8 2 3 2 2 3 24 23 27 ...\n",
      " $ Education               : int  2 1 2 4 1 2 3 1 3 3 ...\n",
      " $ EducationField          : Factor w/ 6 levels \"Human Resources\",..: 2 2 5 2 4 2 4 2 2 4 ...\n",
      " $ EmployeeNumber          : int  1 2 4 5 7 8 10 11 12 13 ...\n",
      " $ EnvironmentSatisfaction : Factor w/ 4 levels \"1\",\"2\",\"3\",\"4\": 2 3 4 4 1 4 3 4 4 3 ...\n",
      " $ Gender                  : Factor w/ 2 levels \"Female\",\"Male\": 1 2 2 1 2 2 1 2 2 2 ...\n",
      " $ HourlyRate              : int  94 61 92 56 40 79 81 67 44 94 ...\n",
      " $ JobInvolvement          : Factor w/ 4 levels \"1\",\"2\",\"3\",\"4\": 3 2 2 3 3 3 4 3 2 3 ...\n",
      " $ JobLevel                : Factor w/ 5 levels \"1\",\"2\",\"3\",\"4\",..: 2 2 1 1 1 1 1 1 3 2 ...\n",
      " $ JobRole                 : Factor w/ 9 levels \"Healthcare Representative\",..: 8 7 3 7 3 3 3 3 5 1 ...\n",
      " $ JobSatisfaction         : Factor w/ 4 levels \"1\",\"2\",\"3\",\"4\": 4 2 3 3 2 4 1 3 3 3 ...\n",
      " $ MaritalStatus           : Factor w/ 3 levels \"Divorced\",\"Married\",..: 3 2 3 2 2 3 2 1 3 2 ...\n",
      " $ MonthlyIncome           : int  5993 5130 2090 2909 3468 3068 2670 2693 9526 5237 ...\n",
      " $ MonthlyRate             : int  19479 24907 2396 23159 16632 11864 9964 13335 8787 16577 ...\n",
      " $ NumCompaniesWorked      : int  8 1 6 1 9 0 4 1 0 6 ...\n",
      " $ OverTime                : Factor w/ 2 levels \"No\",\"Yes\": 2 1 2 2 1 1 2 1 1 1 ...\n",
      " $ PercentSalaryHike       : int  11 23 15 11 12 13 20 22 21 13 ...\n",
      " $ PerformanceRating       : int  3 4 3 3 3 3 4 4 4 3 ...\n",
      " $ RelationshipSatisfaction: Factor w/ 4 levels \"1\",\"2\",\"3\",\"4\": 1 4 2 3 4 3 1 2 2 2 ...\n",
      " $ StockOptionLevel        : Factor w/ 4 levels \"0\",\"1\",\"2\",\"3\": 1 2 1 1 2 1 4 2 1 3 ...\n",
      " $ TotalWorkingYears       : int  8 10 7 8 6 8 12 1 10 17 ...\n",
      " $ TrainingTimesLastYear   : int  0 3 3 3 3 2 3 2 2 3 ...\n",
      " $ WorkLifeBalance         : Factor w/ 4 levels \"1\",\"2\",\"3\",\"4\": 1 3 3 3 3 2 2 3 3 2 ...\n",
      " $ YearsAtCompany          : int  6 10 0 8 2 7 1 1 9 7 ...\n",
      " $ YearsInCurrentRole      : int  4 7 0 7 2 7 0 0 7 7 ...\n",
      " $ YearsSinceLastPromotion : int  0 1 0 3 2 3 0 0 1 7 ...\n",
      " $ YearsWithCurrManager    : int  5 7 0 0 2 6 0 0 8 7 ...\n"
     ]
    }
   ],
   "source": [
    "# Correcting the data types:\n",
    "hrdata$EnvironmentSatisfaction<-as.factor(hrdata$EnvironmentSatisfaction)\n",
    "hrdata$JobInvolvement<-as.factor(hrdata$JobInvolvement)\n",
    "hrdata$JobLevel<-as.factor(hrdata$JobLevel)\n",
    "hrdata$JobSatisfaction<-as.factor(hrdata$JobSatisfaction)\n",
    "hrdata$RelationshipSatisfaction<-as.factor(hrdata$RelationshipSatisfaction)\n",
    "hrdata$StockOptionLevel<-as.factor(hrdata$StockOptionLevel)\n",
    "hrdata$WorkLifeBalance<-as.factor(hrdata$WorkLifeBalance)\n",
    "str(hrdata)"
   ]
  },
  {
   "cell_type": "code",
   "execution_count": 10,
   "metadata": {},
   "outputs": [
    {
     "data": {
      "text/html": [
       "<table>\n",
       "<tbody>\n",
       "\t<tr><th scope=row>Age</th><td>-0.159205007</td></tr>\n",
       "\t<tr><th scope=row>Attrition</th><td> 1.000000000</td></tr>\n",
       "\t<tr><th scope=row>DailyRate</th><td>-0.056651992</td></tr>\n",
       "\t<tr><th scope=row>DistanceFromHome</th><td> 0.077923583</td></tr>\n",
       "\t<tr><th scope=row>Education</th><td>-0.031372820</td></tr>\n",
       "\t<tr><th scope=row>EmployeeNumber</th><td>-0.010577243</td></tr>\n",
       "\t<tr><th scope=row>HourlyRate</th><td>-0.006845550</td></tr>\n",
       "\t<tr><th scope=row>MonthlyIncome</th><td>-0.159839582</td></tr>\n",
       "\t<tr><th scope=row>MonthlyRate</th><td> 0.015170213</td></tr>\n",
       "\t<tr><th scope=row>NumCompaniesWorked</th><td> 0.043493739</td></tr>\n",
       "\t<tr><th scope=row>PercentSalaryHike</th><td>-0.013478202</td></tr>\n",
       "\t<tr><th scope=row>PerformanceRating</th><td> 0.002888752</td></tr>\n",
       "\t<tr><th scope=row>TotalWorkingYears</th><td>-0.171063246</td></tr>\n",
       "\t<tr><th scope=row>TrainingTimesLastYear</th><td>-0.059477799</td></tr>\n",
       "\t<tr><th scope=row>YearsAtCompany</th><td>-0.134392214</td></tr>\n",
       "\t<tr><th scope=row>YearsInCurrentRole</th><td>-0.160545004</td></tr>\n",
       "\t<tr><th scope=row>YearsSinceLastPromotion</th><td>-0.033018775</td></tr>\n",
       "\t<tr><th scope=row>YearsWithCurrManager</th><td>-0.156199316</td></tr>\n",
       "</tbody>\n",
       "</table>\n"
      ],
      "text/latex": [
       "\\begin{tabular}{r|l}\n",
       "\tAge & -0.159205007\\\\\n",
       "\tAttrition &  1.000000000\\\\\n",
       "\tDailyRate & -0.056651992\\\\\n",
       "\tDistanceFromHome &  0.077923583\\\\\n",
       "\tEducation & -0.031372820\\\\\n",
       "\tEmployeeNumber & -0.010577243\\\\\n",
       "\tHourlyRate & -0.006845550\\\\\n",
       "\tMonthlyIncome & -0.159839582\\\\\n",
       "\tMonthlyRate &  0.015170213\\\\\n",
       "\tNumCompaniesWorked &  0.043493739\\\\\n",
       "\tPercentSalaryHike & -0.013478202\\\\\n",
       "\tPerformanceRating &  0.002888752\\\\\n",
       "\tTotalWorkingYears & -0.171063246\\\\\n",
       "\tTrainingTimesLastYear & -0.059477799\\\\\n",
       "\tYearsAtCompany & -0.134392214\\\\\n",
       "\tYearsInCurrentRole & -0.160545004\\\\\n",
       "\tYearsSinceLastPromotion & -0.033018775\\\\\n",
       "\tYearsWithCurrManager & -0.156199316\\\\\n",
       "\\end{tabular}\n"
      ],
      "text/markdown": [
       "\n",
       "| Age | -0.159205007 | \n",
       "| Attrition |  1.000000000 | \n",
       "| DailyRate | -0.056651992 | \n",
       "| DistanceFromHome |  0.077923583 | \n",
       "| Education | -0.031372820 | \n",
       "| EmployeeNumber | -0.010577243 | \n",
       "| HourlyRate | -0.006845550 | \n",
       "| MonthlyIncome | -0.159839582 | \n",
       "| MonthlyRate |  0.015170213 | \n",
       "| NumCompaniesWorked |  0.043493739 | \n",
       "| PercentSalaryHike | -0.013478202 | \n",
       "| PerformanceRating |  0.002888752 | \n",
       "| TotalWorkingYears | -0.171063246 | \n",
       "| TrainingTimesLastYear | -0.059477799 | \n",
       "| YearsAtCompany | -0.134392214 | \n",
       "| YearsInCurrentRole | -0.160545004 | \n",
       "| YearsSinceLastPromotion | -0.033018775 | \n",
       "| YearsWithCurrManager | -0.156199316 | \n",
       "\n",
       "\n"
      ],
      "text/plain": [
       "                        [,1]        \n",
       "Age                     -0.159205007\n",
       "Attrition                1.000000000\n",
       "DailyRate               -0.056651992\n",
       "DistanceFromHome         0.077923583\n",
       "Education               -0.031372820\n",
       "EmployeeNumber          -0.010577243\n",
       "HourlyRate              -0.006845550\n",
       "MonthlyIncome           -0.159839582\n",
       "MonthlyRate              0.015170213\n",
       "NumCompaniesWorked       0.043493739\n",
       "PercentSalaryHike       -0.013478202\n",
       "PerformanceRating        0.002888752\n",
       "TotalWorkingYears       -0.171063246\n",
       "TrainingTimesLastYear   -0.059477799\n",
       "YearsAtCompany          -0.134392214\n",
       "YearsInCurrentRole      -0.160545004\n",
       "YearsSinceLastPromotion -0.033018775\n",
       "YearsWithCurrManager    -0.156199316"
      ]
     },
     "metadata": {},
     "output_type": "display_data"
    },
    {
     "data": {
      "image/png": "[encoded data removed]",
      "text/plain": [
       "Plot with title \"\""
      ]
     },
     "metadata": {},
     "output_type": "display_data"
    }
   ],
   "source": [
    "# Finding the correlations for numeric values:\n",
    "\n",
    "ints<-c()\n",
    "hrdata$Attrition<- as.integer(hrdata$Attrition)\n",
    "for(i in 1:32)\n",
    " {if(is.integer(hrdata[,i]))\n",
    "{\n",
    "ints<-c(ints,i)}}\n",
    "corrplot(cor(hrdata[,ints]),method = \"pie\",number.font = 1)\n",
    "cor(hrdata[,ints],hrdata$Attrition)\n",
    "hrdata$Attrition <- as.factor(hrdata$Attrition)\n",
    "hrdata$Attrition<-factor(hrdata$Attrition,labels = c('0','1'))"
   ]
  },
  {
   "cell_type": "code",
   "execution_count": 11,
   "metadata": {},
   "outputs": [],
   "source": [
    "# Thus Attrition is positively correlated to Age,Monthly Income,Total Working Years,YearsAtCompany \n",
    "# and YearsWithCurrentManager, and no significant negative correlation is found."
   ]
  },
  {
   "cell_type": "code",
   "execution_count": 12,
   "metadata": {},
   "outputs": [
    {
     "name": "stdout",
     "output_type": "stream",
     "text": [
      "[1] \"Attrition\"\n",
      "\n",
      "\tPearson's Chi-squared test with Yates' continuity correction\n",
      "\n",
      "data:  tbl\n",
      "X-squared = 1462.6, df = 1, p-value < 2.2e-16\n",
      "\n",
      "[1] \"BusinessTravel\"\n",
      "\n",
      "\tPearson's Chi-squared test\n",
      "\n",
      "data:  tbl\n",
      "X-squared = 24.182, df = 2, p-value = 5.609e-06\n",
      "\n",
      "[1] \"Department\"\n",
      "\n",
      "\tPearson's Chi-squared test\n",
      "\n",
      "data:  tbl\n",
      "X-squared = 10.796, df = 2, p-value = 0.004526\n",
      "\n",
      "[1] \"EducationField\"\n"
     ]
    },
    {
     "name": "stderr",
     "output_type": "stream",
     "text": [
      "Warning message in chisq.test(tbl):\n",
      "\"Chi-squared approximation may be incorrect\""
     ]
    },
    {
     "name": "stdout",
     "output_type": "stream",
     "text": [
      "\n",
      "\tPearson's Chi-squared test\n",
      "\n",
      "data:  tbl\n",
      "X-squared = 16.025, df = 5, p-value = 0.006774\n",
      "\n",
      "[1] \"EnvironmentSatisfaction\"\n",
      "\n",
      "\tPearson's Chi-squared test\n",
      "\n",
      "data:  tbl\n",
      "X-squared = 22.504, df = 3, p-value = 5.123e-05\n",
      "\n",
      "[1] \"Gender\"\n",
      "\n",
      "\tPearson's Chi-squared test with Yates' continuity correction\n",
      "\n",
      "data:  tbl\n",
      "X-squared = 1.117, df = 1, p-value = 0.2906\n",
      "\n",
      "[1] \"JobInvolvement\"\n",
      "\n",
      "\tPearson's Chi-squared test\n",
      "\n",
      "data:  tbl\n",
      "X-squared = 28.492, df = 3, p-value = 2.863e-06\n",
      "\n",
      "[1] \"JobLevel\"\n",
      "\n",
      "\tPearson's Chi-squared test\n",
      "\n",
      "data:  tbl\n",
      "X-squared = 72.529, df = 4, p-value = 6.635e-15\n",
      "\n",
      "[1] \"JobRole\"\n",
      "\n",
      "\tPearson's Chi-squared test\n",
      "\n",
      "data:  tbl\n",
      "X-squared = 86.19, df = 8, p-value = 2.752e-15\n",
      "\n",
      "[1] \"JobSatisfaction\"\n",
      "\n",
      "\tPearson's Chi-squared test\n",
      "\n",
      "data:  tbl\n",
      "X-squared = 17.505, df = 3, p-value = 0.0005563\n",
      "\n",
      "[1] \"MaritalStatus\"\n",
      "\n",
      "\tPearson's Chi-squared test\n",
      "\n",
      "data:  tbl\n",
      "X-squared = 46.164, df = 2, p-value = 9.456e-11\n",
      "\n",
      "[1] \"OverTime\"\n",
      "\n",
      "\tPearson's Chi-squared test with Yates' continuity correction\n",
      "\n",
      "data:  tbl\n",
      "X-squared = 87.564, df = 1, p-value < 2.2e-16\n",
      "\n",
      "[1] \"RelationshipSatisfaction\"\n",
      "\n",
      "\tPearson's Chi-squared test\n",
      "\n",
      "data:  tbl\n",
      "X-squared = 5.2411, df = 3, p-value = 0.155\n",
      "\n",
      "[1] \"StockOptionLevel\"\n",
      "\n",
      "\tPearson's Chi-squared test\n",
      "\n",
      "data:  tbl\n",
      "X-squared = 60.598, df = 3, p-value = 4.379e-13\n",
      "\n",
      "[1] \"WorkLifeBalance\"\n",
      "\n",
      "\tPearson's Chi-squared test\n",
      "\n",
      "data:  tbl\n",
      "X-squared = 16.325, df = 3, p-value = 0.0009726\n",
      "\n"
     ]
    }
   ],
   "source": [
    "# Finding the categorical significant variables using chi-square test:\n",
    "\n",
    "for(i in 1:length(hrdata))\n",
    "  {if(class(hrdata[,i])!=\"integer\")\n",
    "   { tbl<-0\n",
    "  tbl=table(hrdata$Attrition,hrdata[,i])\n",
    "print(names(hrdata[i]))\n",
    "print(chisq.test(tbl))}}"
   ]
  },
  {
   "cell_type": "code",
   "execution_count": 13,
   "metadata": {},
   "outputs": [
    {
     "data": {
      "text/html": [
       "30"
      ],
      "text/latex": [
       "30"
      ],
      "text/markdown": [
       "30"
      ],
      "text/plain": [
       "[1] 30"
      ]
     },
     "metadata": {},
     "output_type": "display_data"
    }
   ],
   "source": [
    "# Thus except Gender & Relationship Satisfaction, all other attributes appear to be significant:\n",
    "# Removing them to avoid garbage\n",
    "hrdata <- select(hrdata,-Gender,-RelationshipSatisfaction)\n",
    "length(hrdata)"
   ]
  },
  {
   "cell_type": "code",
   "execution_count": 14,
   "metadata": {},
   "outputs": [
    {
     "data": {
      "image/png": "[encoded data removed]",
      "text/plain": [
       "Plot with title \"BusinessTravel\""
      ]
     },
     "metadata": {},
     "output_type": "display_data"
    },
    {
     "data": {
      "image/png": "[encoded data removed]",
      "text/plain": [
       "Plot with title \"Department\""
      ]
     },
     "metadata": {},
     "output_type": "display_data"
    },
    {
     "data": {
      "image/png": "[encoded data removed]",
      "text/plain": [
       "Plot with title \"EducationField\""
      ]
     },
     "metadata": {},
     "output_type": "display_data"
    },
    {
     "data": {
      "image/png": "[encoded data removed]",
      "text/plain": [
       "Plot with title \"EnvironmentSatisfaction\""
      ]
     },
     "metadata": {},
     "output_type": "display_data"
    },
    {
     "data": {
      "image/png": "[encoded data removed]",
      "text/plain": [
       "Plot with title \"JobInvolvement\""
      ]
     },
     "metadata": {},
     "output_type": "display_data"
    },
    {
     "data": {
      "image/png": "[encoded data removed]",
      "text/plain": [
       "Plot with title \"JobLevel\""
      ]
     },
     "metadata": {},
     "output_type": "display_data"
    },
    {
     "data": {
      "image/png": "[encoded data removed]",
      "text/plain": [
       "Plot with title \"JobRole\""
      ]
     },
     "metadata": {},
     "output_type": "display_data"
    },
    {
     "data": {
      "image/png": "[encoded data removed]",
      "text/plain": [
       "Plot with title \"JobSatisfaction\""
      ]
     },
     "metadata": {},
     "output_type": "display_data"
    },
    {
     "data": {
      "image/png": "[encoded data removed]",
      "text/plain": [
       "Plot with title \"MaritalStatus\""
      ]
     },
     "metadata": {},
     "output_type": "display_data"
    },
    {
     "data": {
      "image/png": "[encoded data removed]",
      "text/plain": [
       "Plot with title \"OverTime\""
      ]
     },
     "metadata": {},
     "output_type": "display_data"
    },
    {
     "ename": "ERROR",
     "evalue": "Error in `[.data.frame`(hrdata, , k): undefined columns selected\n",
     "output_type": "error",
     "traceback": [
      "Error in `[.data.frame`(hrdata, , k): undefined columns selected\nTraceback:\n",
      "1. is.factor(hrdata[, k])",
      "2. hrdata[, k]",
      "3. `[.data.frame`(hrdata, , k)",
      "4. stop(\"undefined columns selected\")"
     ]
    },
    {
     "data": {
      "image/png": "[encoded data removed]",
      "text/plain": [
       "Plot with title \"StockOptionLevel\""
      ]
     },
     "metadata": {},
     "output_type": "display_data"
    },
    {
     "data": {
      "image/png": "[encoded data removed]",
      "text/plain": [
       "Plot with title \"WorkLifeBalance\""
      ]
     },
     "metadata": {},
     "output_type": "display_data"
    }
   ],
   "source": [
    "# Comparision of expected attrition and actual attrition in each categories:\n",
    "#(Note: Expected attrition for each level of a categorical variable is equal to the actual number of observations having attrition)\n",
    "\n",
    "pooled_prop=nrow(hrdata[hrdata$Attrition==1,])/nrow(hrdata)\n",
    "\n",
    "\n",
    "for(k in 1:32)\n",
    "{\n",
    "if(is.factor(hrdata[,k]))\n",
    "{props<-c()\n",
    "prop_vector<-c()\n",
    "nam<-c()  \n",
    "  for(i in 1:length(unique(hrdata[,k])))\n",
    "  {\n",
    "    props<-nrow(hrdata[hrdata$Attrition==1 & hrdata[,k]==levels(hrdata[,k])[i],])/nrow(hrdata[hrdata[,k]==levels(hrdata[,k])[i],])\n",
    "prop_vector<- c(prop_vector,props)  \n",
    "   \n",
    "\n",
    "se<-sqrt((pooled_prop*(1-pooled_prop))/nrow(hrdata)+(props*(1-props))/nrow(hrdata[hrdata[,k]==levels(hrdata[,k])[i],]))\n",
    "\n",
    "}\n",
    "prop_vector1<-c()\n",
    "prop_vector1<-c(pooled_prop,prop_vector)\n",
    "#print(names(hrdata[k]))\n",
    "#print(result)\n",
    "#if(result==\"significant\")\n",
    "#{ \n",
    "#print(ifelse(z<z1,sprintf(\"Significantly Min Attrition in %s is in Category %i\",names(hrdata[k]),i),sprintf(\"Significantly Max Attrition in %s is in Category %i\",names(hrdata[k]),i)))\n",
    "if(k>2)\n",
    "{x<-barplot(prop_vector1,xlab = \"Categories/Levels\",ylab=\"Attrition\",names.arg=c(\"Expected\",levels(hrdata[,k])),main = names(hrdata[k]),axisnames=T,ylim = c(0,1),width = 1.5,cex.names = .6,space=0.7,col=\"blue\")}}}\n"
   ]
  },
  {
   "cell_type": "code",
   "execution_count": null,
   "metadata": {},
   "outputs": [],
   "source": [
    "# Thus employees having the following characteristics have a high probability of attrition:\n",
    "# 1) No Business Travel (maybe because they are bored at the same place)\n",
    "# 2) Medical Education field (maybe because they are opening up their own clinic)\n",
    "# 3) High Job Involvement (maybe because they are saturated now)\n",
    "# 4) Higher Job Level (maybe because ample of job opportunities are avilable in the market at an executive level with lucrative salaries)\n",
    "# 5) Doing less overtime (strange, but that could be due to the sampling bias)\n",
    "\n"
   ]
  },
  {
   "cell_type": "code",
   "execution_count": 15,
   "metadata": {},
   "outputs": [],
   "source": [
    "# Scaling the numeric attributes:\n",
    "ints_index=1\n",
    "for(i in 3:30)\n",
    "   { if (class(hrdata[,i])== 'integer')\n",
    "ints_index=c(ints_index,i) }\n",
    "\n",
    "hrdata[,ints_index]=scale(hrdata[,ints_index])\n",
    "\n"
   ]
  },
  {
   "cell_type": "code",
   "execution_count": 16,
   "metadata": {},
   "outputs": [],
   "source": [
    "# All set for model building\n",
    "# Lets split the data into training and testing set\n",
    "hrdata$Attrition<-as.factor(hrdata$Attrition)\n",
    "set.seed(123)\n",
    "split<-sample.split(hrdata,SplitRatio = 0.8)\n",
    "train<-subset(hrdata,split==TRUE)\n",
    "test<-subset(hrdata,split==FALSE)"
   ]
  },
  {
   "cell_type": "code",
   "execution_count": 17,
   "metadata": {},
   "outputs": [
    {
     "name": "stderr",
     "output_type": "stream",
     "text": [
      "Loading required package: Matrix\n",
      "Loading required package: foreach\n",
      "Loaded glmnet 2.0-13\n",
      "\n"
     ]
    },
    {
     "data": {
      "image/png": "[encoded data removed]",
      "text/plain": [
       "plot without title"
      ]
     },
     "metadata": {},
     "output_type": "display_data"
    },
    {
     "name": "stdout",
     "output_type": "stream",
     "text": [
      "[1] \"lambda_min\"\n",
      "[1] 0.01014342\n",
      "[1] \"lambda_1se\"\n",
      "[1] 0.04494164\n",
      "[1] -3.102391\n"
     ]
    },
    {
     "data": {
      "text/plain": [
       "57 x 1 sparse Matrix of class \"dgCMatrix\"\n",
       "                                            1\n",
       "(Intercept)                      -1.104997794\n",
       "Age                              -0.195309003\n",
       "BusinessTravelTravel_Frequently   0.639499200\n",
       "BusinessTravelTravel_Rarely       0.102504297\n",
       "DailyRate                        -0.160927529\n",
       "DepartmentResearch & Development -0.195245978\n",
       "DepartmentSales                   0.212518527\n",
       "DistanceFromHome                  0.210365556\n",
       "Education                         0.017993396\n",
       "EducationFieldLife Sciences      -0.027834472\n",
       "EducationFieldMarketing           0.019021051\n",
       "EducationFieldMedical            -0.184611508\n",
       "EducationFieldOther              -0.041160888\n",
       "EducationFieldTechnical Degree    0.290472086\n",
       "EmployeeNumber                   -0.035904978\n",
       "EnvironmentSatisfaction2         -0.260315983\n",
       "EnvironmentSatisfaction3         -0.500772392\n",
       "EnvironmentSatisfaction4         -0.428320074\n",
       "HourlyRate                       -0.008457685\n",
       "JobInvolvement2                   0.031431770\n",
       "JobInvolvement3                  -0.373818223\n",
       "JobInvolvement4                  -0.728584248\n",
       "JobLevel2                        -0.579278799\n",
       "JobLevel3                         0.136141258\n",
       "JobLevel4                        -0.399423017\n",
       "JobLevel5                         0.242853542\n",
       "JobRoleHuman Resources            0.297246076\n",
       "JobRoleLaboratory Technician      0.486495550\n",
       "JobRoleManager                   -0.309075817\n",
       "JobRoleManufacturing Director    -0.227191466\n",
       "JobRoleResearch Director         -0.755010181\n",
       "JobRoleResearch Scientist        -0.159464709\n",
       "JobRoleSales Executive            0.173616717\n",
       "JobRoleSales Representative       0.506248740\n",
       "JobSatisfaction2                 -0.127779008\n",
       "JobSatisfaction3                 -0.208671857\n",
       "JobSatisfaction4                 -0.503065347\n",
       "MaritalStatusMarried              0.044579756\n",
       "MaritalStatusSingle               0.445857550\n",
       "MonthlyIncome                    -0.153203413\n",
       "MonthlyRate                       0.019198408\n",
       "NumCompaniesWorked                0.208151139\n",
       "OverTimeYes                       1.106580250\n",
       "PercentSalaryHike                 0.012693341\n",
       "PerformanceRating                 0.008379064\n",
       "StockOptionLevel1                -0.412406193\n",
       "StockOptionLevel2                -0.557232503\n",
       "StockOptionLevel3                 0.042862686\n",
       "TotalWorkingYears                -0.096231891\n",
       "TrainingTimesLastYear            -0.114549156\n",
       "WorkLifeBalance2                 -0.098321045\n",
       "WorkLifeBalance3                 -0.465103069\n",
       "WorkLifeBalance4                 -0.099090786\n",
       "YearsAtCompany                    0.030684182\n",
       "YearsInCurrentRole               -0.152016315\n",
       "YearsSinceLastPromotion           0.154580882\n",
       "YearsWithCurrManager             -0.142484062"
      ]
     },
     "metadata": {},
     "output_type": "display_data"
    },
    {
     "data": {
      "text/plain": [
       "             y_test\n",
       "ridge_predict   0   1\n",
       "            0 240  44\n",
       "            1   0  10"
      ]
     },
     "metadata": {},
     "output_type": "display_data"
    },
    {
     "data": {
      "text/html": [
       "0.850340136054422"
      ],
      "text/latex": [
       "0.850340136054422"
      ],
      "text/markdown": [
       "0.850340136054422"
      ],
      "text/plain": [
       "[1] 0.8503401"
      ]
     },
     "metadata": {},
     "output_type": "display_data"
    },
    {
     "data": {
      "image/png": "[encoded data removed]",
      "text/plain": [
       "plot without title"
      ]
     },
     "metadata": {},
     "output_type": "display_data"
    }
   ],
   "source": [
    "# 1) Using Ridge Regression Classification to shrink non-significant variables:\n",
    "\n",
    "\n",
    "x_train=model.matrix(Attrition~.,train)[,-1]\n",
    "y_train=train$Attrition\n",
    "x_test=model.matrix(Attrition~.,test)[,-1]\n",
    "y_test=test$Attrition\n",
    "\n",
    "\n",
    "#set.seed(1)\n",
    "#train= sample(1:nrow(x),nrow(x)/2)\n",
    "#test=(-train)\n",
    "#y.test=y[test]\n",
    "grid=10^seq(10,-2,length=100)\n",
    "library(glmnet)\n",
    "ridge.mod <- glmnet(x_train,y_train,alpha=0,family=\"binomial\" ,lambda=grid)\n",
    "plot(ridge.mod)\n",
    "cv.out <- cv.glmnet(x_train,y_train,alpha=0,family=\"binomial\",type.measure = \"mse\")\n",
    "#plot result\n",
    "plot(cv.out)\n",
    "\n",
    "#min value of lambda\n",
    "lambda_min <- cv.out$lambda.min\n",
    "print(\"lambda_min\")\n",
    "print(lambda_min)\n",
    "#best value of lambda\n",
    "lambda_1se <- cv.out$lambda.1se\n",
    "print(\"lambda_1se\")\n",
    "print(lambda_1se)\n",
    "print(log(lambda_1se))\n",
    "#regression coefficients\n",
    "coef(cv.out,s=lambda_1se)\n",
    "\n",
    "#predict class, type=”class”\n",
    "ridge_prob <- predict(cv.out,newx = x_test,s=lambda_1se,type=\"response\")\n",
    "#translate probabilities to predictions\n",
    "ridge_predict <- rep(0,nrow(x_test))\n",
    "ridge_predict[ridge_prob>.5] <- 1\n",
    "\n",
    "#confusion matrix\n",
    "table(ridge_predict,y_test)\n",
    "mean(ridge_predict==y_test)"
   ]
  },
  {
   "cell_type": "code",
   "execution_count": 18,
   "metadata": {},
   "outputs": [
    {
     "data": {
      "image/png": "[encoded data removed]",
      "text/plain": [
       "plot without title"
      ]
     },
     "metadata": {},
     "output_type": "display_data"
    },
    {
     "name": "stdout",
     "output_type": "stream",
     "text": [
      "[1] 0.002038049\n",
      "[1] 0.008227637\n"
     ]
    },
    {
     "data": {
      "text/plain": [
       "57 x 1 sparse Matrix of class \"dgCMatrix\"\n",
       "                                            1\n",
       "(Intercept)                      -0.926293799\n",
       "Age                              -0.250038121\n",
       "BusinessTravelTravel_Frequently   0.640516003\n",
       "BusinessTravelTravel_Rarely       .          \n",
       "DailyRate                        -0.161125983\n",
       "DepartmentResearch & Development -0.570026645\n",
       "DepartmentSales                   0.158953450\n",
       "DistanceFromHome                  0.227994329\n",
       "Education                         .          \n",
       "EducationFieldLife Sciences       .          \n",
       "EducationFieldMarketing           .          \n",
       "EducationFieldMedical            -0.106989768\n",
       "EducationFieldOther               .          \n",
       "EducationFieldTechnical Degree    0.196810573\n",
       "EmployeeNumber                    .          \n",
       "EnvironmentSatisfaction2         -0.172964723\n",
       "EnvironmentSatisfaction3         -0.526167065\n",
       "EnvironmentSatisfaction4         -0.458550068\n",
       "HourlyRate                        .          \n",
       "JobInvolvement2                   .          \n",
       "JobInvolvement3                  -0.435653119\n",
       "JobInvolvement4                  -0.898286544\n",
       "JobLevel2                        -0.736538327\n",
       "JobLevel3                         .          \n",
       "JobLevel4                        -0.345811263\n",
       "JobLevel5                         .          \n",
       "JobRoleHuman Resources            .          \n",
       "JobRoleLaboratory Technician      0.573578848\n",
       "JobRoleManager                    .          \n",
       "JobRoleManufacturing Director     .          \n",
       "JobRoleResearch Director         -0.529504788\n",
       "JobRoleResearch Scientist        -0.009393895\n",
       "JobRoleSales Executive            .          \n",
       "JobRoleSales Representative       0.220917065\n",
       "JobSatisfaction2                  .          \n",
       "JobSatisfaction3                 -0.077888661\n",
       "JobSatisfaction4                 -0.491084018\n",
       "MaritalStatusMarried              .          \n",
       "MaritalStatusSingle               0.454781812\n",
       "MonthlyIncome                    -0.210562285\n",
       "MonthlyRate                       .          \n",
       "NumCompaniesWorked                0.233156124\n",
       "OverTimeYes                       1.373890230\n",
       "PercentSalaryHike                 .          \n",
       "PerformanceRating                 .          \n",
       "StockOptionLevel1                -0.400917653\n",
       "StockOptionLevel2                -0.486820360\n",
       "StockOptionLevel3                 .          \n",
       "TotalWorkingYears                 .          \n",
       "TrainingTimesLastYear            -0.071734898\n",
       "WorkLifeBalance2                  .          \n",
       "WorkLifeBalance3                 -0.423412324\n",
       "WorkLifeBalance4                  .          \n",
       "YearsAtCompany                    .          \n",
       "YearsInCurrentRole               -0.095646928\n",
       "YearsSinceLastPromotion           0.096787541\n",
       "YearsWithCurrManager             -0.113221485"
      ]
     },
     "metadata": {},
     "output_type": "display_data"
    },
    {
     "data": {
      "text/plain": [
       "             y_test\n",
       "lasso_predict   0   1\n",
       "            0 239  44\n",
       "            1   1  10"
      ]
     },
     "metadata": {},
     "output_type": "display_data"
    },
    {
     "data": {
      "text/html": [
       "0.846938775510204"
      ],
      "text/latex": [
       "0.846938775510204"
      ],
      "text/markdown": [
       "0.846938775510204"
      ],
      "text/plain": [
       "[1] 0.8469388"
      ]
     },
     "metadata": {},
     "output_type": "display_data"
    },
    {
     "data": {
      "image/png": "[encoded data removed]",
      "text/plain": [
       "plot without title"
      ]
     },
     "metadata": {},
     "output_type": "display_data"
    }
   ],
   "source": [
    "# 2) Using Lasso Regression Classification to shrink non-significant variables to zero:\n",
    "x_train=model.matrix(Attrition~.,train)[,-1]\n",
    "y_train=train$Attrition\n",
    "x_test=model.matrix(Attrition~.,test)[,-1]\n",
    "y_test=test$Attrition\n",
    "grid=10^seq(10,-2,length=100)\n",
    "library(glmnet)\n",
    "lasso.mod <- glmnet(x_train,y_train,alpha=1,family=\"binomial\" ,lambda=grid)\n",
    "plot(lasso.mod)\n",
    "\n",
    "cv.out <- cv.glmnet(x_train,y_train,alpha=1,family=\"binomial\",type.measure = \"mse\" )\n",
    "#plot result\n",
    "plot(cv.out)\n",
    "#min value of lambda\n",
    "lambda_min <- cv.out$lambda.min\n",
    "print(lambda_min)\n",
    "#best value of lambda\n",
    "lambda_1se <- cv.out$lambda.1se\n",
    "print(lambda_1se)\n",
    "#regression coefficients\n",
    "coef(cv.out,s=lambda_1se)\n",
    "\n",
    "#predict class, type=”class”\n",
    "lasso_prob <- predict(cv.out,newx = x_test,s=lambda_1se,type=\"response\")\n",
    "#translate probabilities to predictions\n",
    "lasso_predict <- rep(0,nrow(x_test))\n",
    "lasso_predict[lasso_prob>.5] <- 1\n",
    "#confusion matrix\n",
    "table(lasso_predict,y_test)\n",
    "mean(lasso_predict==y_test)\n"
   ]
  },
  {
   "cell_type": "code",
   "execution_count": 19,
   "metadata": {},
   "outputs": [
    {
     "data": {
      "text/plain": [
       "   l_pred\n",
       "      0   1\n",
       "  0 230  10\n",
       "  1  31  23"
      ]
     },
     "metadata": {},
     "output_type": "display_data"
    },
    {
     "data": {
      "text/html": [
       "0.860544217687075"
      ],
      "text/latex": [
       "0.860544217687075"
      ],
      "text/markdown": [
       "0.860544217687075"
      ],
      "text/plain": [
       "[1] 0.8605442"
      ]
     },
     "metadata": {},
     "output_type": "display_data"
    }
   ],
   "source": [
    "# 3) Building a logistic regression model by random split:\n",
    "logistic<- glm(Attrition~.,data=train,family=binomial)\n",
    "prob_pred<-predict(logistic,newdata=test,type='response')\n",
    "l_pred<-ifelse(prob_pred>0.5,1,0)\n",
    "cm<- table(test$Attrition,l_pred)\n",
    "cm\n",
    "accuracy<-sum(diag(cm))/sum(cm)\n",
    "accuracy"
   ]
  },
  {
   "cell_type": "code",
   "execution_count": 20,
   "metadata": {},
   "outputs": [
    {
     "name": "stderr",
     "output_type": "stream",
     "text": [
      "Warning message:\n",
      "\"package 'caret' was built under R version 3.4.4\"Loading required package: lattice\n",
      "Loading required package: ggplot2\n",
      "Warning message:\n",
      "\"glm.fit: fitted probabilities numerically 0 or 1 occurred\""
     ]
    },
    {
     "data": {
      "text/plain": [
       "    y_test\n",
       "pred   0   1\n",
       "   0 230  31\n",
       "   1  10  23"
      ]
     },
     "metadata": {},
     "output_type": "display_data"
    },
    {
     "data": {
      "text/html": [
       "0.860544217687075"
      ],
      "text/latex": [
       "0.860544217687075"
      ],
      "text/markdown": [
       "0.860544217687075"
      ],
      "text/plain": [
       "[1] 0.8605442"
      ]
     },
     "metadata": {},
     "output_type": "display_data"
    }
   ],
   "source": [
    "# 3) Building a logistic Regression by cross validation to get a more realistic accuracy:\n",
    "library(caret)\n",
    "logistic = train(Attrition ~ ., data=train, method=\"glm\",\n",
    "                trControl = trainControl(method = \"cv\"))\n",
    "\n",
    "\n",
    "pred <- predict(logistic,newdata = test)\n",
    "\n",
    "table(pred,y_test)\n",
    "mean(pred == y_test)"
   ]
  },
  {
   "cell_type": "code",
   "execution_count": 23,
   "metadata": {},
   "outputs": [
    {
     "data": {
      "text/plain": [
       "   \n",
       "      0   1\n",
       "  0 232   8\n",
       "  1  32  22"
      ]
     },
     "metadata": {},
     "output_type": "display_data"
    },
    {
     "data": {
      "text/html": [
       "0.863945578231292"
      ],
      "text/latex": [
       "0.863945578231292"
      ],
      "text/markdown": [
       "0.863945578231292"
      ],
      "text/plain": [
       "[1] 0.8639456"
      ]
     },
     "metadata": {},
     "output_type": "display_data"
    }
   ],
   "source": [
    "# 4) Building a linear discriminant model by random split:\n",
    "library(MASS)\n",
    "ldafit<- lda(Attrition~.,data=train)\n",
    "\n",
    "prob_pred<-predict(ldafit,newdata=test)\n",
    "cm<- table(test$Attrition,prob_pred$class)\n",
    "cm\n",
    "accuracy<-sum(diag(cm))/sum(cm)\n",
    "accuracy"
   ]
  },
  {
   "cell_type": "code",
   "execution_count": 22,
   "metadata": {},
   "outputs": [
    {
     "data": {
      "text/plain": [
       "    y_test\n",
       "pred   0   1\n",
       "   0 232  32\n",
       "   1   8  22"
      ]
     },
     "metadata": {},
     "output_type": "display_data"
    },
    {
     "data": {
      "text/html": [
       "0.863945578231292"
      ],
      "text/latex": [
       "0.863945578231292"
      ],
      "text/markdown": [
       "0.863945578231292"
      ],
      "text/plain": [
       "[1] 0.8639456"
      ]
     },
     "metadata": {},
     "output_type": "display_data"
    }
   ],
   "source": [
    "# 4) Building a linear discriminant by cross validation to get a more realistic accuracy:\n",
    "lda.fit = train(Attrition ~ ., data=train, method=\"lda\",\n",
    "                trControl = trainControl(method = \"cv\"))\n",
    "\n",
    "\n",
    "pred <- predict(lda.fit,newdata = test)\n",
    "\n",
    "table(pred,y_test)\n",
    "mean(pred == y_test)"
   ]
  },
  {
   "cell_type": "code",
   "execution_count": 25,
   "metadata": {},
   "outputs": [
    {
     "data": {
      "text/plain": [
       "   decision\n",
       "      0   1\n",
       "  0 226  14\n",
       "  1  37  17"
      ]
     },
     "metadata": {},
     "output_type": "display_data"
    },
    {
     "data": {
      "text/html": [
       "0.826530612244898"
      ],
      "text/latex": [
       "0.826530612244898"
      ],
      "text/markdown": [
       "0.826530612244898"
      ],
      "text/plain": [
       "[1] 0.8265306"
      ]
     },
     "metadata": {},
     "output_type": "display_data"
    },
    {
     "data": {
      "image/png": "[encoded data removed]",
      "text/plain": [
       "Plot with title \"\""
      ]
     },
     "metadata": {},
     "output_type": "display_data"
    }
   ],
   "source": [
    "# 5) Decision tree classification\n",
    "library(rattle)\n",
    "library(rpart.plot)\n",
    "library(RColorBrewer)\n",
    "decision_tree<- rpart(train$Attrition~.,data=train,method='class')\n",
    "fancyRpartPlot(decision_tree)\n",
    "decision<-predict(decision_tree,newdata=test,type='class')\n",
    "cm<-table(test$Attrition,decision)\n",
    "cm\n",
    "accuracy<- sum(diag(cm))/sum(cm)\n",
    "accuracy"
   ]
  },
  {
   "cell_type": "code",
   "execution_count": 26,
   "metadata": {},
   "outputs": [
    {
     "name": "stderr",
     "output_type": "stream",
     "text": [
      "randomForest 4.6-12\n",
      "Type rfNews() to see new features/changes/bug fixes.\n",
      "\n",
      "Attaching package: 'randomForest'\n",
      "\n",
      "The following object is masked from 'package:rattle':\n",
      "\n",
      "    importance\n",
      "\n",
      "The following object is masked from 'package:ggplot2':\n",
      "\n",
      "    margin\n",
      "\n",
      "The following object is masked from 'package:dplyr':\n",
      "\n",
      "    combine\n",
      "\n"
     ]
    },
    {
     "data": {
      "text/plain": [
       "   ensemble\n",
       "      0   1\n",
       "  0 238   2\n",
       "  1  46   8"
      ]
     },
     "metadata": {},
     "output_type": "display_data"
    },
    {
     "data": {
      "text/html": [
       "0.836734693877551"
      ],
      "text/latex": [
       "0.836734693877551"
      ],
      "text/markdown": [
       "0.836734693877551"
      ],
      "text/plain": [
       "[1] 0.8367347"
      ]
     },
     "metadata": {},
     "output_type": "display_data"
    },
    {
     "name": "stdout",
     "output_type": "stream",
     "text": [
      "                        MeanDecreaseGini\n",
      "Age                            18.658964\n",
      "BusinessTravel                  5.040375\n",
      "DailyRate                      17.258864\n",
      "Department                      2.530595\n",
      "DistanceFromHome               14.853348\n",
      "Education                       6.327254\n",
      "EducationField                  8.907316\n",
      "EmployeeNumber                 15.356175\n",
      "EnvironmentSatisfaction         9.400944\n",
      "HourlyRate                     13.853391\n",
      "JobInvolvement                  7.063377\n",
      "JobLevel                        6.029159\n",
      "JobRole                        14.812326\n",
      "JobSatisfaction                 8.681084\n",
      "MaritalStatus                   6.168582\n",
      "MonthlyIncome                  22.861365\n",
      "MonthlyRate                    15.044764\n",
      "NumCompaniesWorked             10.542488\n",
      "OverTime                       13.591928\n",
      "PercentSalaryHike              10.429813\n",
      "PerformanceRating               1.622720\n",
      "StockOptionLevel                7.490353\n",
      "TotalWorkingYears              17.498889\n",
      "TrainingTimesLastYear           7.428680\n",
      "WorkLifeBalance                 9.297854\n",
      "YearsAtCompany                 13.343694\n",
      "YearsInCurrentRole              8.230506\n",
      "YearsSinceLastPromotion         7.086080\n",
      "YearsWithCurrManager            8.863166\n"
     ]
    },
    {
     "data": {
      "image/png": "[encoded data removed]",
      "text/plain": [
       "plot without title"
      ]
     },
     "metadata": {},
     "output_type": "display_data"
    }
   ],
   "source": [
    "# 6) Random forest classification:\n",
    "library(randomForest)\n",
    "RF<- randomForest(Attrition ~ .,data=train, importance=T,ntree=2000)\n",
    "ensemble<- predict(RF,newdata=test)\n",
    "cm<-table(test$Attrition,ensemble)\n",
    "cm\n",
    "accuracy<- sum(diag(cm))/sum(cm)\n",
    "accuracy\n",
    "print(importance(RF,type = 2))\n",
    "varImpPlot(RF)"
   ]
  },
  {
   "cell_type": "code",
   "execution_count": 27,
   "metadata": {},
   "outputs": [
    {
     "data": {
      "text/plain": [
       "   supportvm\n",
       "      0   1\n",
       "  0 240   0\n",
       "  1  51   3"
      ]
     },
     "metadata": {},
     "output_type": "display_data"
    },
    {
     "data": {
      "text/html": [
       "0.826530612244898"
      ],
      "text/latex": [
       "0.826530612244898"
      ],
      "text/markdown": [
       "0.826530612244898"
      ],
      "text/plain": [
       "[1] 0.8265306"
      ]
     },
     "metadata": {},
     "output_type": "display_data"
    }
   ],
   "source": [
    "# 7) Support Vector Machine Classification:\n",
    "library(e1071)\n",
    "model_svm<- svm(Attrition~.,train)\n",
    "supportvm<-predict(model_svm,test)\n",
    "cm<- table(test$Attrition,supportvm)\n",
    "cm\n",
    "accuracy<- sum(diag(cm))/sum(cm)\n",
    "accuracy"
   ]
  },
  {
   "cell_type": "code",
   "execution_count": 28,
   "metadata": {},
   "outputs": [
    {
     "data": {
      "text/plain": [
       "   naiveb\n",
       "      0   1\n",
       "  0 199  41\n",
       "  1  20  34"
      ]
     },
     "metadata": {},
     "output_type": "display_data"
    },
    {
     "data": {
      "text/html": [
       "0.792517006802721"
      ],
      "text/latex": [
       "0.792517006802721"
      ],
      "text/markdown": [
       "0.792517006802721"
      ],
      "text/plain": [
       "[1] 0.792517"
      ]
     },
     "metadata": {},
     "output_type": "display_data"
    }
   ],
   "source": [
    "# 8) Naive Bayes Classification:\n",
    "model_nb<- naiveBayes(Attrition~.,train)\n",
    "naiveb<-predict(model_nb,test)\n",
    "cm<- table(test$Attrition,naiveb)\n",
    "cm\n",
    "accuracy<- sum(diag(cm))/sum(cm)\n",
    "accuracy"
   ]
  },
  {
   "cell_type": "code",
   "execution_count": null,
   "metadata": {},
   "outputs": [],
   "source": []
  }
 ],
 "metadata": {
  "kernelspec": {
   "display_name": "R",
   "language": "R",
   "name": "ir"
  },
  "language_info": {
   "codemirror_mode": "r",
   "file_extension": ".r",
   "mimetype": "text/x-r-source",
   "name": "R",
   "pygments_lexer": "r",
   "version": "3.4.3"
  }
 },
 "nbformat": 4,
 "nbformat_minor": 2
}
